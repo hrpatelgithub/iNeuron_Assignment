{
 "cells": [
  {
   "cell_type": "markdown",
   "id": "8db526ae",
   "metadata": {},
   "source": [
    "# 1. What does an empty dictionary's code look like?"
   ]
  },
  {
   "cell_type": "raw",
   "id": "53f01ed0",
   "metadata": {},
   "source": [
    "Ans-1> \n",
    "dic={}"
   ]
  },
  {
   "cell_type": "markdown",
   "id": "50aa0e0c",
   "metadata": {},
   "source": [
    "# 2.What is the value of a dictionary value with the key 'foo' and the value 42?"
   ]
  },
  {
   "cell_type": "raw",
   "id": "036c3e15",
   "metadata": {},
   "source": [
    "Ans-2>\n",
    "The value of a dictionary value with the key 'foo' and the value 42 is [42]\n"
   ]
  },
  {
   "cell_type": "markdown",
   "id": "19d19a89",
   "metadata": {},
   "source": [
    "# 3. What is the most significant distinction between a dictionary and a list?"
   ]
  },
  {
   "cell_type": "raw",
   "id": "d0a7cff8",
   "metadata": {},
   "source": [
    "Ans-3> Most significant difference:\n",
    "       List - items in list are Ordered and it is contained of idividual elements\n",
    "       Dictionary : iten in dictionary are unordered and has a key value pair as one entity\n"
   ]
  },
  {
   "cell_type": "markdown",
   "id": "965cf5dc",
   "metadata": {},
   "source": [
    "# 4. What happens if you try to access spam['foo'] if spam is {'bar': 100}?"
   ]
  },
  {
   "cell_type": "raw",
   "id": "572210a0",
   "metadata": {},
   "source": [
    "Ans-4> \n",
    "This will give us Keyerror"
   ]
  },
  {
   "cell_type": "markdown",
   "id": "8470b715",
   "metadata": {},
   "source": [
    "# 5. If a dictionary is stored in spam, what is the difference between the expressions 'cat' in spam and 'cat' in spam.keys()?"
   ]
  },
  {
   "cell_type": "raw",
   "id": "e48ed6bc",
   "metadata": {},
   "source": [
    "Ans-5>\n",
    "There is nothing difference between expressions 'cat' in spam and 'cat' in spam.keys(),both return True"
   ]
  },
  {
   "cell_type": "code",
   "execution_count": 4,
   "id": "f030285a",
   "metadata": {},
   "outputs": [
    {
     "data": {
      "text/plain": [
       "True"
      ]
     },
     "execution_count": 4,
     "metadata": {},
     "output_type": "execute_result"
    }
   ],
   "source": [
    "spam ={'cat':25}\n",
    "'cat' in spam"
   ]
  },
  {
   "cell_type": "code",
   "execution_count": 6,
   "id": "17b49b1d",
   "metadata": {},
   "outputs": [
    {
     "data": {
      "text/plain": [
       "True"
      ]
     },
     "execution_count": 6,
     "metadata": {},
     "output_type": "execute_result"
    }
   ],
   "source": [
    "spam.keys()\n",
    "'cat' in spam.keys()"
   ]
  },
  {
   "cell_type": "markdown",
   "id": "30782bf3",
   "metadata": {},
   "source": [
    "# 6. If a dictionary is stored in spam, what is the difference between the expressions 'cat' in spam and 'cat' in spam.values()?"
   ]
  },
  {
   "cell_type": "raw",
   "id": "176d3ff0",
   "metadata": {},
   "source": [
    "Ans-6>  cat' in spam checks whether there is a 'cat' key in the dictionary\n",
    "       'cat' in spam.values() checks whether there is a value 'cat' in the dictionary"
   ]
  },
  {
   "cell_type": "markdown",
   "id": "1ac8ed6a",
   "metadata": {},
   "source": [
    "# 7. What is a shortcut for the following code?"
   ]
  },
  {
   "cell_type": "raw",
   "id": "96ad7a3a",
   "metadata": {},
   "source": [
    "Ans-7>\n",
    "with the keyword setdefault(), which Inserts key with a value of default if key is not in the dictionary"
   ]
  },
  {
   "cell_type": "markdown",
   "id": "ce5a1048",
   "metadata": {},
   "source": [
    "# 8. How do you 'pretty print' dictionary values using which module and function?"
   ]
  },
  {
   "cell_type": "raw",
   "id": "9b041cc4",
   "metadata": {},
   "source": [
    "Ans-8>with the help of pprint.pprint(dir_name).\n",
    "      It is use to present something in a more readable format or style"
   ]
  }
 ],
 "metadata": {
  "kernelspec": {
   "display_name": "Python 3 (ipykernel)",
   "language": "python",
   "name": "python3"
  },
  "language_info": {
   "codemirror_mode": {
    "name": "ipython",
    "version": 3
   },
   "file_extension": ".py",
   "mimetype": "text/x-python",
   "name": "python",
   "nbconvert_exporter": "python",
   "pygments_lexer": "ipython3",
   "version": "3.9.13"
  }
 },
 "nbformat": 4,
 "nbformat_minor": 5
}
