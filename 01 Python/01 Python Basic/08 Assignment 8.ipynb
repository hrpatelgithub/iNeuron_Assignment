{
 "cells": [
  {
   "cell_type": "markdown",
   "id": "dc940681",
   "metadata": {},
   "source": [
    "# 1. Is the Python Standard Library included with PyInputPlus?"
   ]
  },
  {
   "cell_type": "raw",
   "id": "f7eeaa31",
   "metadata": {},
   "source": [
    "Ans: Python Standard Library not included with PyInputPlus,we need to install PyInputPlus with command \"pip install        \n",
    "     PyInputPlus\""
   ]
  },
  {
   "cell_type": "markdown",
   "id": "21a807b0",
   "metadata": {},
   "source": [
    "# 2. Why is PyInputPlus commonly imported with import pyinputplus as pypi?"
   ]
  },
  {
   "cell_type": "raw",
   "id": "c4081d1b",
   "metadata": {},
   "source": [
    "Ans: pypi is alias of PyInputPlus. The as pypi code in the import statement saves us from typing\n",
    "     pyinputplus each time we want to call a PyInputPlus function. Instead of PyInputPluswe can use the shorter pypi name."
   ]
  },
  {
   "cell_type": "markdown",
   "id": "15662f5b",
   "metadata": {},
   "source": [
    "# 3. How do you distinguish between inputInt() and inputFloat()?"
   ]
  },
  {
   "cell_type": "code",
   "execution_count": null,
   "id": "19dcc2ff",
   "metadata": {},
   "outputs": [],
   "source": [
    "Ans:\n",
    "    inputInt() : Accepts an integer value, and returns int value\n",
    "    inputFloat() : Accepts integer/floating point value and returns float value"
   ]
  },
  {
   "cell_type": "markdown",
   "id": "e3be47df",
   "metadata": {},
   "source": [
    "# 4. Using PyInputPlus, how do you ensure that the user enters a whole number between 0 and 99?"
   ]
  },
  {
   "cell_type": "raw",
   "id": "43cad7b8",
   "metadata": {},
   "source": [
    "Ans:\n",
    "    We can use below code to ensure that the user enters a whole number between 0 and 99:\n",
    "    pyip.inputInt(min = 0, max =99)    "
   ]
  },
  {
   "cell_type": "markdown",
   "id": "789465d7",
   "metadata": {},
   "source": [
    "# 5. What is transferred to the keyword arguments allowRegexes and blockRegexes?"
   ]
  },
  {
   "cell_type": "raw",
   "id": "5110a3b1",
   "metadata": {},
   "source": [
    "Ans:\n",
    "    we can use allowRegexes and blockRegexes keyword arguments to take list of regular expression strings to determine\n",
    "    what the pyinputplus function will reject or accept valid input."
   ]
  },
  {
   "cell_type": "markdown",
   "id": "79a5f2ac",
   "metadata": {},
   "source": [
    "# 6. If a blank input is entered three times, what does inputStr(limit=3) do?"
   ]
  },
  {
   "cell_type": "raw",
   "id": "6d5f2cc6",
   "metadata": {},
   "source": [
    "Ans: \n",
    "    It will error as  RetryLimitException exception."
   ]
  },
  {
   "cell_type": "markdown",
   "id": "cc827d98",
   "metadata": {},
   "source": [
    "# 7. If blank input is entered three times, what does inputStr(limit=3, ;hello) do?"
   ]
  },
  {
   "cell_type": "code",
   "execution_count": null,
   "id": "50972b69",
   "metadata": {},
   "outputs": [],
   "source": [
    "Ans:\n",
    "    Instead of raising RetryLimitException, the inputNum() function simply returns the string 'hello'.\n",
    "\n",
    " "
   ]
  },
  {
   "cell_type": "code",
   "execution_count": null,
   "id": "e8ce19a2",
   "metadata": {},
   "outputs": [],
   "source": []
  }
 ],
 "metadata": {
  "kernelspec": {
   "display_name": "Python 3 (ipykernel)",
   "language": "python",
   "name": "python3"
  },
  "language_info": {
   "codemirror_mode": {
    "name": "ipython",
    "version": 3
   },
   "file_extension": ".py",
   "mimetype": "text/x-python",
   "name": "python",
   "nbconvert_exporter": "python",
   "pygments_lexer": "ipython3",
   "version": "3.9.13"
  }
 },
 "nbformat": 4,
 "nbformat_minor": 5
}
