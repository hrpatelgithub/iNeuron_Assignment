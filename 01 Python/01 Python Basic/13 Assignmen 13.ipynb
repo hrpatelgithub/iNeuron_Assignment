{
 "cells": [
  {
   "cell_type": "markdown",
   "id": "02575a0b",
   "metadata": {},
   "source": [
    "# 1. What advantages do Excel spreadsheets have over CSV spreadsheets?"
   ]
  },
  {
   "cell_type": "raw",
   "id": "9f9fd886",
   "metadata": {},
   "source": [
    "Ans:\n",
    "    The Advantages of Excel over CSV are:\n",
    "1.Excel (XLS and XLSX) file formats are better for storing and analysing complex data.\n",
    "2.An Excel not only stores data but can also do operations on the data using macros, formulas etc\n",
    "3.CSV files are plain-text files, Does not contain formatting, formulas, macros, etc. It is also known as flat files"
   ]
  },
  {
   "cell_type": "markdown",
   "id": "ad48aaf3",
   "metadata": {},
   "source": [
    "# 2.What do you pass to csv.reader() and csv.writer() to create reader and writer objects?"
   ]
  },
  {
   "cell_type": "raw",
   "id": "0f797d17",
   "metadata": {},
   "source": [
    "Ans:\n",
    "  To write a CSV file with the csv module, First, call open() and pass it 'w' to open a file in write mode, and it create a \n",
    "object .That object pass in csv.writer()\n",
    "\n",
    "write_file = open('filename.csv','w')\n",
    "Writer = csv.writer(write_file)\n",
    "\n",
    " To read a CSV file with the csv module, first open it using the open() function and it create a object .That object pass in csv.reader()\n",
    "\n",
    "read_file = open('filename.csv')\n",
    "Reader = csv.reader(read_file)"
   ]
  },
  {
   "cell_type": "markdown",
   "id": "9882301c",
   "metadata": {},
   "source": [
    "# 3. What modes do File objects for reader and writer objects need to be opened in?"
   ]
  },
  {
   "cell_type": "raw",
   "id": "711e9145",
   "metadata": {},
   "source": [
    "Ans:\n",
    "    For csv.reader(iterable_file_object), the file objects needed to be opened in read mode mode='r' Whereas for csv.writer(iterable_file_object) the file objects needed to be opened in write mode mode='w'"
   ]
  },
  {
   "cell_type": "markdown",
   "id": "080ef71e",
   "metadata": {},
   "source": [
    "# 4. What method takes a list argument and writes it to a CSV file?"
   ]
  },
  {
   "cell_type": "raw",
   "id": "bb52f775",
   "metadata": {},
   "source": [
    "Ans:\n",
    "    csv.writer class provides two methods for writing to CSV. They are writerow() and writerows(). writerow() method writes a single row at a time. Whereas writerows() method is used to write multiple rows at a time.\n",
    "\n",
    "#Example\n",
    "write_file = open('filename.csv','w')\n",
    "\n",
    "Writer = csv.writer(write_file)\n",
    "\n",
    "Writer.writerow(['India','Gujarat','Anand'])"
   ]
  },
  {
   "cell_type": "markdown",
   "id": "e7234368",
   "metadata": {},
   "source": [
    "# 5. What do the keyword arguments delimiter and line terminator do?"
   ]
  },
  {
   "cell_type": "raw",
   "id": "bcb5d6bc",
   "metadata": {},
   "source": [
    "Ans:\n",
    "    Lets take the example of a csv file:\n",
    " Name, Addresh, mobile_no\n",
    "Harsh, Anand, 704693**\n",
    "Deep ,Umreth, 98790250**\n",
    "Here ',' is Delimiter. We can use any Character as per our needs if required. Similarly Line Terminator comes at end of line by default it is newline and can be changed accourding to Requirement."
   ]
  },
  {
   "cell_type": "markdown",
   "id": "3fe933ab",
   "metadata": {},
   "source": [
    "# 6. What function takes a string of JSON data and returns a Python data structure?"
   ]
  },
  {
   "cell_type": "raw",
   "id": "a89103af",
   "metadata": {},
   "source": [
    "Ans:\n",
    "    json.loads() function takes a string of JSON data and returns a Python data structure"
   ]
  },
  {
   "cell_type": "markdown",
   "id": "32cd7230",
   "metadata": {},
   "source": [
    "# 7. What function takes a Python data structure and returns a string of JSON data?"
   ]
  },
  {
   "cell_type": "raw",
   "id": "35d1d6ef",
   "metadata": {},
   "source": [
    "Ans:\n",
    "    json.dumps() method takes a python data structure and returns a string of JSON data"
   ]
  }
 ],
 "metadata": {
  "kernelspec": {
   "display_name": "Python 3 (ipykernel)",
   "language": "python",
   "name": "python3"
  },
  "language_info": {
   "codemirror_mode": {
    "name": "ipython",
    "version": 3
   },
   "file_extension": ".py",
   "mimetype": "text/x-python",
   "name": "python",
   "nbconvert_exporter": "python",
   "pygments_lexer": "ipython3",
   "version": "3.11.5"
  }
 },
 "nbformat": 4,
 "nbformat_minor": 5
}
