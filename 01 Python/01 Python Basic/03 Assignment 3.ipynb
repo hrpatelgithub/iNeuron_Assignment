{
 "cells": [
  {
   "cell_type": "markdown",
   "id": "b2a5adc7",
   "metadata": {},
   "source": [
    "# 1. Why are functions advantageous to have in your programs?"
   ]
  },
  {
   "cell_type": "markdown",
   "id": "e763d2c5",
   "metadata": {},
   "source": [
    "#Ans-1>\n",
    "The advantage of function is that we can reuse code it easy and make programme short also easy to read,write."
   ]
  },
  {
   "cell_type": "markdown",
   "id": "7a3a3623",
   "metadata": {},
   "source": [
    "# 2. When does the code in a function run: when it's specified or when it's called?"
   ]
  },
  {
   "cell_type": "raw",
   "id": "861a667f",
   "metadata": {},
   "source": [
    "#Ans-2>\n",
    "The code in function is run when it is called by function name\n",
    "Ex-my_function()"
   ]
  },
  {
   "cell_type": "markdown",
   "id": "46a86d24",
   "metadata": {},
   "source": [
    "# 3. What statement creates a function?"
   ]
  },
  {
   "cell_type": "raw",
   "id": "5aa1c8ba",
   "metadata": {},
   "source": [
    "#Ans-3>\n",
    "def keyword create a function.\n",
    "ex- def my_function():\n",
    "            print(\"Ok\")"
   ]
  },
  {
   "cell_type": "markdown",
   "id": "2ca57ebe",
   "metadata": {},
   "source": [
    "# 4. What is the difference between a function and a function call?"
   ]
  },
  {
   "cell_type": "raw",
   "id": "5628f136",
   "metadata": {},
   "source": [
    "#Ans-4>\n",
    "A function is piece of code which help to reuse to code \n",
    "A function call is calling functioin to achive the task. \n"
   ]
  },
  {
   "cell_type": "markdown",
   "id": "365523a3",
   "metadata": {},
   "source": [
    "# 5. How many global scopes are there in a Python program? How many local scopes?"
   ]
  },
  {
   "cell_type": "raw",
   "id": "81c0a147",
   "metadata": {},
   "source": [
    "#Ans-5>\n",
    "In python programn there is only one Global scope which is create at srating of program, there is many Local scope in side the program"
   ]
  },
  {
   "cell_type": "markdown",
   "id": "ef07512a",
   "metadata": {},
   "source": [
    "# 7. What is the concept of a return value? Is it possible to have a return value in an expression?"
   ]
  },
  {
   "cell_type": "raw",
   "id": "57b670f0",
   "metadata": {},
   "source": [
    "#Ans-7>\n",
    "return value is a special statement in a function which is used to sent result to caller who called function.\n",
    "yes it is possible to have return value in an expression."
   ]
  },
  {
   "cell_type": "markdown",
   "id": "bdafd88b",
   "metadata": {},
   "source": [
    "# 8. If a function does not have a return statement, what is the return value of a call to that function?\n",
    "it doesnt return any particular value"
   ]
  },
  {
   "cell_type": "raw",
   "id": "550316cd",
   "metadata": {},
   "source": [
    "#Ans-8>\n",
    "If a function does not have a return statement,it is not return any/particular value"
   ]
  },
  {
   "cell_type": "markdown",
   "id": "a0da179d",
   "metadata": {},
   "source": [
    "# 9. How do you make a function variable refer to the global variable?"
   ]
  },
  {
   "cell_type": "raw",
   "id": "631f6eba",
   "metadata": {},
   "source": [
    "#Ans-9>\n",
    "With the help of keyword globla i make a function variable refer to the global variable.\n"
   ]
  },
  {
   "cell_type": "markdown",
   "id": "5bd01543",
   "metadata": {},
   "source": [
    "# 10. What is the data type of None?"
   ]
  },
  {
   "cell_type": "raw",
   "id": "38af7578",
   "metadata": {},
   "source": [
    "#Ans-10>\n",
    "Type of None is Nonetype i.e it is null neither Zero nor any other value"
   ]
  },
  {
   "cell_type": "markdown",
   "id": "a9dc1150",
   "metadata": {},
   "source": [
    "# 11. What does the sentence import areallyourpetsnamederic do?"
   ]
  },
  {
   "cell_type": "raw",
   "id": "8f23c0f8",
   "metadata": {},
   "source": [
    "#Ans-11>\n",
    "it will import areallyourpetnamederic module."
   ]
  },
  {
   "cell_type": "markdown",
   "id": "3714d066",
   "metadata": {},
   "source": [
    "# 12. If you had a bacon() feature in a spam module, what would you call it after importing spam?"
   ]
  },
  {
   "cell_type": "raw",
   "id": "9c27e09c",
   "metadata": {},
   "source": [
    "#Ans-12>\n",
    "spam.bacon()"
   ]
  },
  {
   "cell_type": "markdown",
   "id": "4537adf7",
   "metadata": {},
   "source": [
    "# 13. What can you do to save a programme from crashing if it encounters an error?"
   ]
  },
  {
   "cell_type": "raw",
   "id": "bb0638d5",
   "metadata": {},
   "source": [
    "#Ans-13>\n",
    "I will use try:and excpet: to save a programme from crashing"
   ]
  },
  {
   "cell_type": "markdown",
   "id": "6eb8dde0",
   "metadata": {},
   "source": [
    "# 14. What is the purpose of the try clause? What is the purpose of the except clause?"
   ]
  },
  {
   "cell_type": "raw",
   "id": "9c545b2f",
   "metadata": {},
   "source": [
    "#Ans-14>\n",
    "TRY CLAUSE: try clause is used when you think that program can crash so you try to run the program and it crashes it wont disturb other part of program\n",
    "EXCEPT CLAUSE: except clause is used when you are trying a certain part of program but it fails so it used as a response to exceptio"
   ]
  }
 ],
 "metadata": {
  "kernelspec": {
   "display_name": "Python 3 (ipykernel)",
   "language": "python",
   "name": "python3"
  },
  "language_info": {
   "codemirror_mode": {
    "name": "ipython",
    "version": 3
   },
   "file_extension": ".py",
   "mimetype": "text/x-python",
   "name": "python",
   "nbconvert_exporter": "python",
   "pygments_lexer": "ipython3",
   "version": "3.9.13"
  }
 },
 "nbformat": 4,
 "nbformat_minor": 5
}
