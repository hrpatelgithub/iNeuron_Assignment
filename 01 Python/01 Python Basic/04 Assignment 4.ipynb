{
 "cells": [
  {
   "cell_type": "markdown",
   "id": "8c185ae0",
   "metadata": {},
   "source": [
    "# 1. What exactly is []?"
   ]
  },
  {
   "cell_type": "code",
   "execution_count": null,
   "id": "4e580a2d",
   "metadata": {},
   "outputs": [],
   "source": [
    " [] is datatype of list"
   ]
  },
  {
   "cell_type": "markdown",
   "id": "b4ea1c85",
   "metadata": {},
   "source": [
    "# 2. In a list of values stored in a variable called spam, how would you assign the value 'hello' as the third value?(Assume [2, 4, 6, 8, 10] are in spam.)"
   ]
  },
  {
   "cell_type": "code",
   "execution_count": 2,
   "id": "b2623636",
   "metadata": {},
   "outputs": [
    {
     "data": {
      "text/plain": [
       "[2, 4, 'hello', 8, 10]"
      ]
     },
     "execution_count": 2,
     "metadata": {},
     "output_type": "execute_result"
    }
   ],
   "source": [
    "spam=[2, 4, 6, 8, 10]\n",
    "spam[2]='hello'\n",
    "spam"
   ]
  },
  {
   "cell_type": "markdown",
   "id": "eadb242d",
   "metadata": {},
   "source": [
    "# Let's pretend the spam includes the list ['a', 'b', 'c', 'd'] for the next three queries.\n",
    "\n",
    "\n"
   ]
  },
  {
   "cell_type": "markdown",
   "id": "f7f07d61",
   "metadata": {},
   "source": [
    "3.What is the value of spam [int(int('3' * 2) / 11)]?"
   ]
  },
  {
   "cell_type": "raw",
   "id": "f3d44fb9",
   "metadata": {},
   "source": [
    "The value of spam[int(int('3' * 2) / 11)] is 'd'"
   ]
  },
  {
   "cell_type": "markdown",
   "id": "96d16133",
   "metadata": {},
   "source": [
    "4.What is the value of spam [-1]?"
   ]
  },
  {
   "cell_type": "raw",
   "id": "b4b277f3",
   "metadata": {},
   "source": [
    "The value of spam[-1] is 'd'\n"
   ]
  },
  {
   "cell_type": "markdown",
   "id": "bb6f98bf",
   "metadata": {},
   "source": [
    "5.What is the value of spam [:2]?"
   ]
  },
  {
   "cell_type": "raw",
   "id": "c9a7f0b4",
   "metadata": {},
   "source": [
    "The value of [:2] is ['a', 'b']."
   ]
  },
  {
   "cell_type": "markdown",
   "id": "c74998b5",
   "metadata": {},
   "source": [
    "# Let's pretend bacon has the list [3.14, 'cat,' 11, 'cat,' True] for the next three questions."
   ]
  },
  {
   "cell_type": "markdown",
   "id": "cb3b3d1f",
   "metadata": {},
   "source": [
    "6.What is the value of bacon.index('cat')?"
   ]
  },
  {
   "cell_type": "raw",
   "id": "efb241f0",
   "metadata": {},
   "source": [
    "The value of bacon.index('cat') is 1."
   ]
  },
  {
   "cell_type": "raw",
   "id": "1a6fddfe",
   "metadata": {},
   "source": [
    "7.How does bacon.append(99) change the look of the list value in bacon"
   ]
  },
  {
   "cell_type": "raw",
   "id": "dd22c63a",
   "metadata": {},
   "source": [
    " Due to bacon.append(99) change is  [3.14, 'cat', 11, 'cat', True, 99]"
   ]
  },
  {
   "cell_type": "code",
   "execution_count": null,
   "id": "f4f72384",
   "metadata": {},
   "outputs": [],
   "source": [
    "8.How does bacon.remove('cat') change the look of the list in bacon?"
   ]
  },
  {
   "cell_type": "raw",
   "id": "5b2a7d02",
   "metadata": {},
   "source": [
    " Due to bacon.remove('cat') change is [3.14, 11, True, 99]\n"
   ]
  },
  {
   "cell_type": "markdown",
   "id": "a9a3674a",
   "metadata": {},
   "source": [
    "# 9. What are the list concatenation and list replication operators?"
   ]
  },
  {
   "cell_type": "raw",
   "id": "ea93ab90",
   "metadata": {},
   "source": [
    "# The operator for list concatenation is + , while the operator for replication is *.\n",
    "When + appears between two lists, the expression will be evaluated as a new list that contains the elements from both lists.\n",
    "when *x appears use,the expression will be evaluated as a new list that contains the elements x times.\n",
    "#example of list concatenation:\n",
    "    l1=[1,2,3,4,5,6]\n",
    "    l2=[2,4,6,8,10]\n",
    "    l1+l2\n",
    "    output:[1, 2, 3, 4, 5, 6, 2, 4, 6, 8, 10]\n",
    "   \n",
    "#Example of list relpication\n",
    "    l1=[1,2,3,4,5,6]\n",
    "    l1*2\n",
    "    output:[1, 2, 3, 4, 5, 6, 1, 2, 3, 4, 5, 6]\n"
   ]
  },
  {
   "cell_type": "markdown",
   "id": "f157f280",
   "metadata": {},
   "source": [
    "# 10. What is difference between the list methods append() and insert()?"
   ]
  },
  {
   "cell_type": "raw",
   "id": "6d9035c2",
   "metadata": {},
   "source": [
    "#Append  add element to the end of list,while insert add element at particular index/position.\n",
    "#example of append:\n",
    "    bacon=[3.14, 'cat', 11, 'cat', True]\n",
    "    bacon.append('harsh')\n",
    "    bacon\n",
    "    OUTPUT:[3.14, 'cat', 11, 'cat', True, 'harsh']\n",
    "#Example os insert:\n",
    "    bacon=[3.14, 'cat', 11, 'cat', True]\n",
    "    bacon.insert(0,'Harsh',)\n",
    "    bacon\n",
    "    OUTPUT:['Harsh', 3.14, 'cat', 11, 'cat', True]"
   ]
  },
  {
   "cell_type": "markdown",
   "id": "d17fcfb6",
   "metadata": {},
   "source": [
    "# 11. What are the two methods for removing items from a list?"
   ]
  },
  {
   "cell_type": "raw",
   "id": "ed6fd41b",
   "metadata": {},
   "source": [
    "#Two methods for removing items from a list\n",
    "    1.pop()\n",
    "    2.remove() \n",
    "    \n",
    "1.pop(): it is remove element of list by index number\n",
    "example:\n",
    "        bacon=['Harsh', 3.14, 'cat', 11, 'cat', True]\n",
    "        bacon.pop(2)\n",
    "        bacon\n",
    "       # output:['Harsh', 3.14, 11, 'cat', True]\n",
    "2.remove():it is remove element of list by value\n",
    "example:bacon=['Harsh', 3.14, 'cat', 11, 'cat', True]\n",
    "        bacon.remove(3.14)\n",
    "        bacon\n",
    "        #output:['Harsh', 'cat', 11, 'cat', True]"
   ]
  },
  {
   "cell_type": "markdown",
   "id": "233abdc9",
   "metadata": {},
   "source": [
    "# 12. Describe how list values and string values are identical."
   ]
  },
  {
   "cell_type": "raw",
   "id": "e474c134",
   "metadata": {},
   "source": [
    "Both list and string are ordered collection of elements except in list it can contain different data types."
   ]
  },
  {
   "cell_type": "markdown",
   "id": "e5b747b6",
   "metadata": {},
   "source": [
    "# 13. What's the difference between tuples and lists?"
   ]
  },
  {
   "cell_type": "raw",
   "id": "7536f41e",
   "metadata": {},
   "source": [
    "#list are muteable but tuples are immuteable which means we can reassign,add,delete elements in list which we cannot do in tuples."
   ]
  },
  {
   "cell_type": "markdown",
   "id": "87b6863a",
   "metadata": {},
   "source": [
    "# 14. How do you type a tuple value that only contains the integer 42?"
   ]
  },
  {
   "cell_type": "raw",
   "id": "362dac1d",
   "metadata": {},
   "source": [
    "tuple value that only contains the integer 42 is type as a=(42)"
   ]
  },
  {
   "cell_type": "markdown",
   "id": "b74b7197",
   "metadata": {},
   "source": [
    "# 15. How do you get a list value's tuple form? How do you get a tuple value's list form?"
   ]
  },
  {
   "cell_type": "raw",
   "id": "bebe5b91",
   "metadata": {},
   "source": [
    "#a list value's tuple form\n",
    "a=[1,2,3,4,5,6]\n",
    "tuple(a)\n",
    "#a tuple value's list form\n",
    "b=(1,2,3)\n",
    "list(b)"
   ]
  },
  {
   "cell_type": "markdown",
   "id": "8fb809b9",
   "metadata": {},
   "source": [
    "# 16. Variables that \"contain\" list values are not necessarily lists themselves. Instead, what do they contain?"
   ]
  },
  {
   "cell_type": "raw",
   "id": "710566a0",
   "metadata": {},
   "source": [
    "They contain references to list values"
   ]
  },
  {
   "cell_type": "markdown",
   "id": "7520bd2f",
   "metadata": {},
   "source": [
    "# 17. How do you distinguish between copy.copy() and copy.deepcopy()?"
   ]
  },
  {
   "cell_type": "raw",
   "id": "216fa8fa",
   "metadata": {},
   "source": [
    "The copy.copy() function will do a shallow copy of a list and deepcopy does not change original object if in future we  change deepcopied object \n",
    "The copy.deepcopy() function will do a deep copy of a list. only copy.deepcopy() will duplicate any lists inside the \n",
    "list and original object changes with copy()"
   ]
  },
  {
   "cell_type": "code",
   "execution_count": null,
   "id": "222bd988",
   "metadata": {},
   "outputs": [],
   "source": []
  },
  {
   "cell_type": "code",
   "execution_count": null,
   "id": "d14f697f",
   "metadata": {},
   "outputs": [],
   "source": []
  }
 ],
 "metadata": {
  "kernelspec": {
   "display_name": "Python 3 (ipykernel)",
   "language": "python",
   "name": "python3"
  },
  "language_info": {
   "codemirror_mode": {
    "name": "ipython",
    "version": 3
   },
   "file_extension": ".py",
   "mimetype": "text/x-python",
   "name": "python",
   "nbconvert_exporter": "python",
   "pygments_lexer": "ipython3",
   "version": "3.9.13"
  }
 },
 "nbformat": 4,
 "nbformat_minor": 5
}
