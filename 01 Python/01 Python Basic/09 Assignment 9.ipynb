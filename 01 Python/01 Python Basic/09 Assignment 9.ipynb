{
 "cells": [
  {
   "cell_type": "markdown",
   "id": "9313f21b",
   "metadata": {},
   "source": [
    "# 1.To what does a relative path refer?"
   ]
  },
  {
   "cell_type": "markdown",
   "id": "788ea714",
   "metadata": {},
   "source": [
    "A relative path shows current working directory path.\n"
   ]
  },
  {
   "cell_type": "markdown",
   "id": "2f949d58",
   "metadata": {},
   "source": [
    "# 2. What does an absolute path start with your operating system?"
   ]
  },
  {
   "cell_type": "markdown",
   "id": "87588f7d",
   "metadata": {},
   "source": [
    "An absolute path refers to the complete details needed to locate a file or folder,\n",
    "starting from the root element and ending with the other subdirectories.\n",
    "Absolute paths are used in websites and operating systems for locating files and folders.\n",
    "\n",
    "An absolute path is also known as an absolute pathname or full path.\n",
    "Ex:D\\Data science\\Assigment 9.py"
   ]
  },
  {
   "cell_type": "markdown",
   "id": "d74884f4",
   "metadata": {},
   "source": [
    "# 3. What do the functions os.getcwd() and os.chdir() do?"
   ]
  },
  {
   "cell_type": "markdown",
   "id": "e87c9fc5",
   "metadata": {},
   "source": [
    "os.getcwd() : This function allows you to see what your current working directory .\n",
    "os.chdir() : This function Change the current working directory to the specified path mentiomed."
   ]
  },
  {
   "cell_type": "markdown",
   "id": "c03d08a0",
   "metadata": {},
   "source": [
    "# 4. What are the . and .. folders?"
   ]
  },
  {
   "cell_type": "markdown",
   "id": "4e7e05a1",
   "metadata": {},
   "source": [
    "These are not real folder but are special names for path\n",
    "(.) = this directory\n",
    "(..)= parent directory"
   ]
  },
  {
   "cell_type": "markdown",
   "id": "a6d27854",
   "metadata": {},
   "source": [
    "# 5. In C:\\bacon\\eggs\\spam.txt, which part is the dir name, and which part is the base name?"
   ]
  },
  {
   "cell_type": "markdown",
   "id": "d24c810b",
   "metadata": {},
   "source": [
    "dir name = C:\\bacon\\eggs\n",
    "base (or file) name = spam.txt"
   ]
  },
  {
   "cell_type": "markdown",
   "id": "92f0fba2",
   "metadata": {},
   "source": [
    "# 6. What are the three “mode” arguments that can be passed to the open() function?"
   ]
  },
  {
   "cell_type": "markdown",
   "id": "f705b80b",
   "metadata": {},
   "source": [
    "# Three mode arguments are:\n",
    "\n",
    "1. 'r' --> open for reading in text mode.\n",
    "2. 'w' --> open for writing.\n",
    "3. 'a' --> open for appending."
   ]
  },
  {
   "cell_type": "markdown",
   "id": "79d8e8ba",
   "metadata": {},
   "source": [
    "# 7. What happens if an existing file is opened in write mode?"
   ]
  },
  {
   "cell_type": "markdown",
   "id": "35c89101",
   "metadata": {},
   "source": [
    "An existing file opened in write mode is erased and completely overwritten."
   ]
  },
  {
   "cell_type": "markdown",
   "id": "2ea89300",
   "metadata": {},
   "source": [
    "# 8. How do you tell the difference between read() and readlines()?"
   ]
  },
  {
   "cell_type": "markdown",
   "id": "0b4e620f",
   "metadata": {},
   "source": [
    "The read() method returns the file's entire contents as a single string value.\n",
    "The readlines() method returns a list of strings, where each string is a line from the file's contents."
   ]
  },
  {
   "cell_type": "markdown",
   "id": "66fdc465",
   "metadata": {},
   "source": [
    "# 9. What data structure does a shelf value resemble?"
   ]
  },
  {
   "cell_type": "markdown",
   "id": "a0321be1",
   "metadata": {},
   "source": [
    "A shelf value resembles a dictionary value; it has keys and values, along with keys() and values() methods that work similarly"
   ]
  }
 ],
 "metadata": {
  "kernelspec": {
   "display_name": "Python 3 (ipykernel)",
   "language": "python",
   "name": "python3"
  },
  "language_info": {
   "codemirror_mode": {
    "name": "ipython",
    "version": 3
   },
   "file_extension": ".py",
   "mimetype": "text/x-python",
   "name": "python",
   "nbconvert_exporter": "python",
   "pygments_lexer": "ipython3",
   "version": "3.11.5"
  }
 },
 "nbformat": 4,
 "nbformat_minor": 5
}
