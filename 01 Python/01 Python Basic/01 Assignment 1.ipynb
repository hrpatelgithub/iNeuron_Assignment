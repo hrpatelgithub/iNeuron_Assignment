{
 "cells": [
  {
   "cell_type": "raw",
   "id": "92384651",
   "metadata": {},
   "source": [
    "answer-1>\n",
    " value are as belows:\n",
    "  'hello','-87.8','6'\n",
    " expressions are as belows:\n",
    "   '*', '-' ,'/', '+'\n"
   ]
  },
  {
   "cell_type": "raw",
   "id": "26fbd0c2",
   "metadata": {},
   "source": [
    "answer-2>\n",
    "string is data type which collection of An alphabets, while variable is store data in main memory which is any data type like alphabets,float number,complex number,number"
   ]
  },
  {
   "cell_type": "raw",
   "id": "16aebeda",
   "metadata": {},
   "source": [
    "answer3>\n",
    "data type\n",
    "1> string(str)-A data type which is collection of An alphabets is known as srting dat type. \n",
    "  e,g- 'Harsh','data science'\n",
    "   which is always in ' ' or \" \".\n",
    "2> interger(int) - A data tpe which conatins whole numbers is konws as integers data type.\n",
    "   e.g- 1 , 2 , 3 , 0 ,-1\n",
    ",-100 ..\n",
    "3>float- a data type which is repesent the floating number is knows as Float data type.\n",
    "  e.g- 10.10, 10.24, 420.85400\n",
    "  \n",
    "    \n",
    "    "
   ]
  },
  {
   "cell_type": "raw",
   "id": "10ca3d34",
   "metadata": {},
   "source": [
    "answer-4>\n",
    "All Expression can return the value corresponding mathematically"
   ]
  },
  {
   "cell_type": "raw",
   "id": "f131cfbd",
   "metadata": {},
   "source": [
    "answer 5>\n",
    "expession return the value while statement does not return the value and no give any  output."
   ]
  },
  {
   "cell_type": "raw",
   "id": "759b621c",
   "metadata": {},
   "source": [
    "answer 6>\n",
    "    23"
   ]
  },
  {
   "cell_type": "raw",
   "id": "6e9313f4",
   "metadata": {},
   "source": [
    "answer-7>\n",
    "'spam'+'spamspam'= 'spamspamspam'   \n",
    "'spam'*3 = 'spamspamspam'\n"
   ]
  },
  {
   "cell_type": "raw",
   "id": "d07fa165",
   "metadata": {},
   "source": [
    "answer-8>\n",
    "variable is start with  alphabtes or underscore(_) so egges a valid variable name while 100 is invalid\n",
    "variable never start with number."
   ]
  },
  {
   "cell_type": "raw",
   "id": "07456504",
   "metadata": {},
   "source": [
    "answer-9>\n",
    "'shift+enter' or 'Run' option can be used to get the value of diffrent type of variable.\n"
   ]
  },
  {
   "cell_type": "raw",
   "id": "e5f00557",
   "metadata": {},
   "source": [
    "answer-10>\n",
    "The given expression gives the error beacause there is different type of data and different type of data cannot add in Python.\n",
    "To fix the error covert int data type to str by '' as shown in below:\n",
    "'I have eaten ' + '99' + ' burritos.'\n",
    "\n"
   ]
  },
  {
   "cell_type": "code",
   "execution_count": null,
   "id": "b4d6258b",
   "metadata": {},
   "outputs": [],
   "source": []
  }
 ],
 "metadata": {
  "kernelspec": {
   "display_name": "Python 3 (ipykernel)",
   "language": "python",
   "name": "python3"
  },
  "language_info": {
   "codemirror_mode": {
    "name": "ipython",
    "version": 3
   },
   "file_extension": ".py",
   "mimetype": "text/x-python",
   "name": "python",
   "nbconvert_exporter": "python",
   "pygments_lexer": "ipython3",
   "version": "3.9.13"
  }
 },
 "nbformat": 4,
 "nbformat_minor": 5
}
