{
 "cells": [
  {
   "cell_type": "markdown",
   "id": "049b4015",
   "metadata": {},
   "source": [
    "# 1. What does RGBA stand for?"
   ]
  },
  {
   "cell_type": "markdown",
   "id": "91e65718",
   "metadata": {},
   "source": [
    "**Ans:**\n",
    "    RGBA is a four-channel format containing data for Red, Green, Blue, and an Alpha value. Where Alpha Represents the Opacity."
   ]
  },
  {
   "cell_type": "markdown",
   "id": "8c3c1ced",
   "metadata": {},
   "source": [
    "# 2. From the Pillow module, how do you get the RGBA value of any images?"
   ]
  },
  {
   "cell_type": "markdown",
   "id": "1bcc4f65",
   "metadata": {},
   "source": [
    "**Ans:** ImageColor.getcolor() gives rgba value of any image\n",
    "\n",
    "**Example:**\n",
    "\n",
    "from PIL import ImageColor\n",
    "\n",
    "ImageColor.getcolor(color_name, 'RGBA')"
   ]
  },
  {
   "cell_type": "markdown",
   "id": "8ec5adb6",
   "metadata": {},
   "source": [
    "# 3. What is a box tuple, and how does it work?"
   ]
  },
  {
   "cell_type": "markdown",
   "id": "78c1041f",
   "metadata": {},
   "source": [
    "**Ans:**\n",
    "    Many Pillow's function take box tuple argument. This means pillow is taking a tuple of four integer coordinates that expecting a rectangular region in image. The four integers are in order left, top, right, bottom."
   ]
  },
  {
   "cell_type": "markdown",
   "id": "32f2cb8a",
   "metadata": {},
   "source": [
    "# 4. Use your image and load in notebook then, How can you find out the width and height of an Image object?"
   ]
  },
  {
   "cell_type": "markdown",
   "id": "223b1145",
   "metadata": {},
   "source": [
    "**Ans:**\n"
   ]
  },
  {
   "cell_type": "code",
   "execution_count": 4,
   "id": "000c7e1f",
   "metadata": {},
   "outputs": [
    {
     "name": "stdout",
     "output_type": "stream",
     "text": [
      "Higth and width of image is : 4160 6240\n"
     ]
    }
   ],
   "source": [
    "from PIL import Image\n",
    "image=Image.open(\"IMG_9728.jpg\")\n",
    "width,hight=image.size\n",
    "print(\"Higth and width of image is :\",hight,width)"
   ]
  },
  {
   "cell_type": "markdown",
   "id": "fd8f8480",
   "metadata": {},
   "source": [
    "# 5. What method would you call to get Image object for a 100×100 image, excluding the lower-left quarter of it?"
   ]
  },
  {
   "cell_type": "markdown",
   "id": "ccc24229",
   "metadata": {
    "scrolled": false
   },
   "source": [
    "**Ans** Use `.crop` function\n"
   ]
  },
  {
   "cell_type": "code",
   "execution_count": 5,
   "id": "c645c042",
   "metadata": {},
   "outputs": [],
   "source": [
    "#Example\n",
    "from PIL import Image\n",
    "img = Image.open('IMG_9728.jpg')\n",
    "new_img = img.crop((0,0,50,50))\n",
    "new_img.show()"
   ]
  },
  {
   "cell_type": "markdown",
   "id": "ace634d9",
   "metadata": {},
   "source": [
    "# 6. After making changes to an Image object, how could you save it as an image file?"
   ]
  },
  {
   "cell_type": "code",
   "execution_count": 15,
   "id": "ffa69be3",
   "metadata": {},
   "outputs": [],
   "source": [
    "#Ans: To save image use .save(\"name.formate\") function\n",
    "from PIL import Image\n",
    "pic = Image.open('IMG_9728.jpg')\n",
    "pic.save('pic2.jpg')"
   ]
  },
  {
   "cell_type": "markdown",
   "id": "df4cab1b",
   "metadata": {},
   "source": [
    "# 7. What module contains Pillow’s shape-drawing code?"
   ]
  },
  {
   "cell_type": "markdown",
   "id": "4d378b82",
   "metadata": {},
   "source": [
    "**Ans:**\n",
    "     Pillows `ImageDraw` module contains Shape drawing methods"
   ]
  },
  {
   "cell_type": "markdown",
   "id": "b7785b6b",
   "metadata": {},
   "source": [
    "# 8. Image objects do not have drawing methods. What kind of object does? How do you get this kind of object?"
   ]
  },
  {
   "cell_type": "markdown",
   "id": "3a16afe4",
   "metadata": {},
   "source": [
    "**Ans:**\n",
    "    If image object donot have drawing methods we use wand.drawing.Drawing object has drawing methods.\n",
    "\n",
    "It can be got this way:\n",
    "`from wand.drawing import Drawing`\n",
    "\n",
    " "
   ]
  },
  {
   "cell_type": "code",
   "execution_count": null,
   "id": "8c7ceafd",
   "metadata": {},
   "outputs": [],
   "source": []
  }
 ],
 "metadata": {
  "kernelspec": {
   "display_name": "Python 3 (ipykernel)",
   "language": "python",
   "name": "python3"
  },
  "language_info": {
   "codemirror_mode": {
    "name": "ipython",
    "version": 3
   },
   "file_extension": ".py",
   "mimetype": "text/x-python",
   "name": "python",
   "nbconvert_exporter": "python",
   "pygments_lexer": "ipython3",
   "version": "3.11.5"
  }
 },
 "nbformat": 4,
 "nbformat_minor": 5
}
