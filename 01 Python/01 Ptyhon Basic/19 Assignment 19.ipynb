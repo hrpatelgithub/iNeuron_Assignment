{
 "cells": [
  {
   "cell_type": "markdown",
   "id": "6e89424b",
   "metadata": {},
   "source": [
    "# 1. Make a class called Thing with no contents and print it. Then, create an object called example from this class and also print it. Are the printed values the same or different?"
   ]
  },
  {
   "cell_type": "markdown",
   "id": "1ba1ced2",
   "metadata": {},
   "source": []
  },
  {
   "cell_type": "code",
   "execution_count": 6,
   "id": "82bdf6fb",
   "metadata": {},
   "outputs": [
    {
     "name": "stdout",
     "output_type": "stream",
     "text": [
      "<class '__main__.Thing'>\n",
      "<__main__.Thing object at 0x0000017F05041D50>\n"
     ]
    }
   ],
   "source": [
    "#Ans\n",
    "class Thing:\n",
    "    pass\n",
    "print(Thing)\n",
    "example=Thing()\n",
    "print(example)"
   ]
  },
  {
   "cell_type": "markdown",
   "id": "ba9d558c",
   "metadata": {},
   "source": [
    "# 2. Create a new class called Thing2 and add the value \"abc\" to the letters class attribute. Letters should be printed."
   ]
  },
  {
   "cell_type": "code",
   "execution_count": 7,
   "id": "976ddd2a",
   "metadata": {},
   "outputs": [
    {
     "name": "stdout",
     "output_type": "stream",
     "text": [
      "abc\n"
     ]
    }
   ],
   "source": [
    "#Ans\n",
    "class Thing2:\n",
    "    letter=\"abc\"\n",
    "print(Thing2.letter)"
   ]
  },
  {
   "cell_type": "markdown",
   "id": "1b7fe608",
   "metadata": {},
   "source": [
    "# 3. Make yet another class called, of course, Thing3. This time, assign the value 'xyz' to an instance(object) attribute called letters. Print letters. Do you need to make an object from the class to do this?"
   ]
  },
  {
   "cell_type": "code",
   "execution_count": 9,
   "id": "2253ab49",
   "metadata": {},
   "outputs": [
    {
     "ename": "AttributeError",
     "evalue": "type object 'Thing3' has no attribute 'letter'",
     "output_type": "error",
     "traceback": [
      "\u001b[1;31m---------------------------------------------------------------------------\u001b[0m",
      "\u001b[1;31mAttributeError\u001b[0m                            Traceback (most recent call last)",
      "Cell \u001b[1;32mIn[9], line 4\u001b[0m\n\u001b[0;32m      2\u001b[0m     \u001b[38;5;28;01mdef\u001b[39;00m \u001b[38;5;21m__init__\u001b[39m(\u001b[38;5;28mself\u001b[39m):\n\u001b[0;32m      3\u001b[0m         \u001b[38;5;28mself\u001b[39m\u001b[38;5;241m.\u001b[39mletter\u001b[38;5;241m=\u001b[39m\u001b[38;5;124m\"\u001b[39m\u001b[38;5;124mxyz\u001b[39m\u001b[38;5;124m\"\u001b[39m\n\u001b[1;32m----> 4\u001b[0m \u001b[38;5;28mprint\u001b[39m(Thing3\u001b[38;5;241m.\u001b[39mletter)\n",
      "\u001b[1;31mAttributeError\u001b[0m: type object 'Thing3' has no attribute 'letter'"
     ]
    }
   ],
   "source": [
    "#Ans\n",
    "class Thing3:\n",
    "    def __init__(self):\n",
    "        self.letter=\"xyz\"\n",
    "print(Thing3.letter)"
   ]
  },
  {
   "cell_type": "code",
   "execution_count": 13,
   "id": "91762385",
   "metadata": {},
   "outputs": [
    {
     "name": "stdout",
     "output_type": "stream",
     "text": [
      "xyz\n"
     ]
    }
   ],
   "source": [
    "obj=Thing3()\n",
    "print(obj.letter)\n",
    " \n",
    "We need to make obeject to do this."
   ]
  },
  {
   "cell_type": "markdown",
   "id": "c7a5ccee",
   "metadata": {},
   "source": [
    "# 4. Create an Element class with the instance attributes name, symbol, and number. Create a classobject with the values 'Hydrogen','H', and 1.0"
   ]
  },
  {
   "cell_type": "code",
   "execution_count": 18,
   "id": "c2de8e55",
   "metadata": {},
   "outputs": [],
   "source": [
    "#Ans\n",
    "class Element:\n",
    "    def __init__(self,name,symbol,number):\n",
    "        self.name=name\n",
    "        self.symbol=symbol\n",
    "        self.number=number\n",
    "        \n",
    "values=Element(\"Hydrogen\",\"H\",1.0)\n",
    "\n",
    "    "
   ]
  },
  {
   "cell_type": "markdown",
   "id": "277eb7ae",
   "metadata": {},
   "source": [
    "# 5. Make a dictionary with these keys and values: 'name': 'Hydrogen', 'symbol': 'H', 'number': 1. Then, create an object called hydrogen from class Element using this dictionary."
   ]
  },
  {
   "cell_type": "code",
   "execution_count": 23,
   "id": "197df321",
   "metadata": {},
   "outputs": [
    {
     "name": "stdout",
     "output_type": "stream",
     "text": [
      "Hydrogen H 1\n"
     ]
    }
   ],
   "source": [
    "#Ans\n",
    "ele={'name': 'Hydrogen', 'symbol': 'H', 'number': 1}\n",
    "hydrogen=Element(**ele)\n",
    "print(hydrogen.name,hydrogen.symbol,hydrogen.number)"
   ]
  },
  {
   "cell_type": "markdown",
   "id": "55be91dd",
   "metadata": {},
   "source": [
    "# 6. For the Element class, define a method called dump() that prints the values of the object’s attributes (name, symbol, and number). Create the hydrogen object from this new definition and use dump() to print its attributes."
   ]
  },
  {
   "cell_type": "code",
   "execution_count": 25,
   "id": "f34c5a5d",
   "metadata": {},
   "outputs": [
    {
     "name": "stdout",
     "output_type": "stream",
     "text": [
      "Hydrogen H 1\n"
     ]
    }
   ],
   "source": [
    "#Ans\n",
    "class Element:\n",
    "    def __init__(self,name,symbol,number):\n",
    "        self.name=name\n",
    "        self.symbol=symbol\n",
    "        self.number=number\n",
    "    def dump(self):\n",
    "        print(self.name,self.symbol,self.number)\n",
    "hydrogen = Element('Hydrogen','H',1)\n",
    "hydrogen.dump()\n",
    "    "
   ]
  },
  {
   "cell_type": "markdown",
   "id": "08b237ab",
   "metadata": {},
   "source": [
    "# 7. Call print(hydrogen). In the definition of Element, change the name of method dump to __str__, create a new hydrogen object, and call print(hydrogen) again."
   ]
  },
  {
   "cell_type": "code",
   "execution_count": 27,
   "id": "5314451a",
   "metadata": {},
   "outputs": [
    {
     "name": "stdout",
     "output_type": "stream",
     "text": [
      "<__main__.Element object at 0x0000017F06763D10>\n",
      "Hydrogen H 1\n"
     ]
    }
   ],
   "source": [
    "#Ans\n",
    "print(hydrogen)\n",
    "class Element:\n",
    "    def __init__(self, name, symbol, number):\n",
    "        self.name = name\n",
    "        self.symbol = symbol\n",
    "        self.number = number      \n",
    "    def __str__(self):\n",
    "        return f'{self.name} {self.symbol} {self.number}'\n",
    "        \n",
    "Hydrogen = Element('Hydrogen','H',1)\n",
    "print(Hydrogen)"
   ]
  },
  {
   "cell_type": "markdown",
   "id": "126b7693",
   "metadata": {},
   "source": [
    "# 8. Modify Element to make the attributes name, symbol, and number private. Define a getter property for each to return its value."
   ]
  },
  {
   "cell_type": "code",
   "execution_count": 28,
   "id": "100114d8",
   "metadata": {},
   "outputs": [
    {
     "name": "stdout",
     "output_type": "stream",
     "text": [
      "Hydrogen\n",
      "H\n",
      "1\n"
     ]
    }
   ],
   "source": [
    "#Ans\n",
    "class Element:\n",
    "    def __init__(self,name,symbol,number):\n",
    "        self.__name = name\n",
    "        self.__symbol = symbol\n",
    "        self.__number = number\n",
    "    \n",
    "    @property\n",
    "    def get_name(self):\n",
    "        return self.__name\n",
    "    \n",
    "    @property\n",
    "    def get_symbol(self):\n",
    "        return self.__symbol\n",
    "    \n",
    "    @property\n",
    "    def get_number(self):\n",
    "        return self.__number\n",
    "    \n",
    "hydrogen = Element('Hydrogen','H',1)\n",
    "print(hydrogen.get_name)\n",
    "print(hydrogen.get_symbol)\n",
    "print(hydrogen.get_number)"
   ]
  },
  {
   "cell_type": "markdown",
   "id": "bab48a0e",
   "metadata": {},
   "source": [
    "# 9. Define three classes: Bear, Rabbit, and Octothorpe. For each, define only one method: eats(). This should return 'berries' (Bear), 'clover' (Rabbit), or 'campers' (Octothorpe). Create one object from each and print what it eats."
   ]
  },
  {
   "cell_type": "code",
   "execution_count": 39,
   "id": "a3257dfc",
   "metadata": {},
   "outputs": [
    {
     "name": "stdout",
     "output_type": "stream",
     "text": [
      "Bear eats berries \n",
      " Rabbit eats clover \n",
      " Octothorpe eats campers\n"
     ]
    }
   ],
   "source": [
    "#Ans\n",
    "class Bear:\n",
    "    def eats():\n",
    "        return \"berries\"\n",
    "class Rabbit:\n",
    "    def eats():\n",
    "        return \"clover\"\n",
    "class Octothorpe:\n",
    "    def eats():\n",
    "        return \"campers\"\n",
    "bear=Bear()\n",
    "rabbit=Rabbit()\n",
    "octothorpe=Octothorpe()\n",
    "\n",
    "print(\"Bear eats\",Bear.eats(),\"\\n\",\"Rabbit eats\",Rabbit.eats(),\"\\n\",\"Octothorpe eats\",Octothorpe.eats())\n"
   ]
  },
  {
   "cell_type": "markdown",
   "id": "410331c5",
   "metadata": {},
   "source": [
    "# 10. Define these classes: Laser, Claw, and SmartPhone. Each has only one method: does(). This returns 'disintegrate' (Laser), 'crush' (Claw), or 'ring' (SmartPhone). Then, define the class Robot that has one instance (object) of each of these. Define a does() method for the Robot that prints what its component objects do."
   ]
  },
  {
   "cell_type": "code",
   "execution_count": 44,
   "id": "bfe3bed4",
   "metadata": {},
   "outputs": [
    {
     "name": "stdout",
     "output_type": "stream",
     "text": [
      "Leaser does disintegrate \n",
      " Claw does crush \n",
      " Smartphone does ring\n"
     ]
    }
   ],
   "source": [
    "#Ans\n",
    "class Laser:\n",
    "    def does(self):\n",
    "        return 'disintegrate'\n",
    "class Claw:\n",
    "    def does(self):\n",
    "        return 'crush'\n",
    "class Smartphone:\n",
    "    def does(self):\n",
    "        return 'ring'\n",
    "class Robot:\n",
    "    def __init__(self):\n",
    "        self.laser = Laser()\n",
    "        self.claw = Claw()\n",
    "        self.smartphone = Smartphone()\n",
    "    def does(self):\n",
    "        print(\"Leaser does\",self.laser.does(),\"\\n\",\"Claw does\",self.claw.does(),\"\\n\",\"Smartphone does\",self.smartphone.does())\n",
    "        \n",
    "r2d2 = Robot()\n",
    "r2d2.does()"
   ]
  },
  {
   "cell_type": "code",
   "execution_count": null,
   "id": "1b51edd1",
   "metadata": {},
   "outputs": [],
   "source": []
  }
 ],
 "metadata": {
  "kernelspec": {
   "display_name": "Python 3 (ipykernel)",
   "language": "python",
   "name": "python3"
  },
  "language_info": {
   "codemirror_mode": {
    "name": "ipython",
    "version": 3
   },
   "file_extension": ".py",
   "mimetype": "text/x-python",
   "name": "python",
   "nbconvert_exporter": "python",
   "pygments_lexer": "ipython3",
   "version": "3.11.5"
  }
 },
 "nbformat": 4,
 "nbformat_minor": 5
}
