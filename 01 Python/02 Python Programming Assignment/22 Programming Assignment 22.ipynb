{
 "cells": [
  {
   "cell_type": "markdown",
   "id": "f678af29",
   "metadata": {},
   "source": [
    "### 1.Create a function that takes three parameters where:\n",
    " x is the start of the range (inclusive).<br>\n",
    " y is the end of the range (inclusive).<br>\n",
    " n is the divisor to be checked against.<br>\n",
    " Return an ordered list with numbers in the range that are divisible by the third parameter n.Return an empty list if there are no numbers that are divisible by n. <br>\n",
    " **Examples**<br>\n",
    " list_operation(1, 10, 3) ➞ [3, 6, 9]<br>\n",
    " list_operation(7, 9, 2) ➞ [8]<br>\n",
    " list_operation(15, 20, 7) ➞ []<br>"
   ]
  },
  {
   "cell_type": "code",
   "execution_count": 1,
   "id": "6855aa05",
   "metadata": {},
   "outputs": [
    {
     "name": "stdout",
     "output_type": "stream",
     "text": [
      "list_operation (1, 10, 3) ➞ [3, 6, 9]\n",
      "list_operation (7, 9, 2) ➞ [8]\n",
      "list_operation (15, 20, 7) ➞ []\n"
     ]
    }
   ],
   "source": [
    "#Ans\n",
    "def list_operation(x,y,n):\n",
    "    l=[]\n",
    "    for i in range(x,y+1):\n",
    "        if i%n==0:\n",
    "            l.append(i)\n",
    "    print(\"list_operation\",(x,y,n),\"➞\",l)\n",
    "\n",
    "list_operation(1, 10, 3)\n",
    "list_operation(7, 9, 2)\n",
    "list_operation(15, 20, 7)\n",
    "\n"
   ]
  },
  {
   "cell_type": "markdown",
   "id": "cfd0fcdc",
   "metadata": {},
   "source": [
    "### 2.Create a function that takes in two lists and returns True if the second list follows the first list by one element, and False otherwise. In other words, determine if the second list is the first list shifted to the right by 1.\n",
    "**Examples**<br>\n",
    "simon_says([1, 2], [5, 1]) ➞ True<br>\n",
    "simon_says([1, 2], [5, 5]) ➞ False,<br>\n",
    "simon_says([1, 2, 3, 4, 5], [0, 1, 2, 3, 4]) ➞ True<br>\n",
    "simon_says([1, 2, 3, 4, 5], [5, 5, 1, 2, 3]) ➞ False<br>\n",
    "**Note**<br>\n",
    "Both input lists will be of the same length, and will have a minimum length of 2.<br>\n",
    "The values of the 0-indexed element in the second list and the n-1th indexed element in the first list do not matter.<br>"
   ]
  },
  {
   "cell_type": "code",
   "execution_count": 6,
   "id": "6516bdcf",
   "metadata": {},
   "outputs": [
    {
     "name": "stdout",
     "output_type": "stream",
     "text": [
      "simon_says ([1, 2], [5, 1]) ➞ True\n",
      "simon_says ([1, 2], [5, 5]) ➞ False\n",
      "simon_says ([1, 2, 3, 4, 5], [0, 1, 2, 3, 4]) ➞ True\n",
      "simon_says ([1, 2, 3, 4, 5], [5, 5, 1, 2, 3]) ➞ False\n",
      "simon_says ([1, 2, 3, 4, 5], [0, 1, 2, 3, 4]) ➞ True\n"
     ]
    }
   ],
   "source": [
    "#Ans\n",
    "def simon_says(l1,l2):\n",
    "    if l1[:-1]==l2[1:]:\n",
    "        print(\"simon_says\",(l1,l2),\"➞\",True)\n",
    "    else:\n",
    "        print(\"simon_says\",(l1,l2),\"➞\",False)\n",
    "    \n",
    "simon_says([1, 2], [5, 1])\n",
    "simon_says([1, 2], [5, 5])\n",
    "simon_says([1, 2, 3, 4, 5], [0, 1, 2, 3, 4])\n",
    "simon_says([1, 2, 3, 4, 5], [5, 5, 1, 2, 3])\n",
    "simon_says([1, 2, 3, 4, 5], [0, 1, 2, 3, 4])"
   ]
  },
  {
   "cell_type": "markdown",
   "id": "4d05b126",
   "metadata": {},
   "source": [
    "### 3.A group of friends have decided to start a secret society. The name will be the first letter of each of their names, sorted in a alphabetical order ? Create a function that takes in a list of names and returns the name of the secret society ?\n",
    "**Examples:**<br>\n",
    "society_name([\"Adam\", \"Sarah\", \"Malcolm\"]) ➞ \"AMS\"<br>\n",
    "society_name([\"Harry\", \"Newt\", \"Luna\", \"Cho\"]) ➞ \"CHLN\"<br>\n",
    "society_name([\"Phoebe\", \"Chandler\", \"Rachel\", \"Ross\", \"Monica\", \"Joey\"])<br>"
   ]
  },
  {
   "cell_type": "code",
   "execution_count": 9,
   "id": "1b18d008",
   "metadata": {},
   "outputs": [
    {
     "name": "stdout",
     "output_type": "stream",
     "text": [
      "society_name ['Adam', 'Sarah', 'Malcolm'] ➞ ASM\n",
      "society_name ['Harry', 'Newt', 'Luna', 'Cho'] ➞ HNLC\n",
      "society_name ['Phoebe', 'Chandler', 'Rachel', 'Ross', 'Monica', 'Joey'] ➞ PCRRMJ\n"
     ]
    }
   ],
   "source": [
    "#Ans\n",
    "def society_name(l):\n",
    "    l1=[]\n",
    "    for i in l:\n",
    "        l1.append(i[0])\n",
    "    print(\"society_name\",l,\"➞\",\"\".join(l1))\n",
    "\n",
    "society_name([\"Adam\", \"Sarah\", \"Malcolm\"])\n",
    "society_name([\"Harry\", \"Newt\", \"Luna\", \"Cho\"])\n",
    "society_name([\"Phoebe\", \"Chandler\", \"Rachel\", \"Ross\", \"Monica\", \"Joey\"])\n"
   ]
  },
  {
   "cell_type": "markdown",
   "id": "5448009e",
   "metadata": {},
   "source": [
    "### 4.An isogram is a word that has no duplicate letters. Create a function that takes a string and returns either True or False depending on whether or not it's an \"isogram\".\n",
    "**Examples:**<br>\n",
    "is_isogram(\"Algorism\") ➞ True<br>\n",
    "is_isogram(\"PasSword\") ➞ False<br>\n",
    " `Not case sensitive.`<br>\n",
    "is_isogram(\"Consecutive\") ➞ False<br>\n",
    "\n",
    "**Notes:**<br>\n",
    "Ignore letter case (should not be case sensitive).<br>\n",
    "All test cases contain valid one word strings.<br>"
   ]
  },
  {
   "cell_type": "code",
   "execution_count": 11,
   "id": "c5fd7211",
   "metadata": {},
   "outputs": [
    {
     "name": "stdout",
     "output_type": "stream",
     "text": [
      "is_isogram Algorism ➞ True\n",
      "is_isogram PasSword ➞ False\n",
      "is_isogram Consecutive ➞ False\n"
     ]
    }
   ],
   "source": [
    "#Ans\n",
    "def is_isogram(s):\n",
    "    s1=s.lower()\n",
    "    if  len(s1)==len(set(s1)):\n",
    "        print(\"is_isogram\",s,\"➞\",True)\n",
    "    else:\n",
    "        print(\"is_isogram\",s,\"➞\",False)\n",
    "        \n",
    "is_isogram(\"Algorism\")\n",
    "is_isogram(\"PasSword\")\n",
    "is_isogram(\"Consecutive\")\n"
   ]
  },
  {
   "cell_type": "markdown",
   "id": "2a1aee35",
   "metadata": {},
   "source": [
    "### 5.Create a function that takes a string and returns True or False, depending on whether the characters are in order or not.\n",
    "**Examples**<br>\n",
    "is_in_order(abc) ➞ True<br>\n",
    "is_in_order(edabit) ➞ False<br>\n",
    "is_in_order(123) ➞ True<br>\n",
    "is_in_order(xyzz) ➞ True<br>\n",
    "**Notes**<br>\n",
    "You don't have to handle empty strings."
   ]
  },
  {
   "cell_type": "code",
   "execution_count": 12,
   "id": "76b6cc44",
   "metadata": {},
   "outputs": [
    {
     "name": "stdout",
     "output_type": "stream",
     "text": [
      "is_in_order abc ➞ True\n",
      "is_in_order edabit ➞ False\n",
      "is_in_order 123 ➞ True\n",
      "is_in_order xyzz ➞ True\n"
     ]
    }
   ],
   "source": [
    "#Ans\n",
    "def is_in_order(s):\n",
    "    s1=list(s)\n",
    "    s1.sort()\n",
    "    if s==\"\".join(s1):\n",
    "        print(\"is_in_order\",s,\"➞\",True)\n",
    "    else:\n",
    "        print(\"is_in_order\",s,\"➞\",False)\n",
    "\n",
    "is_in_order(\"abc\")\n",
    "is_in_order(\"edabit\")\n",
    "is_in_order(\"123\")\n",
    "is_in_order(\"xyzz\")"
   ]
  },
  {
   "cell_type": "code",
   "execution_count": null,
   "id": "ee84ba32",
   "metadata": {},
   "outputs": [],
   "source": []
  }
 ],
 "metadata": {
  "kernelspec": {
   "display_name": "Python 3 (ipykernel)",
   "language": "python",
   "name": "python3"
  },
  "language_info": {
   "codemirror_mode": {
    "name": "ipython",
    "version": 3
   },
   "file_extension": ".py",
   "mimetype": "text/x-python",
   "name": "python",
   "nbconvert_exporter": "python",
   "pygments_lexer": "ipython3",
   "version": "3.11.5"
  }
 },
 "nbformat": 4,
 "nbformat_minor": 5
}
