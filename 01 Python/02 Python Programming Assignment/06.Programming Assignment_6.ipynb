{
 "cells": [
  {
   "cell_type": "markdown",
   "id": "adb65835",
   "metadata": {},
   "source": [
    "# 1. Write a Python Program to Display Fibonacci Sequence Using Recursion?"
   ]
  },
  {
   "cell_type": "code",
   "execution_count": 6,
   "id": "e8537630",
   "metadata": {},
   "outputs": [
    {
     "name": "stdout",
     "output_type": "stream",
     "text": [
      "Enter the number of terms: 10\n",
      "Fibonacci sequence:\n",
      "0 1 1 2 3 5 8 13 21 34 "
     ]
    }
   ],
   "source": [
    "def fibonacci(n):\n",
    "    if n <= 0:\n",
    "        print(\"Invalid input. Please enter a positive integer.\")\n",
    "        return\n",
    "    elif n == 1:\n",
    "        return 0\n",
    "    elif n == 2:\n",
    "        return 1\n",
    "    else:\n",
    "        return fibonacci(n - 1) + fibonacci(n - 2)\n",
    "\n",
    "#For how many term to display\n",
    "terms = int(input(\"Enter the number of terms: \"))\n",
    "\n",
    "# Display the Fibonacci sequence\n",
    "if num_terms <= 0:\n",
    "    print(\"Invalid input. Please enter a positive integer.\")\n",
    "else:\n",
    "    print(\"Fibonacci sequence:\")\n",
    "    for i in range(1, num_terms + 1):\n",
    "        print(fibonacci(i), end=\" \")\n"
   ]
  },
  {
   "cell_type": "markdown",
   "id": "7563b9ba",
   "metadata": {},
   "source": [
    "# 2. Write a Python Program to Find Factorial of a Number using Recursion ?"
   ]
  },
  {
   "cell_type": "code",
   "execution_count": 7,
   "id": "3eae583c",
   "metadata": {},
   "outputs": [
    {
     "name": "stdout",
     "output_type": "stream",
     "text": [
      "Enter a number: 2\n",
      "Factorial of 2 is: 2\n"
     ]
    }
   ],
   "source": [
    "def factorial(n):\n",
    "    if n < 0:\n",
    "        return \"Factorial is not defined for negative numbers.\"\n",
    "    elif n == 0 or n == 1:\n",
    "        return 1\n",
    "    else:\n",
    "        return n * factorial(n - 1)\n",
    "\n",
    "# For the user to enter a number\n",
    "num = int(input(\"Enter a number: \"))\n",
    "\n",
    "# Calculate the factorial\n",
    "result = factorial(num)\n",
    "print(\"Factorial of\", num, \"is:\", result)\n"
   ]
  },
  {
   "cell_type": "code",
   "execution_count": null,
   "id": "11cf5475",
   "metadata": {},
   "outputs": [],
   "source": [
    "3. Write a Python Program to calculate your Body Mass Index?"
   ]
  },
  {
   "cell_type": "code",
   "execution_count": 13,
   "id": "012c7ec6",
   "metadata": {},
   "outputs": [
    {
     "name": "stdout",
     "output_type": "stream",
     "text": [
      "enter your height in cm :140\n",
      "neter your weight in kg :69\n",
      "Your Bodymass Index is 35.204081632653065 And your status is suffering from obesity .\n"
     ]
    }
   ],
   "source": [
    "def Body_mass_index1(height,weight):\n",
    "    \n",
    "    Body_mass_index = weight / (height/100) **2\n",
    "    if (Body_mass_index < 18.5):\n",
    "        status =\"underweight\"\n",
    "    elif (Body_mass_index >= 18.5 and Body_mass_index < 24.9):\n",
    "        status = \"healthy\"\n",
    "    elif (Body_mass_index >= 24.9 and Body_mass_index <30):\n",
    "        status = \"overweight\"\n",
    "    elif (Body_mass_index >= 30):\n",
    "        status = \"suffering from obesity\"\n",
    "    print(\"Your Bodymass Index is\",Body_mass_index,\"And your status is\",status,\".\")\n",
    "height = float(input(\"Enter your height in cm :\"))\n",
    "weight = float(input(\"Eneter your weight in kg :\"))\n",
    "Body_mass_index1(height,weight)"
   ]
  },
  {
   "cell_type": "markdown",
   "id": "6eb42beb",
   "metadata": {},
   "source": [
    "# 4. Write a Python Program to Calculate the Natural Logarithm of any Number ?"
   ]
  },
  {
   "cell_type": "code",
   "execution_count": 24,
   "id": "5419f921",
   "metadata": {},
   "outputs": [
    {
     "name": "stdout",
     "output_type": "stream",
     "text": [
      "Enter the number to find Natural Logarithms:4\n",
      "Natural Logarithm of 4 is: 1.3862943611198906\n"
     ]
    }
   ],
   "source": [
    "import math\n",
    "def natural_logarithm(num):\n",
    "    print (\"Natural Logarithm of\",num,\"is:\",math.log(num))\n",
    "num=int(input(\"Enter the number to find Natural Logarithms:\"))\n",
    "natural_logarithm(num)\n",
    "\n"
   ]
  },
  {
   "cell_type": "markdown",
   "id": "a0e4a5df",
   "metadata": {},
   "source": [
    "# 5. Write a Python Program for cube sum of first n natural numbers?"
   ]
  },
  {
   "cell_type": "code",
   "execution_count": 43,
   "id": "a1d21573",
   "metadata": {},
   "outputs": [
    {
     "name": "stdout",
     "output_type": "stream",
     "text": [
      "Enter the value of n:8\n",
      "The cube sum of first 8 is : 1296\n"
     ]
    }
   ],
   "source": [
    "def cube_sum(n1):\n",
    "    sum = 0\n",
    "    for i in range(1,n1+1):\n",
    "        sum=sum+(i**3)\n",
    "    print('The cube sum of first',n1,'is :',sum)\n",
    "#for input the number\"\n",
    "n1=int(input(\"Enter the value of n:\"))\n",
    "cube_sum(n1)"
   ]
  },
  {
   "cell_type": "code",
   "execution_count": null,
   "id": "6b6aec78",
   "metadata": {},
   "outputs": [],
   "source": []
  }
 ],
 "metadata": {
  "kernelspec": {
   "display_name": "Python 3 (ipykernel)",
   "language": "python",
   "name": "python3"
  },
  "language_info": {
   "codemirror_mode": {
    "name": "ipython",
    "version": 3
   },
   "file_extension": ".py",
   "mimetype": "text/x-python",
   "name": "python",
   "nbconvert_exporter": "python",
   "pygments_lexer": "ipython3",
   "version": "3.9.13"
  }
 },
 "nbformat": 4,
 "nbformat_minor": 5
}
