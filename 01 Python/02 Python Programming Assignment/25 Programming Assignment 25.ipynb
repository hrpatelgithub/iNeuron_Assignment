{
 "cells": [
  {
   "cell_type": "markdown",
   "id": "2a657483",
   "metadata": {},
   "source": [
    "### 1.Create a function that takes three integer arguments (a, b, c) and returns the amount of integers which are of equal value.\n",
    "**Examples:**<br>\n",
    "equal(3, 4, 3) ➞ 2<br>\n",
    "equal(1, 1, 1) ➞ 3<Br>\n",
    "equal(3, 4, 1) ➞ 0<Br>\n",
    "\n",
    "**Notes:**<br>\n",
    "`Your function must return 0, 2 or 3.`"
   ]
  },
  {
   "cell_type": "code",
   "execution_count": 3,
   "id": "6988f5d3",
   "metadata": {},
   "outputs": [
    {
     "name": "stdout",
     "output_type": "stream",
     "text": [
      "equal 3 4 3 ➞ 2\n",
      "equal 1 1 1 ➞ 3\n",
      "equal 3 4 1 ➞ 0\n"
     ]
    }
   ],
   "source": [
    "#Ans\n",
    "def equal(a,b,c):\n",
    "    if a==b==c:\n",
    "        print(\"equal\",a,b,c,\"➞\",3)\n",
    "    elif a==b or b==c or a==c:\n",
    "        print(\"equal\",a,b,c,\"➞\",2)\n",
    "    else:\n",
    "        print(\"equal\",a,b,c,\"➞\",0)\n",
    "        \n",
    "equal(3, 4, 3)\n",
    "equal(1, 1, 1)\n",
    "equal(3, 4, 1)"
   ]
  },
  {
   "cell_type": "markdown",
   "id": "c6146467",
   "metadata": {},
   "source": [
    "### 2.Write a function that converts a dictionary into a list of keys-values tuples.\n",
    "**Examples:**<br>\n",
    "dict_to_list({ \"D\": 1, \"B\": 2, \"C\": 3 }) ➞ [(\"B\", 2), (\"C\", 3), (\"D\", 1)] <br>dict_to_list({ \"likes\": 2, \"dislikes\": 3, \"followers\": 10 }) ➞ [(\"dislikes\", 3), (\"followers\", 10), (\"likes\", 2)]\n",
    "\n",
    "**Notes:**<br>\n",
    "`Return the elements in the list in alphabetical order.`"
   ]
  },
  {
   "cell_type": "code",
   "execution_count": 2,
   "id": "8c4cafa8",
   "metadata": {},
   "outputs": [
    {
     "name": "stdout",
     "output_type": "stream",
     "text": [
      "dict_to_list {'D': 1, 'B': 2, 'C': 3} ➞ [('B', 2), ('C', 3), ('D', 1)]\n",
      "dict_to_list {'likes': 2, 'dislikes': 3, 'followers': 10} ➞ [('dislikes', 3), ('followers', 10), ('likes', 2)]\n"
     ]
    }
   ],
   "source": [
    "#Ans\n",
    "def dict_to_list(dict1):\n",
    "    list1=[]\n",
    "    for key,vaule in sorted(dict1.items()):\n",
    "        list1.append((key,vaule))\n",
    "    print(\"dict_to_list\",dict1,\"➞\",list1)\n",
    "\n",
    "dict_to_list({\"D\": 1, \"B\": 2, \"C\": 3})\n",
    "dict_to_list({\"likes\": 2, \"dislikes\": 3, \"followers\": 10})"
   ]
  },
  {
   "cell_type": "markdown",
   "id": "95f6c77e",
   "metadata": {},
   "source": [
    "### 3.Write a function that creates a dictionary with each (key, value) pair being the (lower case, upper case) versions of a letter, respectively.\n",
    "**Examples:**<br>\n",
    "mapping([\"p\", \"s\"]) ➞ { \"p\": \"P\", \"s\": \"S\" }<br>\n",
    "mapping([\"a\", \"b\", \"c\"]) ➞ { \"a\": \"A\", \"b\": \"B\", \"c\": \"C\" }<br>\n",
    "mapping([\"a\", \"v\", \"y\", \"z\"]) ➞ { \"a\": \"A\", \"v\": \"V\", \"y\": \"Y\", \"z\": \"Z\" }"
   ]
  },
  {
   "cell_type": "code",
   "execution_count": 4,
   "id": "5fc6acd7",
   "metadata": {},
   "outputs": [
    {
     "name": "stdout",
     "output_type": "stream",
     "text": [
      "mapping ['p', 's'] ➞ {'p': 'P', 's': 'S'}\n",
      "mapping ['a', 'b', 'c'] ➞ {'a': 'A', 'b': 'B', 'c': 'C'}\n",
      "mapping ['a', 'v', 'y', 'z'] ➞ {'a': 'A', 'v': 'V', 'y': 'Y', 'z': 'Z'}\n"
     ]
    }
   ],
   "source": [
    "#Ans\n",
    "def  mapping(list1):\n",
    "    dict1={}\n",
    "    for i in list1:\n",
    "        dict1[i]=i.upper()\n",
    "    print(\"mapping\",list1,\"➞\",dict1)\n",
    "\n",
    "mapping([\"p\", \"s\"])\n",
    "mapping([\"a\", \"b\", \"c\"])\n",
    "mapping([\"a\", \"v\", \"y\", \"z\"])"
   ]
  },
  {
   "cell_type": "markdown",
   "id": "f424d43c",
   "metadata": {},
   "source": [
    "### 4.Write a function, that replaces all vowels in a string with a specified vowel.\n",
    "**Examples:**<br>\n",
    "vow_replace(\"apples and bananas\", \"u\") ➞ \"upplus und bununus\"<br>\n",
    "vow_replace(\"cheese casserole\", \"o\") ➞ \"chooso cossorolo\"<br>\n",
    "vow_replace(\"stuffed jalapeno poppers\", \"e\") ➞ \"steffed jelepene peppers\"<br>\n",
    "**Notes:**<br>\n",
    "`All words are in lowercase. The vowels are a, e, i, o, u.`"
   ]
  },
  {
   "cell_type": "code",
   "execution_count": 8,
   "id": "e30ceeeb",
   "metadata": {},
   "outputs": [
    {
     "name": "stdout",
     "output_type": "stream",
     "text": [
      "vow_replace upplus und bununus ➞ upplus und bununus\n",
      "vow_replace chooso cossorolo ➞ chooso cossorolo\n",
      "vow_replace steffed jelepene peppers ➞ steffed jelepene peppers\n"
     ]
    }
   ],
   "source": [
    "#Ans\n",
    "def vow_replace(string,vow):\n",
    "    vowels=\"aeiou\"\n",
    "    for i in vowels:\n",
    "        string=string.replace(i,vow)\n",
    "    print(\"vow_replace\",string,\"➞\",string)\n",
    "\n",
    "vow_replace(\"apples and bananas\", \"u\")\n",
    "vow_replace(\"cheese casserole\", \"o\")\n",
    "vow_replace(\"stuffed jalapeno poppers\", \"e\")"
   ]
  },
  {
   "cell_type": "markdown",
   "id": "b4838a37",
   "metadata": {},
   "source": [
    "### 5.Create a function that takes a string as input and capitalizes a letter if its ASCII code is even and returns its lower case version if its ASCII code is odd.\n",
    "**Examples:**<br>\n",
    "ascii_capitalize(\"to be or not to be!\") ➞ \"To Be oR NoT To Be!\"<br>\n",
    "ascii_capitalize(\"THE LITTLE MERMAID\") ➞ \"THe LiTTLe meRmaiD\"<br>\n",
    "ascii_capitalize(\"Oh what a beautiful morning.\") ➞ \"oH wHaT a BeauTiFuL moRNiNg.\"<br>"
   ]
  },
  {
   "cell_type": "code",
   "execution_count": 20,
   "id": "a28fae12",
   "metadata": {},
   "outputs": [
    {
     "name": "stdout",
     "output_type": "stream",
     "text": [
      "ascii_capitalize To Be oR NoT To Be! ➞ To Be oR NoT To Be!\n",
      "ascii_capitalize THe LiTTLe meRmaiD ➞ THe LiTTLe meRmaiD\n",
      "ascii_capitalize oH wHaT a BeauTiFuL moRNiNg. ➞ oH wHaT a BeauTiFuL moRNiNg.\n"
     ]
    }
   ],
   "source": [
    "#Ans\n",
    "def ascii_capitalize(string):\n",
    "    for i in string:\n",
    "        if ord(i) % 2 == 0:\n",
    "            string = string.replace(i, i.upper() )\n",
    "        else:\n",
    "            string = string.replace(i, i.lower() )\n",
    "    print(\"ascii_capitalize\",string,\"➞\",string)\n",
    "    \n",
    "ascii_capitalize(\"to be or not to be!\")\n",
    "ascii_capitalize(\"THE LITTLE MERMAID\")\n",
    "ascii_capitalize(\"Oh what a beautiful morning.\")"
   ]
  },
  {
   "cell_type": "code",
   "execution_count": null,
   "id": "b26132c1",
   "metadata": {},
   "outputs": [],
   "source": []
  }
 ],
 "metadata": {
  "kernelspec": {
   "display_name": "Python 3 (ipykernel)",
   "language": "python",
   "name": "python3"
  },
  "language_info": {
   "codemirror_mode": {
    "name": "ipython",
    "version": 3
   },
   "file_extension": ".py",
   "mimetype": "text/x-python",
   "name": "python",
   "nbconvert_exporter": "python",
   "pygments_lexer": "ipython3",
   "version": "3.11.5"
  }
 },
 "nbformat": 4,
 "nbformat_minor": 5
}
