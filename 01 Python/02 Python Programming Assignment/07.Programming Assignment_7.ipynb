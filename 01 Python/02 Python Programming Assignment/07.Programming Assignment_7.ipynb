{
 "cells": [
  {
   "cell_type": "markdown",
   "id": "4bc53724",
   "metadata": {},
   "source": [
    "# 1. Write a Python Program to find sum of array"
   ]
  },
  {
   "cell_type": "code",
   "execution_count": null,
   "id": "0fb362b0",
   "metadata": {},
   "outputs": [],
   "source": [
    "arr=[1,2,3,4,5,7,8,9]\n",
    "print(\"The sum of array is\",sum(arr))"
   ]
  },
  {
   "cell_type": "markdown",
   "id": "27939d54",
   "metadata": {},
   "source": [
    "# 2. Write a Python Program to find largest element in an array?"
   ]
  },
  {
   "cell_type": "code",
   "execution_count": null,
   "id": "60f8f2b1",
   "metadata": {},
   "outputs": [],
   "source": [
    "maxarr=[1,2,7864,213,1,1,814,6,84,]\n",
    "print(\"The largest element in array is\",max(maxarr))"
   ]
  },
  {
   "cell_type": "markdown",
   "id": "165a0ecf",
   "metadata": {},
   "source": [
    "# 3. Write a Python Program for array rotation?"
   ]
  },
  {
   "cell_type": "code",
   "execution_count": 12,
   "id": "a36ddac9",
   "metadata": {
    "collapsed": true
   },
   "outputs": [
    {
     "name": "stdout",
     "output_type": "stream",
     "text": [
      "Enter the size of the array4\n",
      "Enter the element for array1\n",
      "Enter the element for array2\n",
      "Enter the element for array23\n",
      "Enter the element for array45\n",
      "Original array is [1, 2, 23, 45]\n",
      "Enter the direction(left or right)right\n",
      "Enter the number to move  right side:1\n",
      "Array after shifting in right side is [45, 45, 2, 23]\n"
     ]
    }
   ],
   "source": [
    "a=[]\n",
    "size=int(input(\"Enter the size of the array\"))\n",
    "for i in range(size):\n",
    "    value=int(input(\"Enter the element for array\"))\n",
    "    a.append(value)\n",
    "print(\"Original array is\",a)\n",
    "direction=input(\"Enter the direction(left or right)\")\n",
    "if direction == \"left\":\n",
    "    n=int(input(\"Enter the number to move left side:\"))\n",
    "    for count in range(n):\n",
    "        x=a[0]\n",
    "        for i in range(1,size):\n",
    "            a[i-1]=a[i]\n",
    "        a[size-1]=x\n",
    "    print(\"Array after shifting in left side is \",a)\n",
    "else:\n",
    "    if direction == \"right\":\n",
    "        n=int(input(\"Enter the number to move  right side:\"))\n",
    "        for count in range(n):\n",
    "            x=a[size-1]\n",
    "            for i in range(size-2,-1,-1):\n",
    "                a[i+1]=a[i]\n",
    "                a[0]=x\n",
    "    print(\"Array after shifting in right side is\",a)\n",
    "\n",
    "\n"
   ]
  },
  {
   "cell_type": "markdown",
   "id": "8e0f93c3",
   "metadata": {},
   "source": [
    "# 4.Write a Python Program to Split the array and add the first part to the end?"
   ]
  },
  {
   "cell_type": "code",
   "execution_count": 35,
   "id": "23666d8f",
   "metadata": {},
   "outputs": [
    {
     "name": "stdout",
     "output_type": "stream",
     "text": [
      "Enter the size of the array   :5\n",
      "Enter the element for array  : 12\n",
      "Enter the element for array  : 45\n",
      "Enter the element for array  : 95\n",
      "Enter the element for array  : 78\n",
      "Enter the element for array  : 42\n",
      "Original array is [12, 45, 95, 78, 42]\n",
      "Enter the number where split array  :3\n",
      "First part is  [12, 45, 95]\n",
      "End part is  [78, 42]\n",
      "Add first part to the End part [78, 42, 12, 45, 95]\n"
     ]
    }
   ],
   "source": [
    "a=[]\n",
    "size=int(input(\"Enter the size of the array   :\"))\n",
    "for i in range(size):\n",
    "    ele=int(input(\"Enter the element for array  : \"))\n",
    "    a.append(ele)\n",
    "print(\"Original array is\",a)\n",
    "split=int(input(\"Enter the number where split array  :\"))\n",
    "if split > size:\n",
    "    print (\"NUmber is greater than the size of the array\")\n",
    "else:\n",
    "    first_a=a[0:split]\n",
    "    second_a=a[split:]\n",
    "    print(\"First part is \",first_a)\n",
    "    print(\"End part is \",second_a)\n",
    "    print(\"Add first part to the End part\",second_a+first_a)"
   ]
  },
  {
   "cell_type": "markdown",
   "id": "3f67d3db",
   "metadata": {},
   "source": [
    "# 5. Write a Python Program to check if given array is Monotonic?"
   ]
  },
  {
   "cell_type": "code",
   "execution_count": 37,
   "id": "406c58a0",
   "metadata": {},
   "outputs": [
    {
     "name": "stdout",
     "output_type": "stream",
     "text": [
      "Enter the Array: 1,2,3,\n",
      "Array (1, 2, 3) is Monotonic\n",
      "Enter the Array: 14,74,57\n",
      "Array (14, 74, 57) is Not Monotonic\n"
     ]
    }
   ],
   "source": [
    "def check_monotonic():\n",
    "    arr = eval(input(\"Enter the Array: \"))\n",
    "    if(all(arr[i]<=arr[i+1] for i in range(len(arr)-1)) or all(arr[i]>=arr[i+1] for i in range(len(arr)-1))):\n",
    "        print(f'Array {arr} is Monotonic')\n",
    "    else:\n",
    "        print(f'Array {arr} is Not Monotonic')\n",
    "\n",
    "check_monotonic()\n",
    "check_monotonic()"
   ]
  },
  {
   "cell_type": "code",
   "execution_count": null,
   "id": "cb7bc51c",
   "metadata": {},
   "outputs": [],
   "source": []
  }
 ],
 "metadata": {
  "kernelspec": {
   "display_name": "Python 3 (ipykernel)",
   "language": "python",
   "name": "python3"
  },
  "language_info": {
   "codemirror_mode": {
    "name": "ipython",
    "version": 3
   },
   "file_extension": ".py",
   "mimetype": "text/x-python",
   "name": "python",
   "nbconvert_exporter": "python",
   "pygments_lexer": "ipython3",
   "version": "3.9.13"
  }
 },
 "nbformat": 4,
 "nbformat_minor": 5
}
