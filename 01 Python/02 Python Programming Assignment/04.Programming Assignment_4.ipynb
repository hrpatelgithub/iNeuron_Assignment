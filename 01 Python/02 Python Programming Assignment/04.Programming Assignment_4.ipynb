{
 "cells": [
  {
   "cell_type": "markdown",
   "id": "937ef2fa",
   "metadata": {},
   "source": [
    "# 1.Write a Python Program to find the factorial of a number "
   ]
  },
  {
   "cell_type": "code",
   "execution_count": null,
   "id": "2c54bd9f",
   "metadata": {},
   "outputs": [],
   "source": [
    "def fact(n):\n",
    "    if n<0:\n",
    "        print(\"Please enter positive number\")\n",
    "    else:\n",
    "        fact=1\n",
    "        for num in range(2,n+1):\n",
    "            fact=fact*num\n",
    "        return fact\n",
    "    \n"
   ]
  },
  {
   "cell_type": "code",
   "execution_count": 7,
   "id": "b5bd955e",
   "metadata": {},
   "outputs": [
    {
     "data": {
      "text/plain": [
       "120"
      ]
     },
     "execution_count": 7,
     "metadata": {},
     "output_type": "execute_result"
    }
   ],
   "source": [
    "fact(5)"
   ]
  },
  {
   "cell_type": "code",
   "execution_count": 8,
   "id": "acdc017d",
   "metadata": {},
   "outputs": [
    {
     "name": "stdout",
     "output_type": "stream",
     "text": [
      "Please enter positive number\n"
     ]
    }
   ],
   "source": [
    "fact(-1)"
   ]
  },
  {
   "cell_type": "markdown",
   "id": "9b1982fd",
   "metadata": {},
   "source": [
    "# 2.Write a Python Program to display the multiplication table"
   ]
  },
  {
   "cell_type": "code",
   "execution_count": 10,
   "id": "7c940aac",
   "metadata": {},
   "outputs": [],
   "source": [
    "def mut_table():\n",
    "    a=int(input(\"Enter a number\"))\n",
    "    for i in range(1,11):\n",
    "        print(a ,\"*\", i , '=', a*i)\n",
    "        "
   ]
  },
  {
   "cell_type": "code",
   "execution_count": 11,
   "id": "461ae237",
   "metadata": {},
   "outputs": [
    {
     "name": "stdout",
     "output_type": "stream",
     "text": [
      "Enter a number12\n",
      "12 * 1 = 12\n",
      "12 * 2 = 24\n",
      "12 * 3 = 36\n",
      "12 * 4 = 48\n",
      "12 * 5 = 60\n",
      "12 * 6 = 72\n",
      "12 * 7 = 84\n",
      "12 * 8 = 96\n",
      "12 * 9 = 108\n",
      "12 * 10 = 120\n"
     ]
    }
   ],
   "source": [
    "mut_table()"
   ]
  },
  {
   "cell_type": "markdown",
   "id": "8d739c96",
   "metadata": {},
   "source": [
    "# 3.Write a Python Program to print the fibonacci sequence "
   ]
  },
  {
   "cell_type": "code",
   "execution_count": 12,
   "id": "655f3d6f",
   "metadata": {},
   "outputs": [],
   "source": [
    "def fin(n):\n",
    "    a=1\n",
    "    b=1\n",
    "    for i in range(n):\n",
    "        print(a) \n",
    "        a=b\n",
    "        b=a+b"
   ]
  },
  {
   "cell_type": "code",
   "execution_count": 13,
   "id": "256f58c1",
   "metadata": {},
   "outputs": [
    {
     "name": "stdout",
     "output_type": "stream",
     "text": [
      "1\n",
      "1\n",
      "2\n",
      "4\n",
      "8\n"
     ]
    }
   ],
   "source": [
    "fin(5)"
   ]
  },
  {
   "cell_type": "markdown",
   "id": "bbf9b7a1",
   "metadata": {},
   "source": [
    "# 4.Write a Python Program to check Armstrong number"
   ]
  },
  {
   "cell_type": "code",
   "execution_count": 15,
   "id": "0d1a97be",
   "metadata": {},
   "outputs": [
    {
     "name": "stdout",
     "output_type": "stream",
     "text": [
      "Enter the number370\n",
      "370  number is Armstrong number\n"
     ]
    }
   ],
   "source": [
    "n=int(input('Enter the number'))\n",
    "sum=0\n",
    "power=len(str(n))\n",
    "original=n\n",
    "\n",
    "while n>0:\n",
    "    digit=n%10\n",
    "    sum=sum+digit**power\n",
    "    n=n//10\n",
    "if sum==original:\n",
    "    print(original,' number is Armstrong number')\n",
    "else:\n",
    "    print(original,' number is not Amrstrong number')"
   ]
  },
  {
   "cell_type": "markdown",
   "id": "33616c05",
   "metadata": {},
   "source": [
    "# 6.Write a Python Program to sum of natural numbers"
   ]
  },
  {
   "cell_type": "code",
   "execution_count": 16,
   "id": "34850ee9",
   "metadata": {},
   "outputs": [],
   "source": [
    "def total_sum():\n",
    "    a=int(input('Enter the number'))\n",
    "    b=(a*(a+1))/2\n",
    "    print(\"The of natural numbers upto\",a,\" is\",b)"
   ]
  },
  {
   "cell_type": "code",
   "execution_count": 17,
   "id": "568498de",
   "metadata": {},
   "outputs": [
    {
     "name": "stdout",
     "output_type": "stream",
     "text": [
      "Enter the number12\n",
      "The of natural numbers upto 12  is 78.0\n"
     ]
    }
   ],
   "source": [
    "total_sum()\n"
   ]
  },
  {
   "cell_type": "markdown",
   "id": "37d60f3b",
   "metadata": {},
   "source": [
    "# 5. Write a Python Program to Find Armstrong Number in an Interval"
   ]
  },
  {
   "cell_type": "code",
   "execution_count": 18,
   "id": "b4973479",
   "metadata": {},
   "outputs": [
    {
     "name": "stdout",
     "output_type": "stream",
     "text": [
      "Lower limit : 100\n",
      "Upper limit : 2000\n",
      "153\n",
      "370\n",
      "371\n",
      "407\n",
      "1634\n"
     ]
    }
   ],
   "source": [
    "low = int(input(\"Lower limit : \"))\n",
    "up = int(input(\"Upper limit : \"))\n",
    "\n",
    "\n",
    "for num in range(low,up+1):\n",
    "    power = len(str(num))\n",
    "    temp = num\n",
    "    sum = 0\n",
    "    while temp > 0:\n",
    "        digit = temp % 10\n",
    "        sum = sum + digit ** power\n",
    "        temp = temp//10\n",
    "    if num == sum :\n",
    "        print(num)"
   ]
  },
  {
   "cell_type": "code",
   "execution_count": null,
   "id": "f1c3f614",
   "metadata": {},
   "outputs": [],
   "source": []
  }
 ],
 "metadata": {
  "kernelspec": {
   "display_name": "Python 3 (ipykernel)",
   "language": "python",
   "name": "python3"
  },
  "language_info": {
   "codemirror_mode": {
    "name": "ipython",
    "version": 3
   },
   "file_extension": ".py",
   "mimetype": "text/x-python",
   "name": "python",
   "nbconvert_exporter": "python",
   "pygments_lexer": "ipython3",
   "version": "3.9.13"
  }
 },
 "nbformat": 4,
 "nbformat_minor": 5
}
