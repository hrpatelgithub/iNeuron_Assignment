{
 "cells": [
  {
   "cell_type": "markdown",
   "id": "7d10175d",
   "metadata": {},
   "source": [
    "### 1.Create a function that takes a list of non-negative integers and strings and return a new list without the strings.\n",
    "**Examples**<br>\n",
    "filter_list([1, 2, \"a\", \"b\"]) ➞ [1, 2]<br>\n",
    "filter_list([1, \"a\", \"b\", 0, 15]) ➞ [1, 0, 15]<br>\n",
    "filter_list([1, 2, \"aasf\", \"1\", \"123\", 123]) ➞ [1, 2, 123]<br>"
   ]
  },
  {
   "cell_type": "code",
   "execution_count": 7,
   "id": "2dca8c86",
   "metadata": {},
   "outputs": [
    {
     "name": "stdout",
     "output_type": "stream",
     "text": [
      "filter_list [1, 2, 'a', 'b'] --> [1, 2]\n",
      "filter_list [1, 'a', 'b', 0, 15] --> [1, 0, 15]\n",
      "filter_list [1, 2, 'aasf', '1', '123', 123] --> [1, 2, 123]\n"
     ]
    }
   ],
   "source": [
    "def filter_list(list):\n",
    "    num=[]\n",
    "    for i in list:\n",
    "        if type(i)==int:\n",
    "            num.append(i)\n",
    "    print(\"filter_list\",(list),\"-->\",num)\n",
    "\n",
    "filter_list([1, 2, \"a\", \"b\"]) \n",
    "filter_list([1, \"a\", \"b\", 0, 15])\n",
    "filter_list([1, 2, \"aasf\", \"1\", \"123\", 123])"
   ]
  },
  {
   "cell_type": "markdown",
   "id": "03df69ee",
   "metadata": {},
   "source": [
    "### 3.The &quot;Reverser&quot; takes a string as input and returns that string in reverse order, with the opposite case.\n",
    "**Examples**<br>\n",
    "reverse(\"Hello World\") ➞ \"DLROw OLLEh\"<br>\n",
    "reverse(\"ReVeRsE\") ➞ \"eSrEvEr\"<br>\n",
    "reverse(\"Radar\") ➞ \"RADAr\"<br>"
   ]
  },
  {
   "cell_type": "code",
   "execution_count": 12,
   "id": "4c0b5559",
   "metadata": {},
   "outputs": [
    {
     "name": "stdout",
     "output_type": "stream",
     "text": [
      "Reverser Hello World ➞ DLROw OLLEh\n",
      "Reverser ReVeRsE ➞ eSrEvEr\n",
      "Reverser Radar ➞ RADAr\n"
     ]
    }
   ],
   "source": [
    "#Ans\n",
    "def Reverser(string):\n",
    "    print(\"Reverser\",string,\"➞\",string[::-1].swapcase())\n",
    "\n",
    "Reverser(\"Hello World\")\n",
    "Reverser(\"ReVeRsE\")\n",
    "Reverser(\"Radar\")"
   ]
  },
  {
   "cell_type": "markdown",
   "id": "5de22a80",
   "metadata": {},
   "source": [
    "### 3.You can assign variables from lists like this:\n",
    "lst = [1, 2, 3, 4, 5, 6]<br>\n",
    "first = lst[0]<br>\n",
    "middle = lst[1:-1]<br>\n",
    "last = lst[-1]<br>\n",
    "`print(first) ➞ outputs 1`<br>\n",
    "`print(middle) ➞ outputs [2, 3, 4, 5]`<br>\n",
    "`print(last) ➞ outputs 6`<br>\n",
    "With Python 3, you can assign variables from lists in a much more succinct way.<br> \n",
    "Create variables first, middle and last from the given list using destructuring assignment  (check the Resources tab for some examples), where:<br>\n",
    "`first ➞ 1`<br>\n",
    "`middle ➞ [2, 3, 4, 5]`<br>\n",
    "`last ➞ 6`<br>`\n",
    "\n",
    "Your task is to unpack the list writeyourcodehere into three variables, being first,middle, and last, with middle being everything in between the first and last element. Then print all three variables."
   ]
  },
  {
   "cell_type": "code",
   "execution_count": 16,
   "id": "c48ab229",
   "metadata": {},
   "outputs": [
    {
     "name": "stdout",
     "output_type": "stream",
     "text": [
      "first ➞ 1\n",
      "middle ➞ [2, 3, 4, 5]\n",
      "last ➞ 6\n"
     ]
    }
   ],
   "source": [
    "#Ans\n",
    "first, *middle, last = [1,2,3,4,5,6]\n",
    "print(f'first ➞ {first}')\n",
    "print(f'middle ➞ {middle}')\n",
    "print(f'last ➞ {last}')"
   ]
  },
  {
   "cell_type": "markdown",
   "id": "b645f34e",
   "metadata": {},
   "source": [
    "### 4.Write a function that calculates the factorial of a number recursively.\n",
    "**Examples**<br>\n",
    "factorial(5) ➞ 120<br>\n",
    "factorial(3) ➞ 6<br>\n",
    "factorial(1) ➞ 1<br>\n",
    "factorial(0) ➞ 1<br>"
   ]
  },
  {
   "cell_type": "code",
   "execution_count": 32,
   "id": "5c011a76",
   "metadata": {},
   "outputs": [
    {
     "name": "stdout",
     "output_type": "stream",
     "text": [
      "factorial(5) ➞ 120\n",
      "factorial(3) ➞ 6\n",
      "factorial(1) ➞ 1\n",
      "factorial(0) ➞ 1\n"
     ]
    }
   ],
   "source": [
    "#Ans\n",
    "def factorial(num):\n",
    "    if num <= 1:\n",
    "        return (1)\n",
    "    else:\n",
    "        return(num * factorial(num-1))\n",
    "        \n",
    "print(\"factorial(5)\",\"➞\",factorial(5)) \n",
    "print(\"factorial(3)\",\"➞\",factorial(3)) \n",
    "print(\"factorial(1)\",\"➞\",factorial(1)) \n",
    "print(\"factorial(0)\",\"➞\",factorial(0)) "
   ]
  },
  {
   "cell_type": "code",
   "execution_count": null,
   "id": "47b9849f",
   "metadata": {},
   "outputs": [],
   "source": [
    "\"factorial\",num,\"➞\",\n",
    "factorial(3) \n",
    "factorial(1) \n",
    "factorial(0) "
   ]
  },
  {
   "cell_type": "markdown",
   "id": "504ca199",
   "metadata": {},
   "source": [
    "### 5.Write a function that moves all elements of one type to the end of the list.\n",
    "**Examples:**<br>\n",
    "move_to_end([1, 3, 2, 4, 4, 1], 1) ➞ [3, 2, 4, 4, 1, 1]<br>\n",
    "Move all the 1s to the end of the array.<br>\n",
    "move_to_end([7, 8, 9, 1, 2, 3, 4], 9) ➞ [7, 8, 1, 2, 3, 4, 9]<br>\n",
    "move_to_end([\"a\", \"a\", \"a\", \"b\"], \"a\") ➞ [\"b\", \"a\", \"a\", \"a\"]<br>\n"
   ]
  },
  {
   "cell_type": "code",
   "execution_count": 13,
   "id": "9cfea5a6",
   "metadata": {},
   "outputs": [
    {
     "name": "stdout",
     "output_type": "stream",
     "text": [
      "move_to_end([1, 3, 2, 4, 4, 1], 1) ➞ [3, 2, 4, 4, 1, 1]\n",
      "move_to_end([7, 8, 9, 1, 2, 3, 4], 9) ➞ [7, 8, 1, 2, 3, 4, 9]\n",
      "move_to_end([\"a\", \"a\", \"a\", \"b\"], \"a\") ➞ ['b', 'a', 'a', 'a']\n"
     ]
    }
   ],
   "source": [
    "#Ans\n",
    "def move_to_end(list,num):\n",
    "    first_end = []\n",
    "    second_end = []\n",
    "    for ele in list:\n",
    "        if ele == num:\n",
    "            second_end.append(ele)\n",
    "        else:\n",
    "            first_end.append(ele)\n",
    "    first_end.extend(second_end)\n",
    "    return first_end\n",
    "    \n",
    "print(f'move_to_end([1, 3, 2, 4, 4, 1], 1) ➞ {move_to_end([1, 3, 2, 4, 4, 1], 1)}')\n",
    "print(f'move_to_end([7, 8, 9, 1, 2, 3, 4], 9) ➞ {move_to_end([7, 8, 9, 1, 2, 3, 4], 9)}')\n",
    "print(f'move_to_end([\"a\", \"a\", \"a\", \"b\"], \"a\") ➞ {move_to_end([\"a\", \"a\", \"a\", \"b\"], \"a\")}')"
   ]
  },
  {
   "cell_type": "code",
   "execution_count": 12,
   "id": "143bd678",
   "metadata": {},
   "outputs": [
    {
     "data": {
      "text/plain": [
       "[8, 9, 1, 2, 3, 4, 7]"
      ]
     },
     "execution_count": 12,
     "metadata": {},
     "output_type": "execute_result"
    }
   ],
   "source": [
    "first_end"
   ]
  },
  {
   "cell_type": "code",
   "execution_count": null,
   "id": "6986af19",
   "metadata": {},
   "outputs": [],
   "source": []
  }
 ],
 "metadata": {
  "kernelspec": {
   "display_name": "Python 3 (ipykernel)",
   "language": "python",
   "name": "python3"
  },
  "language_info": {
   "codemirror_mode": {
    "name": "ipython",
    "version": 3
   },
   "file_extension": ".py",
   "mimetype": "text/x-python",
   "name": "python",
   "nbconvert_exporter": "python",
   "pygments_lexer": "ipython3",
   "version": "3.11.5"
  }
 },
 "nbformat": 4,
 "nbformat_minor": 5
}
