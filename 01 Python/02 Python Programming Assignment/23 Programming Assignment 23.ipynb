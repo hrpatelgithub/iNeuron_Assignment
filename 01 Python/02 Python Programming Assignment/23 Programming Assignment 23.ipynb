{
 "cells": [
  {
   "cell_type": "markdown",
   "id": "5ed579c9",
   "metadata": {},
   "source": [
    "### 1.Create a function that takes a number as an argument and returns True or False depending on whether the number is symmetrical or not. A number is symmetrical when it is the same as its reverse.\n",
    "**Examples**<br>\n",
    "is_symmetrical(7227) ➞ True<br>\n",
    "is_symmetrical(12567) ➞ False<br>\n",
    "is_symmetrical(44444444) ➞ True<br>\n",
    "is_symmetrical(9939) ➞ False<br>\n",
    "is_symmetrical(1112111) ➞ True"
   ]
  },
  {
   "cell_type": "code",
   "execution_count": 2,
   "id": "f3dbcef1",
   "metadata": {},
   "outputs": [
    {
     "name": "stdout",
     "output_type": "stream",
     "text": [
      "is_symmetrical 7227 ➞  True\n",
      "is_symmetrical 12567 ➞  False\n",
      "is_symmetrical 44444444 ➞  True\n",
      "is_symmetrical 9939 ➞  False\n",
      "is_symmetrical 1112111 ➞  True\n"
     ]
    }
   ],
   "source": [
    "#Ans\n",
    "def is_symmetrical(num):\n",
    "    if str(num) == str(num)[::-1]:\n",
    "        print(\"is_symmetrical\",num,\"➞ \",\"True\")\n",
    "    else:\n",
    "        print(\"is_symmetrical\",num,\"➞ \",\"False\")\n",
    "       \n",
    "is_symmetrical(7227)\n",
    "is_symmetrical(12567)\n",
    "is_symmetrical(44444444)\n",
    "is_symmetrical(9939)\n",
    "is_symmetrical(1112111)\n"
   ]
  },
  {
   "cell_type": "markdown",
   "id": "0f1d08ec",
   "metadata": {},
   "source": [
    "### 2.Given a string of numbers separated by a comma and space, return the product of the numbers.\n",
    "**Examples:**<br>\n",
    "multiply_nums(\"2, 3\") ➞ 6<br>\n",
    "multiply_nums(\"1, 2, 3, 4\") ➞ 24<br>\n",
    "multiply_nums(\"54, 75, 453, 0\") ➞ 0<br>\n",
    "multiply_nums(\"10, -2\") ➞ -20"
   ]
  },
  {
   "cell_type": "code",
   "execution_count": 3,
   "id": "024fe2a0",
   "metadata": {},
   "outputs": [
    {
     "name": "stdout",
     "output_type": "stream",
     "text": [
      "multiply_nums 2, 3 ➞  6\n",
      "multiply_nums 1, 2, 3, 4 ➞  24\n",
      "multiply_nums 54, 75, 453, 0 ➞  0\n",
      "multiply_nums 10, -2 ➞  -20\n"
     ]
    }
   ],
   "source": [
    "#Ans\n",
    "def multiply_nums(s):\n",
    "    l = s.split(\",\")\n",
    "    product = 1\n",
    "    for i in l:\n",
    "        product =product * int(i)\n",
    "    print(\"multiply_nums\",s,\"➞ \",product)\n",
    "\n",
    "multiply_nums(\"2, 3\")\n",
    "multiply_nums(\"1, 2, 3, 4\")\n",
    "multiply_nums(\"54, 75, 453, 0\")\n",
    "multiply_nums(\"10, -2\")"
   ]
  },
  {
   "cell_type": "markdown",
   "id": "a6ebfd92",
   "metadata": {},
   "source": [
    "### 3.Create a function that squares every digit of a number.\n",
    "**Examples**<br>\n",
    "square_digits(9119) ➞ 811181<br>\n",
    "square_digits(2483) ➞ 416649<br>\n",
    "square_digits(3212) ➞ 9414<br>\n",
    "**Notes**<br>\n",
    "`The function receives an integer and must return an integer.`"
   ]
  },
  {
   "cell_type": "code",
   "execution_count": 4,
   "id": "a59dc074",
   "metadata": {},
   "outputs": [
    {
     "name": "stdout",
     "output_type": "stream",
     "text": [
      "square_digits 9119 ➞  811181\n",
      "square_digits 2483 ➞  416649\n",
      "square_digits 3212 ➞  9414\n"
     ]
    }
   ],
   "source": [
    "#Ans\n",
    "def square_digits(n): \n",
    "    l = list(str(n))\n",
    "    for i in range(len(l)):\n",
    "        l[i] = str(int(l[i])**2)\n",
    "    print(\"square_digits\",n,\"➞ \",\"\".join(l))\n",
    "\n",
    "square_digits(9119)\n",
    "square_digits(2483)\n",
    "square_digits(3212)"
   ]
  },
  {
   "cell_type": "markdown",
   "id": "1f84ceeb",
   "metadata": {},
   "source": [
    "### 4.Create a function that sorts a list and removes all duplicate items from it.\n",
    "**Examples**<br>\n",
    "setify([1, 3, 3, 5, 5]) ➞ [1, 3, 5]<br>\n",
    "setify([4, 4, 4, 4]) ➞ [4]<br>\n",
    "setify([5, 7, 8, 9, 10, 15]) ➞ [5, 7, 8, 9, 10, 15]<br>\n",
    "setify([3, 3, 3, 2, 1]) ➞ [1, 2, 3]"
   ]
  },
  {
   "cell_type": "code",
   "execution_count": 11,
   "id": "6fc8e3f9",
   "metadata": {},
   "outputs": [
    {
     "name": "stdout",
     "output_type": "stream",
     "text": [
      "setify [1, 3, 3, 5, 5] ➞  [1, 3, 5]\n",
      "setify [4, 4, 4, 4] ➞  [4]\n",
      "setify [5, 7, 8, 9, 10, 15] ➞  [5, 7, 8, 9, 10, 15]\n",
      "setify [1, 2, 3, 3, 3] ➞  [1, 2, 3]\n"
     ]
    }
   ],
   "source": [
    "#Ans\n",
    "def setify(lst): \n",
    "    lst1 = list(set(lst))\n",
    "    lst.sort()\n",
    "    print(\"setify\",lst,\"➞ \",lst1)\n",
    "\n",
    "setify([1, 3, 3, 5, 5])\n",
    "setify([4, 4, 4, 4])\n",
    "setify([5, 7, 8, 9, 10, 15])\n",
    "setify([3, 3, 3, 2, 1])"
   ]
  },
  {
   "cell_type": "markdown",
   "id": "24953718",
   "metadata": {},
   "source": [
    "### 5.Create a function that returns the mean of all digits.\n",
    "**Examples**<br>\n",
    "mean(42) ➞ 3<br>\n",
    "mean(12345) ➞ 3<br>\n",
    "mean(666) ➞ 6<br>\n",
    "**Notes**<br>\n",
    "The mean of all digits is the sum of digits / how many digits there are (e.g. mean of digits in\n",
    "512 is (5+1+2)/3(number of digits) = 8/3=2).<br>\n",
    " The mean will always be an integer."
   ]
  },
  {
   "cell_type": "code",
   "execution_count": 13,
   "id": "9f7d1790",
   "metadata": {},
   "outputs": [
    {
     "name": "stdout",
     "output_type": "stream",
     "text": [
      "mean 42 ➞  3.0\n",
      "mean 12345 ➞  3.0\n",
      "mean 666 ➞  6.0\n"
     ]
    }
   ],
   "source": [
    "#Ans\n",
    "def mean(n):\n",
    "    l = list(str(n))\n",
    "    sum = 0\n",
    "    for i in l:\n",
    "        sum = sum + int(i)\n",
    "    print(\"mean\",n,\"➞ \",sum/len(l))\n",
    "    \n",
    "mean(42)\n",
    "mean(12345)\n",
    "mean(666)\n"
   ]
  },
  {
   "cell_type": "code",
   "execution_count": null,
   "id": "d5d8655c",
   "metadata": {},
   "outputs": [],
   "source": []
  }
 ],
 "metadata": {
  "kernelspec": {
   "display_name": "Python 3 (ipykernel)",
   "language": "python",
   "name": "python3"
  },
  "language_info": {
   "codemirror_mode": {
    "name": "ipython",
    "version": 3
   },
   "file_extension": ".py",
   "mimetype": "text/x-python",
   "name": "python",
   "nbconvert_exporter": "python",
   "pygments_lexer": "ipython3",
   "version": "3.11.5"
  }
 },
 "nbformat": 4,
 "nbformat_minor": 5
}
