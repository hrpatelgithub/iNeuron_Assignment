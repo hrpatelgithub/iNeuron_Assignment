{
 "cells": [
  {
   "cell_type": "markdown",
   "id": "3b851a49",
   "metadata": {},
   "source": [
    "### 1.Create a function that takes a list of strings and integers, and filters out the list so that it returns a list of integers only.\n",
    "**Examples:**<br>\n",
    "filter_list([1, 2, 3, \"a\", \"b\", 4]) ➞ [1, 2, 3, 4]<br>\n",
    "filter_list([\"A\", 0, \"Edabit\", 1729, \"Python\", \"1729\"]) ➞ [0, 1729]<br>\n",
    "filter_list([\"Nothing\", \"here\"]) ➞ []\n",
    "\n"
   ]
  },
  {
   "cell_type": "code",
   "execution_count": 2,
   "id": "a4a7ba44",
   "metadata": {},
   "outputs": [
    {
     "name": "stdout",
     "output_type": "stream",
     "text": [
      "filter_list [1, 2, 3, 'a', 'b', 4] ➞ [1, 2, 3, 4]\n",
      "filter_list ['A', 0, 'Edabit', 1729, 'Python', '1729'] ➞ [0, 1729]\n",
      "filter_list ['Nothing', 'here'] ➞ []\n"
     ]
    }
   ],
   "source": [
    "#Ans\n",
    "def filter_list(list1):\n",
    "    num_list=[]\n",
    "    for i in list1:\n",
    "        if type(i)== int:\n",
    "            num_list.append(i)\n",
    "    print(\"filter_list\",list1,\"➞\",num_list)\n",
    "\n",
    "filter_list([1, 2, 3, \"a\", \"b\", 4]) \n",
    "filter_list([\"A\", 0, \"Edabit\", 1729, \"Python\", \"1729\"])\n",
    "filter_list([\"Nothing\", \"here\"]) "
   ]
  },
  {
   "cell_type": "markdown",
   "id": "c614ae19",
   "metadata": {},
   "source": [
    "### 3.Given a list of numbers, create a function which returns the list but with each element's index in the list added to itself. This means you add 0 to the number at index 0, add 1 to the number at index 1, etc...\n",
    "**Examples**<br>\n",
    "add_indexes([0, 0, 0, 0, 0]) ➞ [0, 1, 2, 3, 4]<br>\n",
    "add_indexes([1, 2, 3, 4, 5]) ➞ [1, 3, 5, 7, 9]<br>\n",
    "add_indexes([5, 4, 3, 2, 1]) ➞ [5, 5, 5, 5, 5]<br>"
   ]
  },
  {
   "cell_type": "code",
   "execution_count": 9,
   "id": "63a32a7c",
   "metadata": {},
   "outputs": [
    {
     "name": "stdout",
     "output_type": "stream",
     "text": [
      "add_indexes [0, 0, 0, 0, 0] ➞ [0, 1, 2, 3, 4]\n",
      "add_indexes [1, 2, 3, 4, 5] ➞ [1, 3, 5, 7, 9]\n",
      "add_indexes [5, 4, 3, 2, 1] ➞ [5, 5, 5, 5, 5]\n"
     ]
    }
   ],
   "source": [
    "#Ans\n",
    "def add_indexes(num_list):\n",
    "    index_list=[]\n",
    "    for i in range(len(num_list)):\n",
    "        index_list.append(num_list[i]+i)\n",
    "    print(\"add_indexes\",num_list,\"➞\",index_list)\n",
    "\n",
    "add_indexes([0, 0, 0, 0, 0])\n",
    "add_indexes([1, 2, 3, 4, 5]) \n",
    "add_indexes([5, 4, 3, 2, 1])\n"
   ]
  },
  {
   "cell_type": "markdown",
   "id": "b589b296",
   "metadata": {},
   "source": [
    "### 3.Create a function that takes the height and radius of a cone as arguments and returns the volume of the cone rounded to the nearest hundredth.\n",
    "**Example**<br>\n",
    "cone_volume(3, 2) ➞ 12.57<br>\n",
    "cone_volume(15, 6) ➞ 565.49<br>\n",
    "cone_volume(18, 0) ➞ 0<br>"
   ]
  },
  {
   "cell_type": "code",
   "execution_count": 10,
   "id": "2860970e",
   "metadata": {},
   "outputs": [
    {
     "name": "stdout",
     "output_type": "stream",
     "text": [
      "cone_volume (3, 2) ➞ 12.57\n",
      "cone_volume (15, 6) ➞ 565.49\n",
      "cone_volume (18, 0) ➞ 0.0\n"
     ]
    }
   ],
   "source": [
    "#Ans\n",
    "import math\n",
    "def cone_volume(h,r):\n",
    "    volume=round(((math.pi*(r*r))*(h/3)),2)\n",
    "    print(\"cone_volume\",(h,r),\"➞\",volume)\n",
    "\n",
    "cone_volume(3, 2) \n",
    "cone_volume(15, 6)\n",
    "cone_volume(18, 0)"
   ]
  },
  {
   "cell_type": "markdown",
   "id": "d44152c7",
   "metadata": {},
   "source": [
    "### 4This Triangular Number Sequence is generated from a pattern of dots that form a triangle. \n",
    "The first 5 numbers of the sequence, or dots, are:<br>\n",
    "`1, 3, 6, 10, 15`<br>\n",
    "This means that the first triangle has just one dot, the second one has three dots, the third onehas 6 dots and so on.<br>\n",
    "Write a function that gives the number of dots with its corresponding triangle number of thesequence.<br>\n",
    "**Examples**<br>\n",
    "triangle(1) ➞ 1<br>\n",
    "triangle(6) ➞ 21<br>\n",
    "triangle(215) ➞ 23220"
   ]
  },
  {
   "cell_type": "code",
   "execution_count": 12,
   "id": "770fc875",
   "metadata": {},
   "outputs": [
    {
     "name": "stdout",
     "output_type": "stream",
     "text": [
      "triangle 1 ➞ 1.0\n",
      "triangle 6 ➞ 21.0\n",
      "triangle 215 ➞ 23220.0\n"
     ]
    }
   ],
   "source": [
    "#Ans\n",
    "def triangle(n):\n",
    "    dots=n*(n+1)*0.5\n",
    "    print(\"triangle\",n,\"➞\",dots)\n",
    "    \n",
    "triangle(1) \n",
    "triangle(6) \n",
    "triangle(215)"
   ]
  },
  {
   "cell_type": "markdown",
   "id": "463cc104",
   "metadata": {},
   "source": [
    "### 5.Create a function that takes a list of numbers between 1 and 10 (excluding one number) and returns the missing number.\n",
    "**Examples:**<br>\n",
    "missing_num([1, 2, 3, 4, 6, 7, 8, 9, 10]) ➞ 5<br>\n",
    "missing_num([7, 2, 3, 6, 5, 9, 1, 4, 8]) ➞ 10<br>\n",
    "missing_num([10, 5, 1, 2, 4, 6, 8, 3, 9]) ➞ 7"
   ]
  },
  {
   "cell_type": "code",
   "execution_count": 14,
   "id": "8e2b54a1",
   "metadata": {},
   "outputs": [
    {
     "name": "stdout",
     "output_type": "stream",
     "text": [
      "missing_num [1, 2, 3, 4, 6, 7, 8, 9, 10]  ➞ 5\n",
      "missing_num [7, 2, 3, 6, 5, 9, 1, 4, 8]  ➞ 10\n",
      "missing_num [10, 5, 1, 2, 4, 6, 8, 3, 9]  ➞ 7\n"
     ]
    }
   ],
   "source": [
    "#Ans\n",
    "def missing_num(num_list):\n",
    "    total=(10*11)/2\n",
    "    miss=int(total-sum(num_list))\n",
    "    print(\"missing_num\",num_list,\" ➞\",miss)\n",
    "    \n",
    "missing_num([1, 2, 3, 4, 6, 7, 8, 9, 10])\n",
    "missing_num([7, 2, 3, 6, 5, 9, 1, 4, 8]) \n",
    "missing_num([10, 5, 1, 2, 4, 6, 8, 3, 9])"
   ]
  },
  {
   "cell_type": "code",
   "execution_count": null,
   "id": "0f1ee0e3",
   "metadata": {},
   "outputs": [],
   "source": []
  }
 ],
 "metadata": {
  "kernelspec": {
   "display_name": "Python 3 (ipykernel)",
   "language": "python",
   "name": "python3"
  },
  "language_info": {
   "codemirror_mode": {
    "name": "ipython",
    "version": 3
   },
   "file_extension": ".py",
   "mimetype": "text/x-python",
   "name": "python",
   "nbconvert_exporter": "python",
   "pygments_lexer": "ipython3",
   "version": "3.11.5"
  }
 },
 "nbformat": 4,
 "nbformat_minor": 5
}
