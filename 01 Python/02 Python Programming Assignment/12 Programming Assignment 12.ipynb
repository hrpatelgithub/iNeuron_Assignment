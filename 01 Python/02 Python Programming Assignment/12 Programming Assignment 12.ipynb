{
 "cells": [
  {
   "cell_type": "markdown",
   "id": "0b319d07",
   "metadata": {},
   "source": [
    "# 1. Write a Python program to Extract Unique values dictionary values?"
   ]
  },
  {
   "cell_type": "code",
   "execution_count": 3,
   "id": "403b541c",
   "metadata": {},
   "outputs": [
    {
     "name": "stdout",
     "output_type": "stream",
     "text": [
      "Unique value of dictionary is {1, 2, 3, 4}\n"
     ]
    }
   ],
   "source": [
    "#Ans\n",
    "dicto={\"a\":1,\"b\":2,\"c\":3,\"d\":4,\"e\":2,\"f\":4}\n",
    "uni_value={i for i in dicto.values()}\n",
    "print(\"Unique value of dictionary is\",uni_value)"
   ]
  },
  {
   "cell_type": "markdown",
   "id": "e42a8329",
   "metadata": {},
   "source": [
    "# 2. Write a Python program to find the sum of all items in a dictionary?"
   ]
  },
  {
   "cell_type": "code",
   "execution_count": 5,
   "id": "f36d6715",
   "metadata": {},
   "outputs": [
    {
     "name": "stdout",
     "output_type": "stream",
     "text": [
      "The sum of all mitems in dictionary is 189\n"
     ]
    }
   ],
   "source": [
    "#Ans\n",
    "dicto={\"a\":10,\"b\":22,\"c\":43,\"d\":40,\"e\":25,\"f\":49}\n",
    "sum=0\n",
    "for i in dicto.values():\n",
    "    sum=sum+i\n",
    "    \n",
    "print(\"The sum of all mitems in dictionary is\",sum)"
   ]
  },
  {
   "cell_type": "markdown",
   "id": "550ef3cd",
   "metadata": {},
   "source": [
    "# 3. Write a Python program to Merging two Dictionaries?"
   ]
  },
  {
   "cell_type": "code",
   "execution_count": 13,
   "id": "e6a3fd5c",
   "metadata": {},
   "outputs": [
    {
     "name": "stdout",
     "output_type": "stream",
     "text": [
      "After the merging dict is {'a': 1, 'b': 2, 'C': 3, 'e': 'Harsh', 'f': 'Patel', 'g': 'Umreth'}\n"
     ]
    }
   ],
   "source": [
    "#Ans\n",
    "dict_01={\"a\":1,\"b\":2,\"C\":3}\n",
    "dict_02={\"e\":\"Harsh\",\"f\":\"Patel\",\"g\":\"Umreth\"}\n",
    "final=dict_01.update(dict_02)\n",
    "print(\"After the merging dict is\",dict_01)\n"
   ]
  },
  {
   "cell_type": "markdown",
   "id": "8d883cef",
   "metadata": {},
   "source": [
    "# 4. Write a Python program to convert key-values list to flat dictionary?"
   ]
  },
  {
   "cell_type": "code",
   "execution_count": 17,
   "id": "4fa253a4",
   "metadata": {},
   "outputs": [
    {
     "name": "stdout",
     "output_type": "stream",
     "text": [
      "list [('a', 10), ('b', 20), ('c', 30), ('d', 40)] convert in to flat dictionary {'a': 10, 'b': 20, 'c': 30, 'd': 40}\n"
     ]
    }
   ],
   "source": [
    "#Ans\n",
    "my_list=[(\"a\",10),(\"b\",20),(\"c\",30),(\"d\",40)]\n",
    "out_dict=dict(my_list)\n",
    "print(\"list\",my_list,\"convert in to flat dictionary\",out_dict)"
   ]
  },
  {
   "cell_type": "markdown",
   "id": "4eeced7d",
   "metadata": {},
   "source": [
    "# 5. Write a Python program to insertion at the beginning in OrderedDict?"
   ]
  },
  {
   "cell_type": "code",
   "execution_count": 13,
   "id": "5f68f230",
   "metadata": {},
   "outputs": [
    {
     "name": "stdout",
     "output_type": "stream",
     "text": [
      "After insertion at the beginning OrderedDict([('e', 'harsh'), ('a', 10), ('b', 20), ('c', 30), ('d', 40)])\n"
     ]
    }
   ],
   "source": [
    "#Ans\n",
    "from collections import OrderedDict\n",
    "dict_1=OrderedDict({'a': 10, 'b': 20, 'c': 30, 'd': 40})\n",
    "dict_2={\"e\":\"harsh\"}\n",
    "dict_1.update(dict_2)\n",
    "dict_1.move_to_end('e',last=False)\n",
    "print(\"After insertion at the beginning\",dict_1)"
   ]
  },
  {
   "cell_type": "markdown",
   "id": "c57dfd72",
   "metadata": {},
   "source": [
    "# 6. Write a Python program to check order of character in string using OrderedDict()?"
   ]
  },
  {
   "cell_type": "code",
   "execution_count": 17,
   "id": "6c8a1448",
   "metadata": {},
   "outputs": [
    {
     "name": "stdout",
     "output_type": "stream",
     "text": [
      "Dictionary before unoder of character  OrderedDict([('b', 10), ('e', 20), ('a', 30), ('c', 40), ('d', 50)]) \n",
      "Dictionary after oder of character OrderedDict([('a', 30), ('b', 10), ('c', 40), ('d', 50), ('e', 20)])\n"
     ]
    }
   ],
   "source": [
    "#Ans\n",
    "from collections import OrderedDict\n",
    "dict1=OrderedDict({'b': 10, 'e': 20, 'a': 30, 'c': 40,'d':50})\n",
    "final_dict=OrderedDict(dict(sorted(dict1.items())))\n",
    "print(\"Dictionary before unoder of character \",dict1,\"\\n\"\"Dictionary after oder of character\",final_dict)\n",
    "        "
   ]
  },
  {
   "cell_type": "markdown",
   "id": "b3d0e1da",
   "metadata": {},
   "source": [
    "# 7. Write a Python program to sort Python Dictionaries by Key or Value?"
   ]
  },
  {
   "cell_type": "code",
   "execution_count": 24,
   "id": "c45fef0b",
   "metadata": {},
   "outputs": [
    {
     "name": "stdout",
     "output_type": "stream",
     "text": [
      "Sort Dictionaries by Key [('a', 30), ('b', 10), ('c', 40), ('d', 50), ('e', 20)]\n",
      "Sort Dictionaries by Value [10, 20, 30, 40, 50]\n"
     ]
    }
   ],
   "source": [
    "#Ans\n",
    "from collections import OrderedDict\n",
    "dict1={'b': 10, 'e': 20, 'a': 30, 'c': 40,'d':50}\n",
    "print(\"Sort Dictionaries by Key\",sorted(dict1.items()))\n",
    "print(\"Sort Dictionaries by Value\",sorted(dict1.values()))\n"
   ]
  },
  {
   "cell_type": "code",
   "execution_count": null,
   "id": "d38db61f",
   "metadata": {},
   "outputs": [],
   "source": []
  },
  {
   "cell_type": "code",
   "execution_count": null,
   "id": "56cee795",
   "metadata": {},
   "outputs": [],
   "source": []
  }
 ],
 "metadata": {
  "kernelspec": {
   "display_name": "Python 3 (ipykernel)",
   "language": "python",
   "name": "python3"
  },
  "language_info": {
   "codemirror_mode": {
    "name": "ipython",
    "version": 3
   },
   "file_extension": ".py",
   "mimetype": "text/x-python",
   "name": "python",
   "nbconvert_exporter": "python",
   "pygments_lexer": "ipython3",
   "version": "3.11.5"
  }
 },
 "nbformat": 4,
 "nbformat_minor": 5
}
