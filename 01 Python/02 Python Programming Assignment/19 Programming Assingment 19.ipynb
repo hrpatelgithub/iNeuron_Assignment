{
 "cells": [
  {
   "cell_type": "markdown",
   "id": "b794efde",
   "metadata": {},
   "source": [
    "### 1.Create a function that takes a string and returns a string in which each character is repeated once.\n",
    "**Examples:**<br>\n",
    "double_char(\"String\") ➞ \"SSttrriinngg\"<br>\n",
    "double_char(\"Hello World!\") ➞ \"HHeelllloo WWoorrlldd!!\"<br>\n",
    "doublechar(\"1234!_\") ➞ \"11223344!!__\""
   ]
  },
  {
   "cell_type": "code",
   "execution_count": 2,
   "id": "b9146258",
   "metadata": {},
   "outputs": [
    {
     "name": "stdout",
     "output_type": "stream",
     "text": [
      "SSttrriinnggNone\n",
      "HHeelllloo  WWoorrlldd!!None\n",
      "11223344!!None\n"
     ]
    }
   ],
   "source": [
    "#Ans\n",
    "def double_char(word):\n",
    "    for i in word:\n",
    "        i=i*2\n",
    "        print(i,end=\"\")\n",
    "\n",
    "print(double_char(\"String\"))\n",
    "print(double_char(\"Hello World!\"))\n",
    "print(double_char(\"1234!\"))"
   ]
  },
  {
   "cell_type": "markdown",
   "id": "caa3e866",
   "metadata": {},
   "source": [
    "### 2.Create a function that reverses a boolean value and returns the string \"boolean expected\",if another variable type is given.\n",
    "**Examples**<br>\n",
    "reverse(True) ➞ False<br>\n",
    "reverse(False) ➞ True<br>\n",
    "reverse(0) ➞ \"boolean expected\"<br>\n",
    "reverse(None) ➞ \"boolean expected\""
   ]
  },
  {
   "cell_type": "code",
   "execution_count": 18,
   "id": "33b96291",
   "metadata": {},
   "outputs": [
    {
     "name": "stdout",
     "output_type": "stream",
     "text": [
      "reverse True --> False\n",
      "reverse False --> True\n",
      "reverse 0 --> boolean expected\n",
      "reverse None --> boolean expected\n"
     ]
    }
   ],
   "source": [
    "#Ans\n",
    "def reverse(boolean):\n",
    "    if type(boolean)==bool:\n",
    "        print(\"reverse\",boolean,\"-->\", not boolean)\n",
    "    else:\n",
    "        print(\"reverse\",(boolean),\"-->\", \"boolean expected\")\n",
    "        \n",
    "reverse(True) \n",
    "reverse(False) \n",
    "reverse(0) \n",
    "reverse(None) "
   ]
  },
  {
   "cell_type": "markdown",
   "id": "ebf151bb",
   "metadata": {},
   "source": [
    "### 3. Create a function that returns the thickness (in meters) of a piece of paper after folding it n number of times. The paper starts off with a thickness of 0.5mm.\n",
    "**Examples:**<br>\n",
    "num_layers(1) ➞ \"0.001m\" # Paper folded once is 1mm (equal to 0.001m)<br>\n",
    "num_layers(4) ➞ \"0.008m\" # Paper folded 4 times is 8mm (equal to 0.008m)<br>\n",
    "num_layers(21) ➞ \"1048.576m\" # Paper folded 21 times is 1048576mm (equal to 1048.576m)"
   ]
  },
  {
   "cell_type": "code",
   "execution_count": 27,
   "id": "e31e7e27",
   "metadata": {},
   "outputs": [
    {
     "name": "stdout",
     "output_type": "stream",
     "text": [
      "num_layers 1 --> 0.001 m\n",
      "num_layers 4 --> 0.008 m\n",
      "num_layers 21 --> 1048.576 m\n"
     ]
    }
   ],
   "source": [
    "#Ans\n",
    "def num_layers(n):\n",
    "    thickness = 0.5\n",
    "    for ele in range(n):\n",
    "        thickness *= 2\n",
    "    print((\"num_layers\"),n,\"-->\",thickness / 1000,'m')\n",
    "num_layers(1)\n",
    "num_layers(4)\n",
    "num_layers(21)"
   ]
  },
  {
   "cell_type": "markdown",
   "id": "058ae511",
   "metadata": {},
   "source": [
    "### 4.Create a function that takes a single string as argument and returns an ordered list containing the indices of all capital letters in the string.\n",
    "**Examples:**<br>\n",
    "index_of_caps(\"eDaBiT\") ➞ [1, 3, 5]<br>\n",
    "index_of_caps(\"eQuINoX\") ➞ [1, 3, 4, 6]<br>\n",
    "index_of_caps(\"determine\") ➞ []<br>\n",
    "index_of_caps(\"STRIKE\") ➞ [0, 1, 2, 3, 4, 5]<br>\n",
    "index_of_caps(\"sUn\") ➞ [1]"
   ]
  },
  {
   "cell_type": "code",
   "execution_count": 62,
   "id": "70818472",
   "metadata": {},
   "outputs": [
    {
     "name": "stdout",
     "output_type": "stream",
     "text": [
      "index_of_caps: eDaBiT :--> [1, 3, 5]\n",
      "index_of_caps: eQuINoX :--> [1, 3, 4, 6]\n",
      "index_of_caps: determine :--> []\n",
      "index_of_caps: determine :--> []\n",
      "index_of_caps: STRIKE :--> [0, 1, 2, 3, 4, 5]\n",
      "index_of_caps: sUn :--> [1]\n"
     ]
    }
   ],
   "source": [
    "#Ans\n",
    "def index_of_caps(n):\n",
    "    capital=[]\n",
    "    for i in n:\n",
    "        if i.isupper():\n",
    "            capital.append(n.index(i))\n",
    "    print(\"index_of_caps:\",n,\":-->\",capital)\n",
    "\n",
    "index_of_caps(\"eDaBiT\")\n",
    "index_of_caps(\"eQuINoX\")  \n",
    "index_of_caps(\"determine\")\n",
    "index_of_caps(\"determine\")\n",
    "index_of_caps(\"STRIKE\") \n",
    "index_of_caps(\"sUn\")"
   ]
  },
  {
   "cell_type": "markdown",
   "id": "652a99a6",
   "metadata": {},
   "source": [
    "### 5.using list comprehensions, create a function that finds all even numbers from 1 to the given number.\n",
    "**Examples**<br>\n",
    "find_even_nums(8) ➞ [2, 4, 6, 8]<br>\n",
    "find_even_nums(4) ➞ [2, 4]<br>\n",
    "find_even_nums(2) ➞ [2]\n"
   ]
  },
  {
   "cell_type": "code",
   "execution_count": 69,
   "id": "a0a316cc",
   "metadata": {},
   "outputs": [
    {
     "name": "stdout",
     "output_type": "stream",
     "text": [
      "find_even_nums 8 --> [0, 2, 4, 6, 8]\n",
      "find_even_nums 4 --> [0, 2, 4]\n",
      "find_even_nums 2 --> [0, 2]\n"
     ]
    }
   ],
   "source": [
    "#Ans\n",
    "def find_even_nums(n):\n",
    "    even_list=[]\n",
    "    for i in range(0,n+1):\n",
    "        if i%2 == 0:\n",
    "            even_list.append(i)\n",
    "    print(\"find_even_nums\",n,\"-->\",even_list)\n",
    "    \n",
    "find_even_nums(8)\n",
    "find_even_nums(4)\n",
    "find_even_nums(2) "
   ]
  },
  {
   "cell_type": "code",
   "execution_count": null,
   "id": "d7874687",
   "metadata": {},
   "outputs": [],
   "source": []
  }
 ],
 "metadata": {
  "kernelspec": {
   "display_name": "Python 3 (ipykernel)",
   "language": "python",
   "name": "python3"
  },
  "language_info": {
   "codemirror_mode": {
    "name": "ipython",
    "version": 3
   },
   "file_extension": ".py",
   "mimetype": "text/x-python",
   "name": "python",
   "nbconvert_exporter": "python",
   "pygments_lexer": "ipython3",
   "version": "3.11.5"
  }
 },
 "nbformat": 4,
 "nbformat_minor": 5
}
