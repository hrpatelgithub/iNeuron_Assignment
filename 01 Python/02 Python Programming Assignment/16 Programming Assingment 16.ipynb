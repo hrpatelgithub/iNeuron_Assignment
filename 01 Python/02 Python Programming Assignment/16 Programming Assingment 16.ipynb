{
 "cells": [
  {
   "cell_type": "markdown",
   "id": "62f4bf56",
   "metadata": {},
   "source": [
    "### 1.Write a function that stutters a word as if someone is struggling to read it. Thefirst two letters are repeated twice with an ellipsis ... and space after each, and then the word is pronounced with a question mark ?.\n",
    "**Examples**</br>\n",
    "stutter(&quot;incredible&quot;) ➞ &quot;in... in... incredible?&quot;</br>\n",
    "stutter(&quot;enthusiastic&quot;) ➞ &quot;en... en... enthusiastic?&quot;</br>\n",
    "stutter(&quot;outstanding&quot;) ➞ &quot;ou... ou... outstanding?&quot;</br>\n"
   ]
  },
  {
   "cell_type": "code",
   "execution_count": 1,
   "id": "7dd31818",
   "metadata": {},
   "outputs": [
    {
     "name": "stdout",
     "output_type": "stream",
     "text": [
      "incredible --> in... in... incredible?\n",
      "enthusiastic --> en... en... enthusiastic?\n",
      "outstanding --> ou... ou... outstanding?\n"
     ]
    }
   ],
   "source": [
    "#Ans\n",
    "def stutters(words):\n",
    "    print(words,\"-->\",words[0:2]+\"... \"+words[0:2]+\"... \"+words+\"?\")\n",
    "            \n",
    "        \n",
    "\n",
    "stutters(\"incredible\") \n",
    "stutters(\"enthusiastic\")\n",
    "stutters(\"outstanding\")"
   ]
  },
  {
   "cell_type": "markdown",
   "id": "751ac96f",
   "metadata": {},
   "source": [
    "## 2.Create a function that takes an angle in radians and returns the corresponding angle in degrees rounded to one decimal place.\n",
    "**Examples**\n",
    "radians_to_degrees(1) ➞ 57.3</br>\n",
    "radians_to_degrees(20) ➞ 1145.9</br>\n",
    "radians_to_degrees(50) ➞ 2864.8"
   ]
  },
  {
   "cell_type": "code",
   "execution_count": 2,
   "id": "b657f59e",
   "metadata": {},
   "outputs": [
    {
     "name": "stdout",
     "output_type": "stream",
     "text": [
      "radians_to_degrees 1 --> 57.3\n",
      "radians_to_degrees 20 --> 1145.9\n",
      "radians_to_degrees 50 --> 2864.8\n"
     ]
    }
   ],
   "source": [
    "#Ans\n",
    "from math import pi\n",
    "def radians_to_degrees(num):\n",
    "    deg=round((num)*(180/pi),1)\n",
    "    print(\"radians_to_degrees\",(num),\"-->\",deg)\n",
    "    \n",
    "radians_to_degrees(1) \n",
    "radians_to_degrees(20) \n",
    "radians_to_degrees(50) "
   ]
  },
  {
   "cell_type": "markdown",
   "id": "eb1e6bba",
   "metadata": {},
   "source": [
    "## 3.In this challenge, establish if a given integer num is a Curzon number. If 1 plus 2 elevated to num is exactly divisible by 1 plus 2 multiplied by num, then num is a Curzon number.\n",
    "Given a non-negative integer num, implement a function that returns True if num is a Curzon number, or False otherwise."
   ]
  },
  {
   "cell_type": "code",
   "execution_count": 4,
   "id": "6ddda109",
   "metadata": {},
   "outputs": [
    {
     "name": "stdout",
     "output_type": "stream",
     "text": [
      "5 is a Curzon Number\n",
      "14 is a Curzon Number\n",
      "10 is Not a Curzon Number\n"
     ]
    }
   ],
   "source": [
    "#Ans\n",
    "def checkCurzon(num):\n",
    "    if (pow(2,num)+1)%((2*num)+1) == 0:\n",
    "        print(f'{num} is a Curzon Number')\n",
    "    else:\n",
    "        print(f'{num} is Not a Curzon Number')\n",
    "        \n",
    "checkCurzon(5)\n",
    "checkCurzon(14)\n",
    "checkCurzon(10)"
   ]
  },
  {
   "cell_type": "markdown",
   "id": "b92685b3",
   "metadata": {},
   "source": [
    "## 4.Given the side length x find the area of a hexagon.\n",
    "**Example**\n",
    "area_of_hexagon(1) ➞ 2.6</br>\n",
    "area_of_hexagon(2) ➞ 10.4</br>\n",
    "area_of_hexagon(3) ➞ 23.4"
   ]
  },
  {
   "cell_type": "code",
   "execution_count": 6,
   "id": "829baa62",
   "metadata": {},
   "outputs": [
    {
     "name": "stdout",
     "output_type": "stream",
     "text": [
      "Enter the side length of a Hexagon: 1\n",
      "Area for Hexagon of sidelength 1 --> 2.6\n",
      "Enter the side length of a Hexagon: 2\n",
      "Area for Hexagon of sidelength 2 --> 10.4\n",
      "Enter the side length of a Hexagon: 3\n",
      "Area for Hexagon of sidelength 3 --> 23.4\n"
     ]
    }
   ],
   "source": [
    "#Ans\n",
    "import math\n",
    "def areaOfHexagon():\n",
    "    in_num = int(input('Enter the side length of a Hexagon: '))\n",
    "    out_num = ((3*math.sqrt(3))/2)*(pow(in_num,2))\n",
    "    print(f'Area for Hexagon of sidelength {in_num} --> {out_num:.1f}')\n",
    "    \n",
    "for x in range(3):\n",
    "    areaOfHexagon()"
   ]
  },
  {
   "cell_type": "markdown",
   "id": "6288e546",
   "metadata": {},
   "source": [
    "## 5. Create a function that returns a base-2 (binary) representation of a base-10 (decimal) string number. To convert is simple: ((2) means base-2 and (10) means base-10) 010101001(2) = 1 + 8 + 32 + 128."
   ]
  },
  {
   "cell_type": "code",
   "execution_count": 7,
   "id": "6defc669",
   "metadata": {},
   "outputs": [
    {
     "name": "stdout",
     "output_type": "stream",
     "text": [
      "1\n",
      "101\n",
      "1010\n"
     ]
    }
   ],
   "source": [
    "#Ans\n",
    "def binary(n):\n",
    "    return \"{0:b}\".format(int(n))\n",
    "\n",
    "print(binary(1))\n",
    "print(binary(5))\n",
    "print(binary(10))"
   ]
  },
  {
   "cell_type": "code",
   "execution_count": null,
   "id": "a49ec3c2",
   "metadata": {},
   "outputs": [],
   "source": []
  }
 ],
 "metadata": {
  "kernelspec": {
   "display_name": "Python 3 (ipykernel)",
   "language": "python",
   "name": "python3"
  },
  "language_info": {
   "codemirror_mode": {
    "name": "ipython",
    "version": 3
   },
   "file_extension": ".py",
   "mimetype": "text/x-python",
   "name": "python",
   "nbconvert_exporter": "python",
   "pygments_lexer": "ipython3",
   "version": "3.11.5"
  }
 },
 "nbformat": 4,
 "nbformat_minor": 5
}
