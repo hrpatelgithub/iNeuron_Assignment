{
 "cells": [
  {
   "cell_type": "markdown",
   "id": "13806fa5",
   "metadata": {},
   "source": [
    "## 1. Create a function that takes three arguments a, b, c and returns the sum of the numbers that are evenly divided by c from the range a, b inclusive.\n",
    "**Examples**</br>\n",
    "evenly_divisible(1, 10, 20) ➞ 0</br>\n",
    "No number between 1 and 10 can be evenly divided by 20.</br>\n",
    "evenly_divisible(1, 10, 2) ➞ 30</br>\n",
    "2 + 4 + 6 + 8 + 10 = 30</br>\n",
    "evenly_divisible(1, 10, 3) ➞ 18</br>\n",
    "3 + 6 + 9 = 18"
   ]
  },
  {
   "cell_type": "code",
   "execution_count": 1,
   "id": "1adf2d63",
   "metadata": {},
   "outputs": [
    {
     "name": "stdout",
     "output_type": "stream",
     "text": [
      "evenly_divisible (1, 10, 20) --> 0\n",
      "No number between 1 and 10 can enenly divided by 20\n",
      "evenly_divisible (1, 10, 2) --> 30\n",
      "[2, 4, 6, 8, 10] = 30\n",
      "evenly_divisible (1, 10, 3) --> 18\n",
      "[3, 6, 9] = 18\n"
     ]
    }
   ],
   "source": [
    "#Ans\n",
    "def evenly_divisible(num1,num2,num3):\n",
    "    total=[]\n",
    "    for i in range(num1,num2+1):\n",
    "        if i % num3 == 0:\n",
    "            total.append(i)\n",
    "    if sum(total) == 0:\n",
    "        print(\"evenly_divisible\",(num1,num2,num3),\"-->\",sum(total))\n",
    "        print(\"No number between\",num1,\"and\",num2,\"can enenly divided by\",num3)\n",
    "    else:\n",
    "        print(\"evenly_divisible\",(num1,num2,num3),\"-->\",sum(total))\n",
    "        print(total,\"=\",sum(total))\n",
    "    \n",
    "\n",
    "evenly_divisible(1,10,20)\n",
    "evenly_divisible(1,10,2)\n",
    "evenly_divisible(1,10,3)\n"
   ]
  },
  {
   "cell_type": "markdown",
   "id": "be654355",
   "metadata": {},
   "source": [
    "## 2.Create a function that returns True if a given inequality expression is correct and alse otherwise.\n",
    "**Examples**\n",
    "correct_signs(&quot;3 &lt; 7 &lt; 11&quot;) ➞ True</br>\n",
    "correct_signs(&quot;13 &gt; 44 &gt; 33 &gt; 1&quot;) ➞ False</br>\n",
    "correct_signs(&quot;1 &lt; 2 &lt; 6 &lt; 9 &gt; 3&quot;) ➞ True</br>"
   ]
  },
  {
   "cell_type": "code",
   "execution_count": 2,
   "id": "3423a589",
   "metadata": {},
   "outputs": [
    {
     "name": "stdout",
     "output_type": "stream",
     "text": [
      "correct_signs 3 < 7 < 11 --> True\n",
      "correct_signs 13 > 44 > 33 > 1 --> False\n",
      "correct_signs 1 < 2 < 6 < 9 > 3 --> True\n"
     ]
    }
   ],
   "source": [
    "#Ans\n",
    "def correct_signs(expression):\n",
    "    print(\"correct_signs\",expression,\"-->\",eval(expression))\n",
    "    \n",
    "correct_signs(\"3 < 7 < 11\")\n",
    "correct_signs(\"13 > 44 > 33 > 1\") \n",
    "correct_signs(\"1 < 2 < 6 < 9 > 3\")"
   ]
  },
  {
   "cell_type": "markdown",
   "id": "c3acbbee",
   "metadata": {},
   "source": [
    "## 3. Create a function that replaces all the vowels in a string with a specified character.\n",
    "**Examples**</br>\n",
    "replace_vowels(\"the aardvark\", \"#\") ➞ \"th# ##rdv#rk\"</br>\n",
    "replace_vowels(\"minnie mouse\", \"?\") ➞ \"m?nn?? m??s?\"</br>\n",
    "replace_vowels(\"shakespeare\", \"* *\") ➞ \"shksp* * *r\"</br>"
   ]
  },
  {
   "cell_type": "code",
   "execution_count": 6,
   "id": "68afc135",
   "metadata": {},
   "outputs": [
    {
     "name": "stdout",
     "output_type": "stream",
     "text": [
      "replace_vowels ('the aardvark', '#') --> th# ##rdv#rk\n",
      "replace_vowels ('minnie mouse', '?') --> m?nn?? m??s?\n",
      "replace_vowels ('shakespeare', '*') --> sh*k*sp**r*\n"
     ]
    }
   ],
   "source": [
    "#Ans\n",
    "def replace_vowels(string,char):\n",
    "    vowels = ['a','e','i','o','u','A','E','I','O','U']\n",
    "    string_copy=string\n",
    "    for i in string:\n",
    "        if i in vowels:\n",
    "            string=string.replace(i,char)\n",
    "    print(\"replace_vowels\",(string_copy,char),\"-->\",string)\n",
    "    \n",
    "replace_vowels(\"the aardvark\", \"#\")\n",
    "replace_vowels(\"minnie mouse\", \"?\") \n",
    "replace_vowels(\"shakespeare\", \"*\") \n"
   ]
  },
  {
   "cell_type": "markdown",
   "id": "999121e6",
   "metadata": {},
   "source": [
    "## 4.Write a function that calculates the factorial of a number recursively ?\n",
    "**Examples:**</br>\n",
    "factorial(5) ➞ 120</br>\n",
    "factorial(3) ➞ 6</br>\n",
    "factorial(1) ➞ 1</br>\n",
    "factorial(0) ➞ 1"
   ]
  },
  {
   "cell_type": "code",
   "execution_count": 14,
   "id": "f08147ad",
   "metadata": {},
   "outputs": [
    {
     "name": "stdout",
     "output_type": "stream",
     "text": [
      "factorial 5 --> 120\n",
      "factorial 3 --> 6\n",
      "factorial 1 --> 1\n",
      "factorial 0 --> 1\n"
     ]
    }
   ],
   "source": [
    "#Ans\n",
    "def factorial(n):\n",
    "    if n<=1:\n",
    "        return 1\n",
    "    else:\n",
    "        return n * factorial(n-1)\n",
    "    \n",
    "print(\"factorial\",(5),\"-->\",factorial(5))\n",
    "print(\"factorial\",(3),\"-->\",factorial(3))\n",
    "print(\"factorial\",(1),\"-->\",factorial(1)) \n",
    "print(\"factorial\",(0),\"-->\",factorial(0))"
   ]
  },
  {
   "cell_type": "markdown",
   "id": "54aed939",
   "metadata": {},
   "source": [
    "## 5.Hamming distance is the number of characters that differ between two strings ?\n",
    "To illustrate:</br>\n",
    "String1: `\"abcbba\"`</br>\n",
    "String2: `\"abcbda\"`</br>\n",
    "Hamming Distance: 1 - \"b\" vs. \"d\" is the only difference.</br>\n",
    "Create a function that computes the hamming distance between to strings.</br>\n",
    "**Examples:**\n",
    "hamming_distance(\"abcde\", \"bcdef\") ➞ 5</br>\n",
    "hamming_distance(\"abcde\", \"abcde\") ➞ 0</br>\n",
    "hamming_distance(\"strong\", \"strung\") ➞ 1</br>\n",
    "\n"
   ]
  },
  {
   "cell_type": "code",
   "execution_count": 17,
   "id": "e6ce541c",
   "metadata": {},
   "outputs": [
    {
     "name": "stdout",
     "output_type": "stream",
     "text": [
      "Hamning Distance between abcde and bcdef ➞ 5\n",
      "Hamning Distance between abcde and abcde ➞ 0\n",
      "Hamning Distance between strong and strung ➞ 1\n"
     ]
    }
   ],
   "source": [
    "#Ans\n",
    "def hamming_distance(str_1,str_2):\n",
    "    if len(str_1) == len(str_2):\n",
    "        count = 0\n",
    "        for i in range(len(str_1)):\n",
    "            if str_1[i] != str_2[i]:\n",
    "                count = count+1\n",
    "        print(f'Hamning Distance between {str_1} and {str_2} ➞ {count}')\n",
    "    else:\n",
    "        print('Both Strings Must be of Same Length')\n",
    "\n",
    "hamming_distance(\"abcde\", \"bcdef\")\n",
    "hamming_distance(\"abcde\", \"abcde\")\n",
    "hamming_distance(\"strong\", \"strung\")"
   ]
  }
 ],
 "metadata": {
  "kernelspec": {
   "display_name": "Python 3 (ipykernel)",
   "language": "python",
   "name": "python3"
  },
  "language_info": {
   "codemirror_mode": {
    "name": "ipython",
    "version": 3
   },
   "file_extension": ".py",
   "mimetype": "text/x-python",
   "name": "python",
   "nbconvert_exporter": "python",
   "pygments_lexer": "ipython3",
   "version": "3.11.5"
  }
 },
 "nbformat": 4,
 "nbformat_minor": 5
}
