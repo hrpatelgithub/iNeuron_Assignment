{
 "cells": [
  {
   "cell_type": "markdown",
   "id": "5980e215",
   "metadata": {},
   "source": [
    "# 1. Write a Python program to find words which are greater than given length k?"
   ]
  },
  {
   "cell_type": "code",
   "execution_count": 2,
   "id": "2e3b5515",
   "metadata": {},
   "outputs": [
    {
     "name": "stdout",
     "output_type": "stream",
     "text": [
      "Enter the words:harsh,patel,elephant,animals,Gujarat\n",
      "Enter the lenght:5\n",
      "Big words greather than 5 is ['elephant', 'animals', 'Gujarat']\n"
     ]
    }
   ],
   "source": [
    "words=input(\"Enter the words:\")\n",
    "lenght=int(input(\"Enter the lenght:\"))\n",
    "big_words=[]\n",
    "for i in words.split(\",\"):\n",
    "    if len(i)>lenght:\n",
    "        big_words.append(i)\n",
    "print(\"Big words greather than\",lenght,\"is\",big_words)\n",
    "        "
   ]
  },
  {
   "cell_type": "markdown",
   "id": "569f0501",
   "metadata": {},
   "source": [
    "# 2. Write a Python program for removing i-th character from a string?"
   ]
  },
  {
   "cell_type": "code",
   "execution_count": 54,
   "id": "76c01afa",
   "metadata": {},
   "outputs": [
    {
     "name": "stdout",
     "output_type": "stream",
     "text": [
      "Enter the string:harsh\n",
      "Enter the character to remove:h\n",
      "Given string after remove the h from string is ars\n"
     ]
    }
   ],
   "source": [
    "#Ans\n",
    "a=input(\"Enter the string:\")\n",
    "c=input(\"Enter the character to remove:\")\n",
    "string=''\n",
    "for i in (a):\n",
    "    if i != c:\n",
    "        string=string + i\n",
    "        \n",
    "print(\"Given string after remove the\",c,\"from string is\",string)        \n",
    "\n",
    "                "
   ]
  },
  {
   "cell_type": "markdown",
   "id": "c5ae993a",
   "metadata": {},
   "source": [
    "# 3. Write a Python program to split and join a string?"
   ]
  },
  {
   "cell_type": "code",
   "execution_count": 59,
   "id": "9948226c",
   "metadata": {},
   "outputs": [
    {
     "name": "stdout",
     "output_type": "stream",
     "text": [
      "Enter the string:Patel Harshkumar Rajendrabhai\n",
      "Given string after the split: ['Patel', 'Harshkumar', 'Rajendrabhai']\n",
      "Given string after the join: Patel Harshkumar Rajendrabhai\n"
     ]
    }
   ],
   "source": [
    "#Ans\n",
    "string=input(\"Enter the string:\")\n",
    "print(\"Given string after the split:\",string.split())\n",
    "print(\"Given string after the join:\",\"\".join(string))"
   ]
  },
  {
   "cell_type": "markdown",
   "id": "d7fd98d7",
   "metadata": {},
   "source": [
    "# 4. Write a Python to check if a given string is binary string or not?"
   ]
  },
  {
   "cell_type": "code",
   "execution_count": null,
   "id": "158b59c1",
   "metadata": {},
   "outputs": [],
   "source": [
    "#Ans"
   ]
  },
  {
   "cell_type": "markdown",
   "id": "ddfc9ad0",
   "metadata": {},
   "source": [
    "# 5. Write a Python program to find uncommon words from two Strings?"
   ]
  },
  {
   "cell_type": "code",
   "execution_count": 81,
   "id": "dd4c7a21",
   "metadata": {},
   "outputs": [
    {
     "name": "stdout",
     "output_type": "stream",
     "text": [
      "Enter the first string:hemal\n",
      "Enter the second string:hemal patel\n",
      "['patel']\n"
     ]
    }
   ],
   "source": [
    "str_1=input(\"Enter the first string:\")\n",
    "str_2=input(\"Enter the second string:\")\n",
    "str_final=[]\n",
    "for i in str_1.split():\n",
    "    if i not in str_2:\n",
    "        str_final.append(i)\n",
    "for i in str_2.split():\n",
    "    if i not in str_1:\n",
    "        str_final.append(i)\n",
    "        \n",
    "print(str_final)"
   ]
  },
  {
   "cell_type": "markdown",
   "id": "d49d588e",
   "metadata": {},
   "source": [
    "# 6. Write a Python to find all duplicate characters in string?"
   ]
  },
  {
   "cell_type": "code",
   "execution_count": 7,
   "id": "6b7dcbab",
   "metadata": {},
   "outputs": [
    {
     "name": "stdout",
     "output_type": "stream",
     "text": [
      "Enter the string:harshkumar\n",
      "h a r\n"
     ]
    }
   ],
   "source": [
    "#Ans\n",
    "# initializing the string\n",
    "str = input(\"Enter the string:\")\n",
    "# initializing a list to add all the duplicate characters\n",
    "duplicate_char = []\n",
    "for character in str:\n",
    "   # check whether there are duplicate characters or not\n",
    "   # returning the frequency of a character in the string\n",
    "      if str.count(character) > 1:\n",
    "   # append to the list if it is already not present\n",
    "         if character not in duplicate_char:\n",
    "            duplicate_char.append(character)\n",
    "print(*duplicate_char)"
   ]
  },
  {
   "cell_type": "markdown",
   "id": "5ea7ebfc",
   "metadata": {},
   "source": [
    "# 7. Write a Python Program to check if a string contains any special character?"
   ]
  },
  {
   "cell_type": "code",
   "execution_count": 8,
   "id": "85dba4b8",
   "metadata": {},
   "outputs": [
    {
     "name": "stdout",
     "output_type": "stream",
     "text": [
      "Enter the stringThis is password ABc@#$1111*\n",
      "The special character in string is  4 and they are  ['@', '#', '$', '*']\n"
     ]
    }
   ],
   "source": [
    "#Ans\n",
    "spe_char=\"[~!@#$%^&*()_+<>?/]\"\n",
    "in_str=input(\"Enter the string\")\n",
    "char_list=[]\n",
    "count=0\n",
    "for i in in_str:\n",
    "    if i in spe_char:\n",
    "        char_list.append(i)\n",
    "        count=count+1\n",
    "    \n",
    "print(\"The special character in string is \",count,\"and they are \",char_list)\n"
   ]
  },
  {
   "cell_type": "code",
   "execution_count": null,
   "id": "a2b50bec",
   "metadata": {},
   "outputs": [],
   "source": []
  }
 ],
 "metadata": {
  "kernelspec": {
   "display_name": "Python 3 (ipykernel)",
   "language": "python",
   "name": "python3"
  },
  "language_info": {
   "codemirror_mode": {
    "name": "ipython",
    "version": 3
   },
   "file_extension": ".py",
   "mimetype": "text/x-python",
   "name": "python",
   "nbconvert_exporter": "python",
   "pygments_lexer": "ipython3",
   "version": "3.11.5"
  }
 },
 "nbformat": 4,
 "nbformat_minor": 5
}
