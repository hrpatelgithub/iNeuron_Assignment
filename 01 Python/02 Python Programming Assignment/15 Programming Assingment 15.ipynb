{
 "cells": [
  {
   "cell_type": "markdown",
   "id": "1ac9a8f5",
   "metadata": {},
   "source": [
    "## 1.Please write a program using generator to print the numbers which can be divisible by 5 and 7 between 0 and n in comma separated form while n is input by console.\n",
    "**Example:** </br>\n",
    "If the following n is given as input to the program: </br>\n",
    "100 </br>\n",
    "Then, the output of the program should be: </br>\n",
    "0,35,70"
   ]
  },
  {
   "cell_type": "code",
   "execution_count": 6,
   "id": "d16c8698",
   "metadata": {},
   "outputs": [
    {
     "name": "stdout",
     "output_type": "stream",
     "text": [
      "0,35,70,"
     ]
    }
   ],
   "source": [
    "#Ans\n",
    "def showDivisible(num):\n",
    "    for i in range(0,num+1):\n",
    "        if (i%5==0) and (i%7==0):\n",
    "            yield i\n",
    "for i in showDivisible(100):\n",
    "    print(i,end=\",\")"
   ]
  },
  {
   "cell_type": "markdown",
   "id": "ea53462c",
   "metadata": {},
   "source": [
    "## 2.Please write a program using generator to print the even numbers between 0 and n in comma separated form while n is input by console.\n",
    "**Example:**</br>\n",
    "If the following n is given as input to the program: </br>\n",
    "10 </br>\n",
    "Then, the output of the program should be: </br>\n",
    "0,2,4,6,8,10</br>"
   ]
  },
  {
   "cell_type": "code",
   "execution_count": 8,
   "id": "497b41e0",
   "metadata": {},
   "outputs": [
    {
     "name": "stdout",
     "output_type": "stream",
     "text": [
      "0,2,4,6,8,10,"
     ]
    }
   ],
   "source": [
    "#ANs\n",
    "def even_number(num):\n",
    "    for i in range(0,num+1):\n",
    "        if i%2==0:\n",
    "            yield i\n",
    "for i in even_number(10):\n",
    "    print(i,end=\",\")"
   ]
  },
  {
   "cell_type": "markdown",
   "id": "7c6922b2",
   "metadata": {},
   "source": [
    "## 3.The Fibonacci Sequence is computed based on the following formula:\n",
    "`f(n)=0 if n=0`</br>\n",
    "`f(n)=1 if n=1`</br>\n",
    "`f(n)=f(n-1)+f(n-2) if n>1`</br>\n",
    "Please write a program using list comprehension to print the Fibonacci Sequence in comma separated form with a given n input by console.</br>\n",
    "**Example:**\n",
    "If the following n is given as input to the program:</br>\n",
    "`7`</br>\n",
    "Then, the output of the program should be:</br>\n",
    "`0,1,1,2,3,5,8,13`\n"
   ]
  },
  {
   "cell_type": "code",
   "execution_count": 17,
   "id": "70d71f75",
   "metadata": {},
   "outputs": [
    {
     "name": "stdout",
     "output_type": "stream",
     "text": [
      "0,1,1,2,3,5,8,"
     ]
    }
   ],
   "source": [
    "#Ans\n",
    "def Fibonacci(n):\n",
    "    if n==0:\n",
    "        return 0\n",
    "    elif n==1:\n",
    "        return 1\n",
    "    else:\n",
    "        return Fibonacci(n-1)+Fibonacci(n-2)\n",
    "for i in range(7):\n",
    "    print(Fibonacci(i),end=\",\")"
   ]
  },
  {
   "cell_type": "markdown",
   "id": "29caa4db",
   "metadata": {},
   "source": [
    "## 4.Assuming that we have some email addresses in the \"username@companyname.com\"format,\n",
    "please write program to print the user name of a given email address. Both user names and company names are composed of letters only.</br>\n",
    "**Example:**\n",
    "If the following email address is given as input to the program:</br>\n",
    "john@google.com</br>\n",
    "Then, the output of the program should be:</br>\n",
    "john"
   ]
  },
  {
   "cell_type": "code",
   "execution_count": 38,
   "id": "2272e790",
   "metadata": {},
   "outputs": [],
   "source": [
    "#Ans\n",
    "def username(email):\n",
    "    print (\"User name of email\",email,\"is\",email.split(\"@\")[0])"
   ]
  },
  {
   "cell_type": "markdown",
   "id": "a0604724",
   "metadata": {},
   "source": [
    "## 5.Define a class named Shape and its subclass Square. The Square class has an init function which takes a length as argument. Both classes have a area function which can print the area of the shape where Shape's area is 0 by default."
   ]
  },
  {
   "cell_type": "code",
   "execution_count": 42,
   "id": "da673b22",
   "metadata": {},
   "outputs": [],
   "source": [
    "#Ans\n",
    "class Shape:\n",
    "    def __init__(self, length):\n",
    "        self.length = length\n",
    "        \n",
    "    def area(self):\n",
    "        return 0\n",
    "    \n",
    "class Square(Shape):\n",
    "    def area(self):\n",
    "        return self.length*self.length\n",
    "    "
   ]
  },
  {
   "cell_type": "code",
   "execution_count": 43,
   "id": "0c70070e",
   "metadata": {},
   "outputs": [
    {
     "data": {
      "text/plain": [
       "100"
      ]
     },
     "execution_count": 43,
     "metadata": {},
     "output_type": "execute_result"
    }
   ],
   "source": [
    "shape=Shape(10)\n",
    "square=Square(10)\n",
    "shape.area()\n",
    "square.area()"
   ]
  },
  {
   "cell_type": "code",
   "execution_count": null,
   "id": "b12fa53a",
   "metadata": {},
   "outputs": [],
   "source": []
  }
 ],
 "metadata": {
  "kernelspec": {
   "display_name": "Python 3 (ipykernel)",
   "language": "python",
   "name": "python3"
  },
  "language_info": {
   "codemirror_mode": {
    "name": "ipython",
    "version": 3
   },
   "file_extension": ".py",
   "mimetype": "text/x-python",
   "name": "python",
   "nbconvert_exporter": "python",
   "pygments_lexer": "ipython3",
   "version": "3.11.5"
  }
 },
 "nbformat": 4,
 "nbformat_minor": 5
}
