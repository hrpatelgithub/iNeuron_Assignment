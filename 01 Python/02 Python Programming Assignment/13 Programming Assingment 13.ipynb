{
 "cells": [
  {
   "cell_type": "markdown",
   "id": "7a01c432",
   "metadata": {},
   "source": [
    "#### 1.Write a program that calculates and prints the value according to the given formula:\n",
    "`Q = Square root of [(2 * C * D)/H]`  \n",
    "Following are the fixed values of C and H:  \n",
    "C is 50. H is 30.  \n",
    "D is the variable whose values should be input to your program in a comma-separated sequence.  \n",
    "**Example:** Let us assume the following comma separated input sequence is given to the program:`100,150,180`  \n",
    "The output of the program should be:  `18,22,24`    "
   ]
  },
  {
   "cell_type": "code",
   "execution_count": 17,
   "id": "61c1d817",
   "metadata": {},
   "outputs": [
    {
     "name": "stdout",
     "output_type": "stream",
     "text": [
      "Enter the value in a comma-separated sequence: 100,150,180\n",
      "Output: 18,22,24\n"
     ]
    }
   ],
   "source": [
    "#Ans\n",
    "from math import sqrt\n",
    "result=[]\n",
    "C=50\n",
    "H=30\n",
    "D=eval(input(\"Enter the value in a comma-separated sequence: \"))\n",
    "for i in D:\n",
    "    Q=str(int(sqrt((2*C*i)/H)))\n",
    "    result.append(Q)\n",
    "\n",
    "print(\"Output: {}\".format(','.join(result)))\n",
    "    "
   ]
  },
  {
   "cell_type": "markdown",
   "id": "f1c6f262",
   "metadata": {},
   "source": [
    "#### 2. Write a program which takes 2 digits, X,Y as input and generates a 2-dimensional array. The element value in the i-th row and j-th column of the array should be i*j.\n",
    "`Note: i=0,1.., X-1; j=0,1,¡Y-1.`<br>\n",
    "**Example**\n",
    "Suppose the following inputs are given to the program:`3,5.`<br>\n",
    "Then, the output of the program should be:`[[0, 0, 0, 0, 0], [0, 1, 2, 3, 4], [0, 2, 4, 6, 8]]`\n"
   ]
  },
  {
   "cell_type": "code",
   "execution_count": 40,
   "id": "3faee353",
   "metadata": {},
   "outputs": [
    {
     "name": "stdout",
     "output_type": "stream",
     "text": [
      "Enter X value: 3\n",
      "Enter Y value: 5\n",
      "[[0, 0, 0, 0, 0], [0, 1, 2, 3, 4], [0, 2, 4, 6, 8]]\n"
     ]
    }
   ],
   "source": [
    "#Ans\n",
    "x = int(input(\"Enter X value: \"))\n",
    "y = int(input(\"Enter Y value: \"))\n",
    "matrix = []\n",
    "for i in range(x):\n",
    "    row = []\n",
    "    for j in range(y):\n",
    "        row.append(i*j)\n",
    "    matrix.append(row)\n",
    "print(matrix)"
   ]
  },
  {
   "cell_type": "markdown",
   "id": "a758eb32",
   "metadata": {},
   "source": [
    "#### 3.Write a program that accepts a comma separated sequence of words as input and prints the  words in a comma-separated sequence after sorting them alphabetically.\n",
    "Suppose the following input is supplied to the program: `without,hello,bag,world.`<br>\n",
    "Then, the output should be: `bag,hello,without,world.`"
   ]
  },
  {
   "cell_type": "code",
   "execution_count": 2,
   "id": "1fdfcd66",
   "metadata": {},
   "outputs": [
    {
     "name": "stdout",
     "output_type": "stream",
     "text": [
      "Enter a comma separated sequence of words: without,hello,bag,world\n",
      "Word after alphabetically: bag,hello,without,world\n"
     ]
    }
   ],
   "source": [
    "#Ans\n",
    "input_str=list(input(\"Enter a comma separated sequence of words: \").split(\",\"))\n",
    "input_str.sort()\n",
    "print(\"Word after alphabetically:\",\",\".join(input_str))\n"
   ]
  },
  {
   "cell_type": "markdown",
   "id": "e7378ddb",
   "metadata": {},
   "source": [
    "#### 4. Write a program that accepts a sequence of whitespace separated words as input and prints the words after removing all duplicate words and sorting them alphanumerically.\n",
    "Suppose the following input is supplied to the program:</br>\n",
    "`hello world and practice makes perfect and hello world again`</br>\n",
    "Then, the output should be:</br>\n",
    "`again and hello makes perfect practice world`"
   ]
  },
  {
   "cell_type": "code",
   "execution_count": 5,
   "id": "7d153369",
   "metadata": {},
   "outputs": [
    {
     "name": "stdout",
     "output_type": "stream",
     "text": [
      "Enter a comma separated sequence of words: hello world and practice makes perfect and hello world again\n",
      "Word after alphabetically: again and hello makes perfect practice world\n"
     ]
    }
   ],
   "source": [
    "#Ans\n",
    "input_str=list(set(input(\"Enter a comma separated sequence of words: \").split(\" \")))\n",
    "input_str.sort()\n",
    "print(\"Word after alphabetically:\",\" \".join(input_str))"
   ]
  },
  {
   "cell_type": "markdown",
   "id": "408797a2",
   "metadata": {},
   "source": [
    "#### 5.Write a program that accepts a sentence and calculate the number of letters and digits.\n",
    "Suppose the following input is supplied to the program:</br>\n",
    "`hello world! 123`</br>\n",
    "Then, the output should be:</br>\n",
    "`LETTERS 10`</br>"
   ]
  },
  {
   "cell_type": "code",
   "execution_count": 15,
   "id": "9d6aa3d6",
   "metadata": {},
   "outputs": [
    {
     "name": "stdout",
     "output_type": "stream",
     "text": [
      "Enter the sentence:hello world! 123\n",
      "LETTERS 10\n",
      "DIGIT 3\n"
     ]
    }
   ],
   "source": [
    "#Ans\n",
    "import string\n",
    "char=string.ascii_letters\n",
    "num=string.digits\n",
    "letter=0\n",
    "digit=0\n",
    "sentence=input(\"Enter the sentence:\")\n",
    "for i in sentence:\n",
    "    if i in char:\n",
    "        letter=letter+1\n",
    "    if i in num:\n",
    "        digit=digit+1\n",
    "print(\"LETTERS\",letter)\n",
    "print(\"DIGIT\",digit)\n"
   ]
  },
  {
   "cell_type": "markdown",
   "id": "fb10b9b3",
   "metadata": {},
   "source": [
    "#### 6.A website requires the users to input username and password to register. Write a program tocheck the validity of password input by users.\n",
    "**Following are the criteria for checking the password:**\n",
    "1. At least 1 letter between [a-z]</br>\n",
    "2. At least 1 number between [0-9]</br>\n",
    "1. At least 1 letter between [A-Z]</br>\n",
    "3. At least 1 character from [$#@]</br>\n",
    "4. Minimum length of transaction password: 6</br>\n",
    "5. Maximum length of transaction password: 12</br>\n",
    "Your program should accept a sequence of comma separated passwords and will check them according to the above criteria.</br>\n",
    "Passwords that match the criteria are to be printed, each separated by a comma.</br>\n",
    "**Example**</br>\n",
    "If the following passwords are given as input to the program:</br>\n",
    "`ABd1234@1,a F1#,2w3E*,2We3345`</br>\n",
    "Then, the output of the program should be:</br>\n",
    "`ABd1234@1`"
   ]
  },
  {
   "cell_type": "code",
   "execution_count": 39,
   "id": "6aec16b7",
   "metadata": {},
   "outputs": [
    {
     "name": "stdout",
     "output_type": "stream",
     "text": [
      "Enter the passwords:ABd1234@1,a F1#,2w3E*,2We3345\n",
      "ABd1234@1\n"
     ]
    }
   ],
   "source": [
    "#Ans\n",
    "string=input(\"Enter the passwords:\")\n",
    "for ele in string.split(\",\"):\n",
    "        if len(ele) <= 12 and len(ele) >=6 :\n",
    "            if any(i.isupper() for i in ele):\n",
    "                if any(i.islower() for i in ele):\n",
    "                    if any(i for i in ele if i in special_list):\n",
    "                        print(ele)"
   ]
  }
 ],
 "metadata": {
  "kernelspec": {
   "display_name": "Python 3 (ipykernel)",
   "language": "python",
   "name": "python3"
  },
  "language_info": {
   "codemirror_mode": {
    "name": "ipython",
    "version": 3
   },
   "file_extension": ".py",
   "mimetype": "text/x-python",
   "name": "python",
   "nbconvert_exporter": "python",
   "pygments_lexer": "ipython3",
   "version": "3.11.5"
  }
 },
 "nbformat": 4,
 "nbformat_minor": 5
}
