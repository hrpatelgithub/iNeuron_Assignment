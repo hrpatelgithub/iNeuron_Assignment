{
 "cells": [
  {
   "cell_type": "code",
   "execution_count": 1,
   "id": "d88e7e2c",
   "metadata": {},
   "outputs": [
    {
     "name": "stdout",
     "output_type": "stream",
     "text": [
      "Enter the kilometer15\n",
      "15 km = 9.32 mile\n"
     ]
    }
   ],
   "source": [
    "#Ans-1>\n",
    "a=int(input('Enter the kilometer'))\n",
    "if a<=0:\n",
    "    print(\"Enter the posotive value\")\n",
    "else:\n",
    "    print(a,'km =',round(a/(1.609344),2),\"mile\")\n"
   ]
  },
  {
   "cell_type": "code",
   "execution_count": 3,
   "id": "993b6353",
   "metadata": {},
   "outputs": [
    {
     "name": "stdout",
     "output_type": "stream",
     "text": [
      "Entetr the Celsius :25\n",
      "25.0 Celsius = 77.0 Fahrenheit\n"
     ]
    }
   ],
   "source": [
    "#Ans-2>\n",
    "c=float(input('Entetr the Celsius :'))\n",
    "print(c,'Celsius =',c*(9/5)+32,\"Fahrenheit\" )"
   ]
  },
  {
   "cell_type": "code",
   "execution_count": 4,
   "id": "76854696",
   "metadata": {},
   "outputs": [
    {
     "name": "stdout",
     "output_type": "stream",
     "text": [
      "Enter calender year: 2022\n",
      "                                  2022\n",
      "\n",
      "      January                   February                   March\n",
      "Mo Tu We Th Fr Sa Su      Mo Tu We Th Fr Sa Su      Mo Tu We Th Fr Sa Su\n",
      "                1  2          1  2  3  4  5  6          1  2  3  4  5  6\n",
      " 3  4  5  6  7  8  9       7  8  9 10 11 12 13       7  8  9 10 11 12 13\n",
      "10 11 12 13 14 15 16      14 15 16 17 18 19 20      14 15 16 17 18 19 20\n",
      "17 18 19 20 21 22 23      21 22 23 24 25 26 27      21 22 23 24 25 26 27\n",
      "24 25 26 27 28 29 30      28                        28 29 30 31\n",
      "31\n",
      "\n",
      "       April                      May                       June\n",
      "Mo Tu We Th Fr Sa Su      Mo Tu We Th Fr Sa Su      Mo Tu We Th Fr Sa Su\n",
      "             1  2  3                         1             1  2  3  4  5\n",
      " 4  5  6  7  8  9 10       2  3  4  5  6  7  8       6  7  8  9 10 11 12\n",
      "11 12 13 14 15 16 17       9 10 11 12 13 14 15      13 14 15 16 17 18 19\n",
      "18 19 20 21 22 23 24      16 17 18 19 20 21 22      20 21 22 23 24 25 26\n",
      "25 26 27 28 29 30         23 24 25 26 27 28 29      27 28 29 30\n",
      "                          30 31\n",
      "\n",
      "        July                     August                  September\n",
      "Mo Tu We Th Fr Sa Su      Mo Tu We Th Fr Sa Su      Mo Tu We Th Fr Sa Su\n",
      "             1  2  3       1  2  3  4  5  6  7                1  2  3  4\n",
      " 4  5  6  7  8  9 10       8  9 10 11 12 13 14       5  6  7  8  9 10 11\n",
      "11 12 13 14 15 16 17      15 16 17 18 19 20 21      12 13 14 15 16 17 18\n",
      "18 19 20 21 22 23 24      22 23 24 25 26 27 28      19 20 21 22 23 24 25\n",
      "25 26 27 28 29 30 31      29 30 31                  26 27 28 29 30\n",
      "\n",
      "      October                   November                  December\n",
      "Mo Tu We Th Fr Sa Su      Mo Tu We Th Fr Sa Su      Mo Tu We Th Fr Sa Su\n",
      "                1  2          1  2  3  4  5  6                1  2  3  4\n",
      " 3  4  5  6  7  8  9       7  8  9 10 11 12 13       5  6  7  8  9 10 11\n",
      "10 11 12 13 14 15 16      14 15 16 17 18 19 20      12 13 14 15 16 17 18\n",
      "17 18 19 20 21 22 23      21 22 23 24 25 26 27      19 20 21 22 23 24 25\n",
      "24 25 26 27 28 29 30      28 29 30                  26 27 28 29 30 31\n",
      "31\n",
      "\n"
     ]
    }
   ],
   "source": [
    "#Ans-3>\n",
    "import calendar\n",
    "\n",
    "def showCalender():\n",
    "    year = int(input(\"Enter calender year: \"))\n",
    "    print(calendar.calendar(year))\n",
    "    \n",
    "showCalender()"
   ]
  },
  {
   "cell_type": "code",
   "execution_count": 6,
   "id": "afbe2602",
   "metadata": {},
   "outputs": [],
   "source": [
    "#ans-4>\n",
    "import math\n",
    "\n",
    "def quadratic_equation():\n",
    "    a=int(input('Enter the value of coffoients a with sign'))\n",
    "    b=int(input('Enter the value of coffoients b with sign'))\n",
    "    c=int(input('Enter the value of coffoients c with sign'))\n",
    "    d=(b**2)-(4*a*c)\n",
    "    if d<0:\n",
    "        print(\"Equation have no solution\")\n",
    "    elif d==0:\n",
    "        print(\"Equation has one solution is \",(-b+math.sqrt(b**2-4*a*c))/(2*a))\n",
    "    else:\n",
    "        print(\"Equation has two solutions is \",(-b+math.sqrt(b**2-4*a*c))/(2*a),\"and\",(-b-math.sqrt(b**2-4*a*c))/(2*a))\n"
   ]
  },
  {
   "cell_type": "code",
   "execution_count": 7,
   "id": "3f6ba559",
   "metadata": {},
   "outputs": [
    {
     "name": "stdout",
     "output_type": "stream",
     "text": [
      "Enter the value of coffoients a with sign4\n",
      "Enter the value of coffoients b with sign26\n",
      "Enter the value of coffoients c with sign12\n",
      "Equation has two solutions is  -0.5 and -6.0\n"
     ]
    }
   ],
   "source": [
    "quadratic_equation()"
   ]
  },
  {
   "cell_type": "code",
   "execution_count": 8,
   "id": "5e89f60b",
   "metadata": {},
   "outputs": [
    {
     "name": "stdout",
     "output_type": "stream",
     "text": [
      "Enter the value of coffoients a with sign1\n",
      "Enter the value of coffoients b with sign2\n",
      "Enter the value of coffoients c with sign1\n",
      "Equation has one solution is  -1.0\n"
     ]
    }
   ],
   "source": [
    "quadratic_equation()"
   ]
  },
  {
   "cell_type": "code",
   "execution_count": 9,
   "id": "b080eebf",
   "metadata": {},
   "outputs": [
    {
     "name": "stdout",
     "output_type": "stream",
     "text": [
      "Enter the value of coffoients a with sign8\n",
      "Enter the value of coffoients b with sign0\n",
      "Enter the value of coffoients c with sign1\n",
      "Equation have no solution\n"
     ]
    }
   ],
   "source": [
    "quadratic_equation()"
   ]
  },
  {
   "cell_type": "code",
   "execution_count": 10,
   "id": "f20d9e1b",
   "metadata": {},
   "outputs": [
    {
     "name": "stdout",
     "output_type": "stream",
     "text": [
      "Enter first number: 10\n",
      "Enter second number: 78\n",
      "Before Swapping 10 78\n",
      "before Swapping 78 10\n"
     ]
    }
   ],
   "source": [
    "#Ans-5>\n",
    "num_1 = int(input('Enter first number: '))\n",
    "num_2 = int(input('Enter second number: '))\n",
    "\n",
    "\n",
    "def swapNumbers(num_1,num_2):\n",
    "        print('Before Swapping',num_1,num_2)\n",
    "        num_1 = num_1+num_2\n",
    "        num_2 = num_1-num_2\n",
    "        num_1 = num_1-num_2\n",
    "        print('before Swapping',num_1,num_2)\n",
    "swapNumbers(num_1,num_2)"
   ]
  },
  {
   "cell_type": "code",
   "execution_count": 11,
   "id": "d9ba2783",
   "metadata": {},
   "outputs": [
    {
     "name": "stdout",
     "output_type": "stream",
     "text": [
      "Before Swapping 15 20\n",
      "before Swapping 20 15\n"
     ]
    }
   ],
   "source": [
    "swapNumbers(15,20)"
   ]
  },
  {
   "cell_type": "code",
   "execution_count": null,
   "id": "1afa7c8e",
   "metadata": {},
   "outputs": [],
   "source": []
  }
 ],
 "metadata": {
  "kernelspec": {
   "display_name": "Python 3 (ipykernel)",
   "language": "python",
   "name": "python3"
  },
  "language_info": {
   "codemirror_mode": {
    "name": "ipython",
    "version": 3
   },
   "file_extension": ".py",
   "mimetype": "text/x-python",
   "name": "python",
   "nbconvert_exporter": "python",
   "pygments_lexer": "ipython3",
   "version": "3.11.5"
  }
 },
 "nbformat": 4,
 "nbformat_minor": 5
}
