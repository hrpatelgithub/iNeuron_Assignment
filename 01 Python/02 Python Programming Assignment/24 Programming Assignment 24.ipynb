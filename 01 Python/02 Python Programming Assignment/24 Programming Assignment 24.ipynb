{
 "cells": [
  {
   "cell_type": "markdown",
   "id": "814d7f39",
   "metadata": {},
   "source": [
    "### 1.Create a function that takes an integer and returns a list from 1 to the given number, where:\n",
    "1. If the number `can be divided evenly by 4`, amplify it by 10 (i.e. return 10 times the\n",
    "number).<br>\n",
    "2. If the number `cannot be divided evenly by 4`, simply return the number.<br>\n",
    "**Examples**<br>\n",
    "amplify(4) ➞ [1, 2, 3, 40]<br>\n",
    "amplify(3) ➞ [1, 2, 3]<br>\n",
    "amplify(25) ➞ [1, 2, 3, 40, 5, 6, 7, 80, 9, 10, 11, 120, 13, 14, 15, 160,\n",
    "17, 18, 19, 200, 21, 22, 23, 240, 25]"
   ]
  },
  {
   "cell_type": "code",
   "execution_count": 1,
   "id": "565ff680",
   "metadata": {},
   "outputs": [
    {
     "name": "stdout",
     "output_type": "stream",
     "text": [
      "amplify 4 ➞ [1, 2, 3, 40]\n",
      "amplify 3 ➞ [1, 2, 3]\n",
      "amplify 25 ➞ [1, 2, 3, 40, 5, 6, 7, 80, 9, 10, 11, 120, 13, 14, 15, 160, 17, 18, 19, 200, 21, 22, 23, 240, 25]\n"
     ]
    }
   ],
   "source": [
    "#Ans\n",
    "def amplify(n):\n",
    "    lst= []\n",
    "    for i in range(1,n+1):\n",
    "        if i%4==0:\n",
    "            lst.append(i*10)\n",
    "        else:\n",
    "            lst.append(i)\n",
    "    print(\"amplify\",n,\"➞\",lst)\n",
    "    \n",
    "amplify(4)\n",
    "amplify(3)\n",
    "amplify(25)\n",
    "            \n",
    "  "
   ]
  },
  {
   "cell_type": "markdown",
   "id": "b62d4a62",
   "metadata": {},
   "source": [
    "### 2.Create a function that takes a list of numbers and return the number that's unique.\n",
    "**Examples**<br>\n",
    "unique([3, 3, 3, 7, 3, 3]) ➞ 7<br>\n",
    "unique([0, 0, 0.77, 0, 0]) ➞ 0.77<Br>\n",
    "unique([0, 1, 1, 1, 1, 1, 1, 1]) ➞ 0<Br>\n",
    "**Notes**<br>\n",
    "`Test cases will always have exactly one unique number while all others are the same.`"
   ]
  },
  {
   "cell_type": "code",
   "execution_count": 5,
   "id": "7253b620",
   "metadata": {},
   "outputs": [
    {
     "name": "stdout",
     "output_type": "stream",
     "text": [
      "unique [3, 3, 3, 7, 3, 3] ➞ 7\n",
      "unique [0, 0, 0.77, 0, 0] ➞ 0.77\n",
      "unique [0, 1, 1, 1, 1, 1, 1, 1] ➞ 0\n"
     ]
    }
   ],
   "source": [
    "#Ans\n",
    "def unique(lst):\n",
    "    uni=\"\"\n",
    "    for i in lst:\n",
    "        if  lst.count(i)==1:\n",
    "            uni=i\n",
    "    print(\"unique\",lst,\"➞\",uni)\n",
    "        \n",
    "        \n",
    "    \n",
    "unique([3, 3, 3, 7, 3, 3])\n",
    "unique([0, 0, 0.77, 0, 0])\n",
    "unique([0, 1, 1, 1, 1, 1, 1, 1])"
   ]
  },
  {
   "cell_type": "markdown",
   "id": "ab352714",
   "metadata": {},
   "source": [
    "### 3.Your task is to create a Circle constructor that creates a circle with a radius provided by an argument. The circles constructed must have two getters getArea() (PIr^2) and getPerimeter() (2PI*r) which give both respective areas and perimeter (circumference). \n",
    "**Examples:**\n",
    "circy = Circle(11)<br>\n",
    "circy.getArea()<br>\n",
    "`Should return 380.132711084365` <br>\n",
    "circy = Circle(4.44)<br>\n",
    "circy.getPerimeter()<br>\n",
    "` Should return 27.897342763877365` <br>\n",
    "\n",
    "**Notes:** Round results up to the nearest integer."
   ]
  },
  {
   "cell_type": "code",
   "execution_count": 6,
   "id": "522d9e5c",
   "metadata": {},
   "outputs": [
    {
     "name": "stdout",
     "output_type": "stream",
     "text": [
      "380\n",
      "28\n"
     ]
    }
   ],
   "source": [
    "#Ans\n",
    "import math\n",
    "class Circle:    \n",
    "    def __init__(self, radius):\n",
    "        self.radius = radius\n",
    "    def getArea(self):\n",
    "        return round(math.pi*self.radius*self.radius)\n",
    "    def getPerimeter(self):\n",
    "        return round(2*math.pi*self.radius)\n",
    "    \n",
    "circy = Circle(11)\n",
    "print(circy.getArea())\n",
    "\n",
    "circy = Circle(4.44)\n",
    "print(circy.getPerimeter())"
   ]
  },
  {
   "cell_type": "markdown",
   "id": "98098e56",
   "metadata": {},
   "source": [
    "### 4.Create a function that takes a list of strings and return a list, sorted from shortest to longest.\n",
    "**Examples**<br>\n",
    "\n",
    "sort_by_length([\"Google\", \"Apple\", \"Microsoft\"])\n",
    "➞ [\"Apple\", \"Google\", \"Microsoft\"]<br>\n",
    "sort_by_length([\"Leonardo\", \"Michelangelo\", \"Raphael\", \"Donatello\"])\n",
    "➞ [\"Raphael\", \"Leonardo\", \"Donatello\", \"Michelangelo\"]<br>\n",
    "sort_by_length([\"Turing\", \"Einstein\", \"Jung\"])\n",
    "➞ [\"Jung\", \"Turing\", \"Einstein\" ]<br>\n",
    "**Notes:**<br>\n",
    "`All test cases contain lists with strings of different lengths, so you won't have to deal with multiple strings of the same length.`"
   ]
  },
  {
   "cell_type": "code",
   "execution_count": 7,
   "id": "9b2d2342",
   "metadata": {},
   "outputs": [
    {
     "name": "stdout",
     "output_type": "stream",
     "text": [
      "sort_by_length ['Apple', 'Google', 'Microsoft'] ➞ ['Apple', 'Google', 'Microsoft']\n",
      "sort_by_length ['Raphael', 'Leonardo', 'Donatello', 'Michelangelo'] ➞ ['Raphael', 'Leonardo', 'Donatello', 'Michelangelo']\n",
      "sort_by_length ['Jung', 'Turing', 'Einstein'] ➞ ['Jung', 'Turing', 'Einstein']\n"
     ]
    }
   ],
   "source": [
    "#Ans\n",
    "def sort_by_length(lst):\n",
    "    lst.sort(key=len)\n",
    "    print(\"sort_by_length\",lst,\"➞\",lst)\n",
    "    \n",
    "sort_by_length([\"Google\", \"Apple\", \"Microsoft\"])\n",
    "sort_by_length([\"Leonardo\", \"Michelangelo\", \"Raphael\", \"Donatello\"])\n",
    "sort_by_length([\"Turing\", \"Einstein\", \"Jung\"])"
   ]
  },
  {
   "cell_type": "markdown",
   "id": "ed765d61",
   "metadata": {},
   "source": [
    "### 5.Create a function that validates whether three given integers form a Pythagorean triplet. The sum of the squares of the two smallest integers must equal the square of the largest number to be validated.\n",
    "**Examples:**<br>\n",
    "is_triplet(3, 4, 5) ➞ True # 3² + 4² = 25 # 5² = 25 <br>\n",
    "is_triplet(13, 5, 12) ➞ True # 5² + 12² = 169 # 13² = 169 <br>is_triplet(1, 2, 3) ➞ False # 1² + 2² = 5 # 3² = 9<br>\n",
    "\n",
    "**Notes:** `Numbers may not be given in a sorted order.`"
   ]
  },
  {
   "cell_type": "code",
   "execution_count": 8,
   "id": "ed1b7c0c",
   "metadata": {},
   "outputs": [
    {
     "name": "stdout",
     "output_type": "stream",
     "text": [
      "is_triplet [3, 4, 5] ➞ True\n",
      "is_triplet [5, 12, 13] ➞ True\n",
      "is_triplet [1, 2, 3] ➞ False\n"
     ]
    }
   ],
   "source": [
    "#Ans\n",
    "def is_triplet(a,b,c):    \n",
    "    lst=[a,b,c]\n",
    "    lst.sort()\n",
    "    if lst[0]**2+lst[1]**2==lst[2]**2:\n",
    "        print(\"is_triplet\",lst,\"➞\",True)\n",
    "    else:\n",
    "        print(\"is_triplet\",lst,\"➞\",False)\n",
    "        \n",
    "is_triplet(3, 4, 5)\n",
    "is_triplet(13, 5, 12)\n",
    "is_triplet(1, 2, 3)"
   ]
  },
  {
   "cell_type": "code",
   "execution_count": null,
   "id": "03882abe",
   "metadata": {},
   "outputs": [],
   "source": []
  }
 ],
 "metadata": {
  "kernelspec": {
   "display_name": "Python 3 (ipykernel)",
   "language": "python",
   "name": "python3"
  },
  "language_info": {
   "codemirror_mode": {
    "name": "ipython",
    "version": 3
   },
   "file_extension": ".py",
   "mimetype": "text/x-python",
   "name": "python",
   "nbconvert_exporter": "python",
   "pygments_lexer": "ipython3",
   "version": "3.11.5"
  }
 },
 "nbformat": 4,
 "nbformat_minor": 5
}
