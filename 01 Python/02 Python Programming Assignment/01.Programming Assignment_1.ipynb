{
 "cells": [
  {
   "cell_type": "code",
   "execution_count": 1,
   "id": "cd0ec5c2",
   "metadata": {},
   "outputs": [
    {
     "name": "stdout",
     "output_type": "stream",
     "text": [
      "Hello python\n"
     ]
    }
   ],
   "source": [
    "#Ans-1>\n",
    "print('Hello python')"
   ]
  },
  {
   "cell_type": "code",
   "execution_count": 2,
   "id": "b91b4ccd",
   "metadata": {},
   "outputs": [
    {
     "name": "stdout",
     "output_type": "stream",
     "text": [
      "Enter the first number: 70\n",
      "Enyter the second number: 80\n",
      "Addition of number  70.0 and  80.0 is  150.0\n",
      "Division of number  70.0 and  80.0 is  0.875\n"
     ]
    }
   ],
   "source": [
    "#Ans-2>\n",
    "a=float(input('Enter the first number: '))\n",
    "b=float(input('Enyter the second number: '))\n",
    "\n",
    "#addition\n",
    "print('Addition of number ',a,\"and \",b ,'is ', a+b)\n",
    "#Division\n",
    "if b==0:\n",
    "    print('Division of number ',a,\"and \",b ,'is infinity ')\n",
    "else:    \n",
    "    print('Division of number ',a,\"and \",b ,'is ', a/b)\n",
    "    \n"
   ]
  },
  {
   "cell_type": "code",
   "execution_count": 3,
   "id": "b4979994",
   "metadata": {},
   "outputs": [
    {
     "name": "stdout",
     "output_type": "stream",
     "text": [
      "Enter the length of base meter : 7\n",
      "Enyter the lenght of height in meter: 40\n",
      "Area of Triangle is  140.0\n"
     ]
    }
   ],
   "source": [
    "#Ans-3>\n",
    "a=float(input('Enter the length of base meter : '))\n",
    "b=float(input('Enyter the lenght of height in meter: '))\n",
    "c=(1/2)*a*b\n",
    "print(\"Area of Triangle is \",c)\n"
   ]
  },
  {
   "cell_type": "code",
   "execution_count": 4,
   "id": "e4084e8b",
   "metadata": {},
   "outputs": [
    {
     "name": "stdout",
     "output_type": "stream",
     "text": [
      "Enter the first number: 100\n",
      "Enyter the second number: 50.25\n",
      "Before the swapping of number a = 100.0 b= 50.25\n",
      "After the swapping of number a= 50.25 b= 100.0\n"
     ]
    }
   ],
   "source": [
    "#ans-4>\n",
    "a=float(input('Enter the first number: '))\n",
    "b=float(input('Enyter the second number: '))\n",
    "print('Before the swapping of number a =',a,'b=',b)\n",
    "#temp\n",
    "temp=a\n",
    "a=b\n",
    "b=temp\n",
    "print('After the swapping of number a=',a,'b=',b)\n"
   ]
  },
  {
   "cell_type": "code",
   "execution_count": 2,
   "id": "bc77ff10",
   "metadata": {},
   "outputs": [
    {
     "name": "stdout",
     "output_type": "stream",
     "text": [
      "Staring range:100\n",
      "Ending range:200\n",
      "198\n"
     ]
    }
   ],
   "source": [
    "#Ans-5>\n",
    "import random\n",
    "a=int(input(\"Staring range:\"))\n",
    "b=int(input(\"Ending range:\"))\n",
    "num = random.randint(a,b)\n",
    "print(num)"
   ]
  },
  {
   "cell_type": "code",
   "execution_count": null,
   "id": "c91deb0b",
   "metadata": {},
   "outputs": [],
   "source": []
  }
 ],
 "metadata": {
  "kernelspec": {
   "display_name": "Python 3 (ipykernel)",
   "language": "python",
   "name": "python3"
  },
  "language_info": {
   "codemirror_mode": {
    "name": "ipython",
    "version": 3
   },
   "file_extension": ".py",
   "mimetype": "text/x-python",
   "name": "python",
   "nbconvert_exporter": "python",
   "pygments_lexer": "ipython3",
   "version": "3.9.13"
  }
 },
 "nbformat": 4,
 "nbformat_minor": 5
}
