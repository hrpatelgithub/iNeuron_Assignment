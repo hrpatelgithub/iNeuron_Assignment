{
 "cells": [
  {
   "cell_type": "markdown",
   "id": "0ca18451",
   "metadata": {},
   "source": [
    "# 1. Write a Python program to find sum of elements in list?"
   ]
  },
  {
   "cell_type": "code",
   "execution_count": 18,
   "id": "889ac49e",
   "metadata": {},
   "outputs": [
    {
     "name": "stdout",
     "output_type": "stream",
     "text": [
      "Enter the No of Entries in a List: 6\n",
      "Enter the num:2\n",
      "Enter the num:4\n",
      "Enter the num:5\n",
      "Enter the num:8\n",
      "Enter the num:7\n",
      "Enter the num:4\n",
      "Given list is: [2, 4, 5, 8, 7, 4]\n",
      "Sum of given list is: 30\n"
     ]
    }
   ],
   "source": [
    "#Ans\n",
    "total_entry=int(input('Enter the No of Entries in a List: '))\n",
    "sum_list=[]\n",
    "for i in range(total_entry):\n",
    "    sum_list.append(int(input(\"Enter the num:\")))\n",
    "\n",
    "print(\"Given list is:\",sum_list)\n",
    "print(\"Sum of given list is:\",sum(sum_list))"
   ]
  },
  {
   "cell_type": "markdown",
   "id": "2238c028",
   "metadata": {},
   "source": [
    "# 2. Write a Python program to Multiply all numbers in the list?"
   ]
  },
  {
   "cell_type": "code",
   "execution_count": 19,
   "id": "79ec0321",
   "metadata": {},
   "outputs": [
    {
     "name": "stdout",
     "output_type": "stream",
     "text": [
      "Enter the No of Entries in a List: 4\n",
      "Enter the num:15\n",
      "Enter the num:47\n",
      "Enter the num:2\n",
      "Enter the num:6\n",
      "List is : [15, 47, 2, 6]\n",
      "Multiplication of list eklement is: 8460\n"
     ]
    }
   ],
   "source": [
    "#Ans\n",
    "total_entry=int(input('Enter the No of Entries in a List: '))\n",
    "mul_list=[]\n",
    "multi=1\n",
    "for i in range(total_entry):\n",
    "    mul_list.append(int(input(\"Enter the num:\")))\n",
    "for ele in mul_list:\n",
    "    multi=multi*ele\n",
    "print(\"List is :\",mul_list)\n",
    "print(\"Multiplication of list eklement is:\",multi)\n"
   ]
  },
  {
   "cell_type": "markdown",
   "id": "a2a8637e",
   "metadata": {},
   "source": [
    "# 3. Write a Python program to find smallest number in a list?"
   ]
  },
  {
   "cell_type": "code",
   "execution_count": 20,
   "id": "62ef16cd",
   "metadata": {},
   "outputs": [
    {
     "name": "stdout",
     "output_type": "stream",
     "text": [
      "Enter the No of Entries in a List: 6\n",
      "Enter the num:4\n",
      "Enter the num:7\n",
      "Enter the num:8\n",
      "Enter the num:55\n",
      "Enter the num:47\n",
      "Enter the num:47\n",
      "Smallest number in list [4, 7, 8, 47, 47, 55] is 4\n"
     ]
    }
   ],
   "source": [
    "#Ans\n",
    "smallest_list=[]\n",
    "total_entry=int(input('Enter the No of Entries in a List: '))\n",
    "for i in range(total_entry):\n",
    "    smallest_list.append(int(input(\"Enter the num:\")))\n",
    "smallest_list.sort()\n",
    "print(\"Smallest number in list\",smallest_list,\"is\",smallest_list[0])"
   ]
  },
  {
   "cell_type": "markdown",
   "id": "42858aae",
   "metadata": {},
   "source": [
    "# 4. Write a Python program to find largest number in a list?"
   ]
  },
  {
   "cell_type": "code",
   "execution_count": 21,
   "id": "de9f25c3",
   "metadata": {},
   "outputs": [
    {
     "name": "stdout",
     "output_type": "stream",
     "text": [
      "Enter the No of Entries in a List: 4\n",
      "Enter the num:48\n",
      "Enter the num:4\n",
      "Enter the num:87\n",
      "Enter the num:4\n",
      "Largest number in list [4, 4, 48, 87] is 87\n"
     ]
    }
   ],
   "source": [
    "#Ans\n",
    "largest_list=[]\n",
    "total_entry=int(input('Enter the No of Entries in a List: '))\n",
    "for i in range(total_entry):\n",
    "    largest_list.append(int(input(\"Enter the num:\")))\n",
    "largest_list.sort()\n",
    "print(\"Largest number in list\",largest_list,\"is\",largest_list[-1])"
   ]
  },
  {
   "cell_type": "markdown",
   "id": "c43b405b",
   "metadata": {},
   "source": [
    "# 5. Write a Python program to find second largest number in a list?"
   ]
  },
  {
   "cell_type": "code",
   "execution_count": 22,
   "id": "cb160cd4",
   "metadata": {},
   "outputs": [
    {
     "name": "stdout",
     "output_type": "stream",
     "text": [
      "Enter the No of Entries in a List: 6\n",
      "Enter the num:487\n",
      "Enter the num:457\n",
      "Enter the num:215\n",
      "Enter the num:55\n",
      "Enter the num:58\n",
      "Enter the num:78\n",
      "Second largest number in list [55, 58, 78, 215, 457, 487] is 457\n"
     ]
    }
   ],
   "source": [
    "#Ans\n",
    "largest_list=[]\n",
    "total_entry=int(input('Enter the No of Entries in a List: '))\n",
    "for i in range(total_entry):\n",
    "    largest_list.append(int(input(\"Enter the num:\")))\n",
    "largest_list.sort()\n",
    "print(\"Second largest number in list\",largest_list,\"is\",largest_list[-2])"
   ]
  },
  {
   "cell_type": "markdown",
   "id": "90984d30",
   "metadata": {},
   "source": [
    "# 6. Write a Python program to find N largest elements from a list?"
   ]
  },
  {
   "cell_type": "code",
   "execution_count": 23,
   "id": "d801a02f",
   "metadata": {},
   "outputs": [
    {
     "name": "stdout",
     "output_type": "stream",
     "text": [
      "Enter the No of Entries in a List: 6\n",
      "Enter the num:4\n",
      "Enter the num:74\n",
      "Enter the num:78\n",
      "Enter the num:745\n",
      "Enter the num:45\n",
      "Enter the num:25\n",
      "How many largest number find: 3\n",
      "From the list [4, 74, 78, 745, 45, 25] the first 3 large number is [745, 78, 74]\n"
     ]
    }
   ],
   "source": [
    "#Ans\n",
    "num_list=[]\n",
    "total_entry=int(input('Enter the No of Entries in a List: '))\n",
    "for i in range(total_entry):\n",
    "    num_list.append(int(input(\"Enter the num:\")))\n",
    "Nnum=int(input(\"How many largest number find: \"))\n",
    "print(\"From the list\",num_list,\"the first\",Nnum,\"large number is\",sorted(num_list,reverse=True)[0:Nnum])"
   ]
  },
  {
   "cell_type": "markdown",
   "id": "32425dd8",
   "metadata": {},
   "source": [
    "# 7. Write a Python program to print even numbers in a list?"
   ]
  },
  {
   "cell_type": "code",
   "execution_count": 25,
   "id": "af0c5e98",
   "metadata": {},
   "outputs": [
    {
     "name": "stdout",
     "output_type": "stream",
     "text": [
      "Enter the No of Entries in a List: 6\n",
      "Enter the num:8\n",
      "Enter the num:4\n",
      "Enter the num:7\n",
      "Enter the num:54\n",
      "Enter the num:56\n",
      "Enter the num:27\n",
      "Even number list from given list is  [8, 4, 54, 56]\n"
     ]
    }
   ],
   "source": [
    "#Ans\n",
    "num_list=[]\n",
    "even_list=[]\n",
    "total_entry=int(input('Enter the No of Entries in a List: '))\n",
    "for i in range(total_entry):\n",
    "    num_list.append(int(input(\"Enter the num:\")))\n",
    "for i in num_list:\n",
    "    if i%2==0:\n",
    "        even_list.append(i)\n",
    "print(\"Even number list from given list is \",even_list)"
   ]
  },
  {
   "cell_type": "markdown",
   "id": "b57c44e6",
   "metadata": {},
   "source": [
    "# 8. Write a Python program to print odd numbers in a List?"
   ]
  },
  {
   "cell_type": "code",
   "execution_count": 5,
   "id": "15dc414d",
   "metadata": {},
   "outputs": [
    {
     "name": "stdout",
     "output_type": "stream",
     "text": [
      "Enter the No of Entries in a List: 4\n",
      "Enter the num:3\n",
      "Enter the num:2\n",
      "Enter the num:7\n",
      "Enter the num:6\n",
      "Odd number list from given list is  [3, 7]\n"
     ]
    }
   ],
   "source": [
    "#Ans\n",
    "num_list=[]\n",
    "odd_list=[]\n",
    "total_entry=int(input('Enter the No of Entries in a List: '))\n",
    "for i in range(total_entry):\n",
    "    num_list.append(int(input(\"Enter the num:\")))\n",
    "for i in num_list:\n",
    "    if i%2 !=  0:\n",
    "        odd_list.append(i)\n",
    "print(\"Odd number list from given list is \",odd_list)"
   ]
  },
  {
   "cell_type": "markdown",
   "id": "c4dd2c23",
   "metadata": {},
   "source": [
    "# 9. Write a Python program to Remove empty List from List?"
   ]
  },
  {
   "cell_type": "code",
   "execution_count": 13,
   "id": "b36e4c09",
   "metadata": {},
   "outputs": [
    {
     "name": "stdout",
     "output_type": "stream",
     "text": [
      "Create list :[1,2,3,4,8,974,[],541,58]\n",
      "Final list after remove empty List [1, 2, 3, 4, 8, 974, 541, 58]\n"
     ]
    }
   ],
   "source": [
    "#Ans\n",
    "check=eval(input(\"Create list :\"))\n",
    "for i in check:\n",
    "    if [] in check:\n",
    "        check.remove([])\n",
    "print(\"Final list after remove empty List\",check)"
   ]
  },
  {
   "cell_type": "markdown",
   "id": "99d2e3bf",
   "metadata": {},
   "source": [
    "# 10. Write a Python program to Cloning or Copying a list?"
   ]
  },
  {
   "cell_type": "code",
   "execution_count": 14,
   "id": "bd281dcf",
   "metadata": {},
   "outputs": [
    {
     "name": "stdout",
     "output_type": "stream",
     "text": [
      "Enter the No of Entries in a List: 4\n",
      "Enter the num:1\n",
      "Enter the num:5\n",
      "Enter the num:7\n",
      "Enter the num:8\n",
      "List is  [1, 5, 7, 8]\n",
      "Final list after the copy [1, 5, 7, 8]\n"
     ]
    }
   ],
   "source": [
    "#Ans\n",
    "num_list=[]\n",
    "total_entry=int(input('Enter the No of Entries in a List: '))\n",
    "for i in range(total_entry):\n",
    "    num_list.append(int(input(\"Enter the num:\")))\n",
    "copy_list=num_list.copy()\n",
    "print(\"List is \",num_list)\n",
    "print(\"Final list after the copy\",copy_list)\n"
   ]
  },
  {
   "cell_type": "markdown",
   "id": "a7d07414",
   "metadata": {},
   "source": [
    "# 11. Write a Python program to Count occurrences of an element in a list?"
   ]
  },
  {
   "cell_type": "code",
   "execution_count": 17,
   "id": "12c640fc",
   "metadata": {},
   "outputs": [
    {
     "name": "stdout",
     "output_type": "stream",
     "text": [
      "Enter the No of Entries in a List: 5\n",
      "Enter the num:1\n",
      "Enter the num:1\n",
      "Enter the num:2\n",
      "Enter the num:3\n",
      "Enter the num:4\n",
      "Enter element to find:1\n",
      "In the list 1 is 2 time\n"
     ]
    }
   ],
   "source": [
    "#Ans\n",
    "my_list=[]\n",
    "count=0\n",
    "total_entry=eval(input('Enter the No of Entries in a List: '))\n",
    "for i in range(total_entry):\n",
    "    my_list.append(int(input(\"Enter the num:\")))\n",
    "ele=eval(input(\"Enter element to find:\"))\n",
    "if ele in my_list:\n",
    "    for i in my_list:\n",
    "        if i == ele:\n",
    "            count=count+1\n",
    "print(\"In the list\",ele,\"is\",count,\"time\")"
   ]
  },
  {
   "cell_type": "code",
   "execution_count": null,
   "id": "725b99ee",
   "metadata": {},
   "outputs": [],
   "source": []
  }
 ],
 "metadata": {
  "kernelspec": {
   "display_name": "Python 3 (ipykernel)",
   "language": "python",
   "name": "python3"
  },
  "language_info": {
   "codemirror_mode": {
    "name": "ipython",
    "version": 3
   },
   "file_extension": ".py",
   "mimetype": "text/x-python",
   "name": "python",
   "nbconvert_exporter": "python",
   "pygments_lexer": "ipython3",
   "version": "3.11.5"
  }
 },
 "nbformat": 4,
 "nbformat_minor": 5
}
