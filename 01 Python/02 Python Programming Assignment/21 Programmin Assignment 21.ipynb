{
 "cells": [
  {
   "cell_type": "markdown",
   "id": "12c06afd",
   "metadata": {},
   "source": [
    "### 1. Write a function that takes a list and a number as arguments. Add the number to the end of the list, then remove the first element of the list. The function should then return the updated list.\n",
    "**Examples**<br>\n",
    "next_in_line([5, 6, 7, 8, 9], 1) ➞ [6, 7, 8, 9, 1]<br>\n",
    "next_in_line([7, 6, 3, 23, 17], 10) ➞ [6, 3, 23, 17, 10]<br>\n",
    "next_in_line([1, 10, 20, 42 ], 6) ➞ [10, 20, 42, 6]<br>\n",
    "next_in_line([], 6) ➞ 'No list has been selected'"
   ]
  },
  {
   "cell_type": "code",
   "execution_count": 8,
   "id": "f8cd8660",
   "metadata": {},
   "outputs": [
    {
     "name": "stdout",
     "output_type": "stream",
     "text": [
      "next_in_line [6, 7, 8, 9, 1] 1 ➞ [6, 7, 8, 9, 1]\n",
      "next_in_line [6, 3, 23, 17, 10] 10 ➞ [6, 3, 23, 17, 10]\n",
      "next_in_line [10, 20, 42, 6] 6 ➞ [10, 20, 42, 6]\n",
      "next_in_line [] 6 ➞ No list has been selected\n"
     ]
    }
   ],
   "source": [
    "#Ans\n",
    "def next_in_line( lst, num ):\n",
    "    if len(lst) > 0:\n",
    "        lst.append(num)\n",
    "        lst.pop(0)\n",
    "        print(\"next_in_line\",lst, num,\"➞\",lst)\n",
    "    else:\n",
    "        print(\"next_in_line\",lst, num,\"➞\",\"No list has been selected\")\n",
    "    \n",
    "next_in_line([5, 6, 7, 8, 9], 1)\n",
    "next_in_line([7, 6, 3, 23, 17], 10)\n",
    "next_in_line([1, 10, 20, 42 ], 6)\n",
    "next_in_line([], 6)\n"
   ]
  },
  {
   "cell_type": "markdown",
   "id": "b0a3b6dd",
   "metadata": {},
   "source": [
    "### 2.Create the function that takes a list of dictionaries and returns the sum of people's budgets.\n",
    "**Examples:**\n",
    "get_budgets([ { \"name\": \"John\", \"age\": 21, \"budget\": 23000 },<br> { \"name\": \"Steve\", \"age\": 32, \"budget\": 40000 },<br>{ \"name\": \"Martin\", \"age\": 16, \"budget\": 2700 } ]) ➞ 65700\n",
    "\n",
    "get_budgets([ { \"name\": \"John\", \"age\": 21, \"budget\": 29000 },<br>{ \"name\": \"Steve\", \"age\": 32, \"budget\": 32000 },<br>{ \"name\": \"Martin\", \"age\": 16, \"budget\": 1600 } ]) ➞ 62600"
   ]
  },
  {
   "cell_type": "code",
   "execution_count": 10,
   "id": "c305abf4",
   "metadata": {},
   "outputs": [
    {
     "name": "stdout",
     "output_type": "stream",
     "text": [
      "get_budgets [{'name': 'John', 'age': 21, 'budget': 23000}, {'name': 'Steve', 'age': 32, 'budget': 40000}, {'name': 'Martin', 'age': 16, 'budget': 2700}] ➞ 65700\n",
      "get_budgets [{'name': 'John', 'age': 21, 'budget': 29000}, {'name': 'Steve', 'age': 32, 'budget': 32000}, {'name': 'Martin', 'age': 16, 'budget': 1600}] ➞ 62600\n"
     ]
    }
   ],
   "source": [
    "#Ans\n",
    "def  get_budgets( entry ):\n",
    "    sum = 0\n",
    "    for i in entry:\n",
    "        sum=sum+i[\"budget\"]\n",
    "    print(\"get_budgets\",entry,\"➞\",sum)\n",
    "    \n",
    "get_budgets([\n",
    "{ \"name\": \"John\", \"age\": 21, \"budget\": 23000 },\n",
    "{ \"name\": \"Steve\", \"age\": 32, \"budget\": 40000 },\n",
    "{ \"name\": \"Martin\", \"age\": 16, \"budget\": 2700 }\n",
    "])\n",
    "\n",
    "get_budgets([\n",
    "{ \"name\": \"John\", \"age\": 21, \"budget\": 29000 },\n",
    "{ \"name\": \"Steve\", \"age\": 32, \"budget\": 32000 },\n",
    "{ \"name\": \"Martin\", \"age\": 16, \"budget\": 1600 }\n",
    "])\n",
    "\n"
   ]
  },
  {
   "cell_type": "markdown",
   "id": "f85332d0",
   "metadata": {},
   "source": [
    "### 3.Create a function that takes a string and returns a string with its letters in alphabetical order.\n",
    "**Examples**<br>\n",
    "alphabet_soup(\"hello\") ➞ \"ehllo\"<br>\n",
    "alphabet_soup(\"edabit\") ➞ \"abdeit\"<br>\n",
    "alphabet_soup(\"hacker\") ➞ \"acehkr\"<br>\n",
    "alphabet_soup(\"geek\") ➞ \"eegk\"<br>\n",
    "alphabet_soup(\"javascript\") ➞ \"aacijprstv\""
   ]
  },
  {
   "cell_type": "code",
   "execution_count": 12,
   "id": "0b4d49d9",
   "metadata": {},
   "outputs": [
    {
     "name": "stdout",
     "output_type": "stream",
     "text": [
      "alphabet_soup hello ➞ ehllo\n",
      "alphabet_soup edabit ➞ abdeit\n",
      "alphabet_soup hacker ➞ acehkr\n",
      "alphabet_soup geek ➞ eegk\n",
      "alphabet_soup javascript ➞ aacijprstv\n"
     ]
    }
   ],
   "source": [
    "#Ans\n",
    "def alphabet_soup( str ):\n",
    "    print(\"alphabet_soup\",str,\"➞\",\"\".join(sorted(str)))\n",
    "    \n",
    "alphabet_soup(\"hello\")\n",
    "alphabet_soup(\"edabit\")\n",
    "alphabet_soup(\"hacker\")\n",
    "alphabet_soup(\"geek\")\n",
    "alphabet_soup(\"javascript\")"
   ]
  },
  {
   "cell_type": "markdown",
   "id": "63f7fb4f",
   "metadata": {},
   "source": [
    "### 4.Suppose that you invest $10,000 for 10 years at an interest rate of 6% compounded monthly.\n",
    "What will be the value of your investment at the end of the 10 year period?<br>\n",
    "Create a function that accepts the principal p, the term in years t, the interest rate r, and the number of compounding periods per year n. The function returns the value at the end of term rounded to the nearest cent.<br>\n",
    "**example**<br> \n",
    "compound_interest(10000, 10, 0.06, 12) ➞ 18193.97<br>\n",
    "`Note` that the interest rate is given as a decimal and n=12 because with monthly compounding there are 12 periods per year. Compounding can also be done annually, quarterly, weekly, ordaily."
   ]
  },
  {
   "cell_type": "code",
   "execution_count": 13,
   "id": "d8610a26",
   "metadata": {},
   "outputs": [
    {
     "name": "stdout",
     "output_type": "stream",
     "text": [
      "compound_interest 100 1 0.05 1 ➞ 105.0\n",
      "compound_interest 3500 15 0.1 4 ➞ 15399.26\n",
      "compound_interest 100000 20 0.15 365 ➞ 2007316.26\n"
     ]
    }
   ],
   "source": [
    "#Ans\n",
    "def compound_interest( p, t, r, n ): \n",
    "    print(\"compound_interest\",p, t, r, n,\"➞\",round(p*(1+(r/n))**(n*t),2))\n",
    "    \n",
    "compound_interest(100, 1, 0.05, 1)\n",
    "compound_interest(3500, 15, 0.1, 4)\n",
    "compound_interest(100000, 20, 0.15, 365)"
   ]
  },
  {
   "cell_type": "markdown",
   "id": "68495d3c",
   "metadata": {},
   "source": [
    "### 5.Write a function that takes a list of elements and returns only the integers.\n",
    "**Examples:**<br>\n",
    "return_only_integer([9, 2, \"space\", \"car\", \"lion\", 16]) ➞ [9, 2, 16]<br>\n",
    "return_only_integer([\"hello\", 81, \"basketball\", 123, \"fox\"]) ➞ [81, 123]<br>\n",
    "return_only_integer([10, \"121\", 56, 20, \"car\", 3, \"lion\"]) ➞ [10, 56, 20,3]<br>\n",
    "return_only_integer([\"String\", True, 3.3, 1]) ➞ [1]"
   ]
  },
  {
   "cell_type": "code",
   "execution_count": 16,
   "id": "defb5401",
   "metadata": {},
   "outputs": [
    {
     "name": "stdout",
     "output_type": "stream",
     "text": [
      "return_only_integer [9, 2, 'space', 'car', 'lion', 16] ➞ [9, 2, 16]\n",
      "return_only_integer ['hello', 81, 'basketball', 123, 'fox'] ➞ [81, 123]\n",
      "return_only_integer [10, '121', 56, 20, 'car', 3, 'lion'] ➞ [10, 56, 20, 3]\n",
      "return_only_integer ['String', True, 3.3, 1] ➞ [1]\n"
     ]
    }
   ],
   "source": [
    "#Ans\n",
    "def return_only_integer( lst ):\n",
    "    int_lst = []\n",
    "    for i in  lst:\n",
    "        if type(i) == int:\n",
    "            int_lst.append(i)\n",
    "    print(\"return_only_integer\",lst,\"➞\",int_lst)\n",
    "    \n",
    "return_only_integer([9, 2, \"space\", \"car\", \"lion\", 16])\n",
    "return_only_integer([\"hello\", 81, \"basketball\", 123, \"fox\"])\n",
    "return_only_integer([10, \"121\", 56, 20, \"car\", 3, \"lion\"])\n",
    "return_only_integer([\"String\",  True,  3.3,  1])"
   ]
  },
  {
   "cell_type": "code",
   "execution_count": null,
   "id": "acc9c3cc",
   "metadata": {},
   "outputs": [],
   "source": []
  }
 ],
 "metadata": {
  "kernelspec": {
   "display_name": "Python 3 (ipykernel)",
   "language": "python",
   "name": "python3"
  },
  "language_info": {
   "codemirror_mode": {
    "name": "ipython",
    "version": 3
   },
   "file_extension": ".py",
   "mimetype": "text/x-python",
   "name": "python",
   "nbconvert_exporter": "python",
   "pygments_lexer": "ipython3",
   "version": "3.11.5"
  }
 },
 "nbformat": 4,
 "nbformat_minor": 5
}
