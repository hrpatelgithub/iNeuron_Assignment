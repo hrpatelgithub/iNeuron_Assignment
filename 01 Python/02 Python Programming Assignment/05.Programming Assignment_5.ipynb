{
 "cells": [
  {
   "cell_type": "markdown",
   "id": "706e8d84",
   "metadata": {},
   "source": [
    "# 1. Write a Python Program to Find LCM?"
   ]
  },
  {
   "cell_type": "code",
   "execution_count": 3,
   "id": "35ffa8fa",
   "metadata": {},
   "outputs": [
    {
     "name": "stdout",
     "output_type": "stream",
     "text": [
      "enter a number10\n",
      "enter b number20\n",
      "LCM of 10 and 20 is 20\n"
     ]
    }
   ],
   "source": [
    "a = int(input(\"enter a number\"))\n",
    "b = int(input(\"enter b number\"))\n",
    "for c in range(1, a * b + 1):\n",
    "    if c % a == 0 and c % b == 0:\n",
    "        print(\"LCM of\", a, \"and\", b, \"is\", c)\n",
    "        break"
   ]
  },
  {
   "cell_type": "markdown",
   "id": "7a5f6789",
   "metadata": {},
   "source": [
    "# 2. Write a Python Program to find HCF ?\n"
   ]
  },
  {
   "cell_type": "code",
   "execution_count": 4,
   "id": "29da93ba",
   "metadata": {},
   "outputs": [
    {
     "name": "stdout",
     "output_type": "stream",
     "text": [
      "The HCF of 6,12 is 6\n",
      "The HCF of 2,3 is 1\n",
      "The HCF of 10,23 is 1\n"
     ]
    }
   ],
   "source": [
    "def findTheHcf(x_term,y_term):\n",
    "    if x_term>y_term:\n",
    "        smaller = y_term\n",
    "    else:\n",
    "        smaller = x_term\n",
    "    for ele in range(1,smaller+1):\n",
    "        if((x_term%ele == 0) and (y_term%ele == 0)):\n",
    "            hcf = ele\n",
    "    print(f'The HCF of {x_term},{y_term} is {hcf}')\n",
    "\n",
    "findTheHcf(6,12)\n",
    "findTheHcf(2,3)\n",
    "findTheHcf(10,23)\n",
    "\n",
    "\n"
   ]
  },
  {
   "cell_type": "markdown",
   "id": "f4bc70a5",
   "metadata": {},
   "source": [
    "# 3. Write a Python Program to Convert Decimal to Binary, Octal and Hexadecimal?"
   ]
  },
  {
   "cell_type": "code",
   "execution_count": 5,
   "id": "46bab393",
   "metadata": {},
   "outputs": [
    {
     "name": "stdout",
     "output_type": "stream",
     "text": [
      "Enter a number10\n",
      "Binary number of  10 is 0b1010\n",
      "Octal number of  10 is 0o12\n",
      "Hexadecimal number of  10 is 0xa\n"
     ]
    }
   ],
   "source": [
    "num=int(input(\"Enter a number\"))\n",
    "print(\"Binary number of \",num,\"is\",bin(num))\n",
    "print(\"Octal number of \",num,\"is\",oct(num))\n",
    "print(\"Hexadecimal number of \",num,\"is\",hex(num))"
   ]
  },
  {
   "cell_type": "markdown",
   "id": "3860d53e",
   "metadata": {},
   "source": [
    "# 4. Write a Python Program To Find ASCII value of a character?"
   ]
  },
  {
   "cell_type": "code",
   "execution_count": 7,
   "id": "03890ef2",
   "metadata": {},
   "outputs": [
    {
     "name": "stdout",
     "output_type": "stream",
     "text": [
      "Enter a character to find ASCII value 2\n",
      "ASCII value of  2 is 50\n"
     ]
    }
   ],
   "source": [
    "char=input(\"Enter a character to find ASCII value \")\n",
    "print(\"ASCII value of \",char,\"is\",ord(char))"
   ]
  },
  {
   "cell_type": "markdown",
   "id": "a999e608",
   "metadata": {},
   "source": [
    "# 5. Write a Python Program to Make a Simple Calculator with 4 basic mathematical operations?"
   ]
  },
  {
   "cell_type": "code",
   "execution_count": 8,
   "id": "867b8245",
   "metadata": {},
   "outputs": [
    {
     "name": "stdout",
     "output_type": "stream",
     "text": [
      "enter first number10\n",
      "enter second number20\n",
      "Enter operation to perform+\n",
      "Addition of 10.0 + 20.0 = 30.0\n",
      "Enter operation to perform,yes/nono\n"
     ]
    }
   ],
   "source": [
    "d = \"yes\"\n",
    "while d == \"yes\":\n",
    "    a = float(input(\"enter first number\"))\n",
    "    \n",
    "    b = float(input(\"enter second number\"))\n",
    "    c = input(\"Enter operation to perform\")\n",
    "    if c == \"*\":\n",
    "        print(\"Mutiplication of\", a, \"*\", b, \"=\", a * b)\n",
    "    elif c == \"-\":\n",
    "        print(\"menus of\", a, \"-\", b, \"=\", a - b)\n",
    "    elif c == \"+\":\n",
    "        print(\"Addition of\", a, \"+\", b, \"=\", a + b)\n",
    "    elif c == \"/\":\n",
    "        print(\"Division of\", a, \"/\", b, \"=\", a / b)\n",
    "    d=input(\"Enter operation to perform,yes/no\")"
   ]
  }
 ],
 "metadata": {
  "kernelspec": {
   "display_name": "Python 3 (ipykernel)",
   "language": "python",
   "name": "python3"
  },
  "language_info": {
   "codemirror_mode": {
    "name": "ipython",
    "version": 3
   },
   "file_extension": ".py",
   "mimetype": "text/x-python",
   "name": "python",
   "nbconvert_exporter": "python",
   "pygments_lexer": "ipython3",
   "version": "3.9.13"
  }
 },
 "nbformat": 4,
 "nbformat_minor": 5
}
